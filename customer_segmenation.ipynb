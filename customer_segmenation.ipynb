{
 "cells": [
  {
   "cell_type": "code",
   "execution_count": 39,
   "metadata": {
    "ExecuteTime": {
     "end_time": "2025-01-15T18:50:33.757269Z",
     "start_time": "2025-01-15T18:50:33.740269Z"
    }
   },
   "outputs": [],
   "source": [
    "import os\n",
    "import pandas as pd\n",
    "import matplotlib.pyplot as plt\n",
    "from sklearn.cluster import KMeans\n",
    "from sklearn.preprocessing import StandardScaler\n",
    "from sklearn.decomposition import PCA"
   ]
  },
  {
   "cell_type": "code",
   "execution_count": 14,
   "metadata": {
    "ExecuteTime": {
     "end_time": "2025-01-15T18:42:07.004291Z",
     "start_time": "2025-01-15T18:42:06.999291Z"
    }
   },
   "outputs": [],
   "source": [
    "# # Walk through \"data\" folder, printing directories and files \n",
    "# # to use their names for file paths\n",
    "\n",
    "# for root, dirs, files in os.walk(\"data\"):\n",
    "#     print(\"Current Directory:\", root)\n",
    "#     print()\n",
    "#     print(\"Subdirectories:\", dirs)\n",
    "#     print()\n",
    "#     print(\"Files:\", files)"
   ]
  },
  {
   "cell_type": "code",
   "execution_count": 15,
   "metadata": {
    "ExecuteTime": {
     "end_time": "2025-01-15T18:42:07.485437Z",
     "start_time": "2025-01-15T18:42:07.477465Z"
    }
   },
   "outputs": [],
   "source": [
    "main_dir = 'data/processed'\n",
    "file_name = 'customer_segmentation.csv'\n",
    "file_path = os.path.join(main_dir, file_name)"
   ]
  },
  {
   "cell_type": "code",
   "execution_count": 16,
   "metadata": {
    "ExecuteTime": {
     "end_time": "2025-01-15T18:42:07.887333Z",
     "start_time": "2025-01-15T18:42:07.878334Z"
    }
   },
   "outputs": [],
   "source": [
    "df = pd.read_csv(file_path, index_col='Customer ID')"
   ]
  },
  {
   "cell_type": "code",
   "execution_count": 17,
   "metadata": {
    "ExecuteTime": {
     "end_time": "2025-01-15T18:42:08.695107Z",
     "start_time": "2025-01-15T18:42:08.658987Z"
    }
   },
   "outputs": [
    {
     "data": {
      "text/html": [
       "<div>\n",
       "<style scoped>\n",
       "    .dataframe tbody tr th:only-of-type {\n",
       "        vertical-align: middle;\n",
       "    }\n",
       "\n",
       "    .dataframe tbody tr th {\n",
       "        vertical-align: top;\n",
       "    }\n",
       "\n",
       "    .dataframe thead th {\n",
       "        text-align: right;\n",
       "    }\n",
       "</style>\n",
       "<table border=\"1\" class=\"dataframe\">\n",
       "  <thead>\n",
       "    <tr style=\"text-align: right;\">\n",
       "      <th></th>\n",
       "      <th>Age</th>\n",
       "      <th>Total Spend</th>\n",
       "      <th>Items Purchased</th>\n",
       "      <th>Average Rating</th>\n",
       "      <th>Discount Applied</th>\n",
       "      <th>Days Since Last Purchase</th>\n",
       "      <th>Satisfaction Level</th>\n",
       "      <th>New_York_Young_Adults</th>\n",
       "      <th>New_York_Middle-aged_Adults</th>\n",
       "      <th>Los_Angeles_Young_Adults</th>\n",
       "      <th>...</th>\n",
       "      <th>Gender_Male</th>\n",
       "      <th>City_Chicago</th>\n",
       "      <th>City_Houston</th>\n",
       "      <th>City_Los Angeles</th>\n",
       "      <th>City_Miami</th>\n",
       "      <th>City_New York</th>\n",
       "      <th>City_San Francisco</th>\n",
       "      <th>Membership Type_Bronze</th>\n",
       "      <th>Membership Type_Gold</th>\n",
       "      <th>Membership Type_Silver</th>\n",
       "    </tr>\n",
       "    <tr>\n",
       "      <th>Customer ID</th>\n",
       "      <th></th>\n",
       "      <th></th>\n",
       "      <th></th>\n",
       "      <th></th>\n",
       "      <th></th>\n",
       "      <th></th>\n",
       "      <th></th>\n",
       "      <th></th>\n",
       "      <th></th>\n",
       "      <th></th>\n",
       "      <th></th>\n",
       "      <th></th>\n",
       "      <th></th>\n",
       "      <th></th>\n",
       "      <th></th>\n",
       "      <th></th>\n",
       "      <th></th>\n",
       "      <th></th>\n",
       "      <th></th>\n",
       "      <th></th>\n",
       "      <th></th>\n",
       "    </tr>\n",
       "  </thead>\n",
       "  <tbody>\n",
       "    <tr>\n",
       "      <th>101</th>\n",
       "      <td>0.176471</td>\n",
       "      <td>0.639502</td>\n",
       "      <td>0.500000</td>\n",
       "      <td>0.842105</td>\n",
       "      <td>1.0</td>\n",
       "      <td>0.296296</td>\n",
       "      <td>0.333333</td>\n",
       "      <td>1.0</td>\n",
       "      <td>0.0</td>\n",
       "      <td>0.0</td>\n",
       "      <td>...</td>\n",
       "      <td>0.0</td>\n",
       "      <td>0.0</td>\n",
       "      <td>0.0</td>\n",
       "      <td>0.0</td>\n",
       "      <td>0.0</td>\n",
       "      <td>1.0</td>\n",
       "      <td>0.0</td>\n",
       "      <td>0.0</td>\n",
       "      <td>1.0</td>\n",
       "      <td>0.0</td>\n",
       "    </tr>\n",
       "    <tr>\n",
       "      <th>102</th>\n",
       "      <td>0.470588</td>\n",
       "      <td>0.333273</td>\n",
       "      <td>0.285714</td>\n",
       "      <td>0.578947</td>\n",
       "      <td>0.0</td>\n",
       "      <td>0.166667</td>\n",
       "      <td>0.000000</td>\n",
       "      <td>0.0</td>\n",
       "      <td>0.0</td>\n",
       "      <td>0.0</td>\n",
       "      <td>...</td>\n",
       "      <td>1.0</td>\n",
       "      <td>0.0</td>\n",
       "      <td>0.0</td>\n",
       "      <td>1.0</td>\n",
       "      <td>0.0</td>\n",
       "      <td>0.0</td>\n",
       "      <td>0.0</td>\n",
       "      <td>0.0</td>\n",
       "      <td>0.0</td>\n",
       "      <td>1.0</td>\n",
       "    </tr>\n",
       "    <tr>\n",
       "      <th>103</th>\n",
       "      <td>1.000000</td>\n",
       "      <td>0.090102</td>\n",
       "      <td>0.142857</td>\n",
       "      <td>0.210526</td>\n",
       "      <td>1.0</td>\n",
       "      <td>0.611111</td>\n",
       "      <td>0.666667</td>\n",
       "      <td>0.0</td>\n",
       "      <td>0.0</td>\n",
       "      <td>0.0</td>\n",
       "      <td>...</td>\n",
       "      <td>0.0</td>\n",
       "      <td>1.0</td>\n",
       "      <td>0.0</td>\n",
       "      <td>0.0</td>\n",
       "      <td>0.0</td>\n",
       "      <td>0.0</td>\n",
       "      <td>0.0</td>\n",
       "      <td>1.0</td>\n",
       "      <td>0.0</td>\n",
       "      <td>0.0</td>\n",
       "    </tr>\n",
       "    <tr>\n",
       "      <th>104</th>\n",
       "      <td>0.235294</td>\n",
       "      <td>0.964122</td>\n",
       "      <td>0.857143</td>\n",
       "      <td>0.894737</td>\n",
       "      <td>0.0</td>\n",
       "      <td>0.055556</td>\n",
       "      <td>0.333333</td>\n",
       "      <td>0.0</td>\n",
       "      <td>0.0</td>\n",
       "      <td>0.0</td>\n",
       "      <td>...</td>\n",
       "      <td>1.0</td>\n",
       "      <td>0.0</td>\n",
       "      <td>0.0</td>\n",
       "      <td>0.0</td>\n",
       "      <td>0.0</td>\n",
       "      <td>0.0</td>\n",
       "      <td>1.0</td>\n",
       "      <td>0.0</td>\n",
       "      <td>1.0</td>\n",
       "      <td>0.0</td>\n",
       "    </tr>\n",
       "    <tr>\n",
       "      <th>105</th>\n",
       "      <td>0.058824</td>\n",
       "      <td>0.279095</td>\n",
       "      <td>0.428571</td>\n",
       "      <td>0.526316</td>\n",
       "      <td>1.0</td>\n",
       "      <td>0.851852</td>\n",
       "      <td>0.666667</td>\n",
       "      <td>0.0</td>\n",
       "      <td>0.0</td>\n",
       "      <td>0.0</td>\n",
       "      <td>...</td>\n",
       "      <td>1.0</td>\n",
       "      <td>0.0</td>\n",
       "      <td>0.0</td>\n",
       "      <td>0.0</td>\n",
       "      <td>1.0</td>\n",
       "      <td>0.0</td>\n",
       "      <td>0.0</td>\n",
       "      <td>0.0</td>\n",
       "      <td>0.0</td>\n",
       "      <td>1.0</td>\n",
       "    </tr>\n",
       "  </tbody>\n",
       "</table>\n",
       "<p>5 rows × 30 columns</p>\n",
       "</div>"
      ],
      "text/plain": [
       "                  Age  Total Spend  Items Purchased  Average Rating  \\\n",
       "Customer ID                                                           \n",
       "101          0.176471     0.639502         0.500000        0.842105   \n",
       "102          0.470588     0.333273         0.285714        0.578947   \n",
       "103          1.000000     0.090102         0.142857        0.210526   \n",
       "104          0.235294     0.964122         0.857143        0.894737   \n",
       "105          0.058824     0.279095         0.428571        0.526316   \n",
       "\n",
       "             Discount Applied  Days Since Last Purchase  Satisfaction Level  \\\n",
       "Customer ID                                                                   \n",
       "101                       1.0                  0.296296            0.333333   \n",
       "102                       0.0                  0.166667            0.000000   \n",
       "103                       1.0                  0.611111            0.666667   \n",
       "104                       0.0                  0.055556            0.333333   \n",
       "105                       1.0                  0.851852            0.666667   \n",
       "\n",
       "             New_York_Young_Adults  New_York_Middle-aged_Adults  \\\n",
       "Customer ID                                                       \n",
       "101                            1.0                          0.0   \n",
       "102                            0.0                          0.0   \n",
       "103                            0.0                          0.0   \n",
       "104                            0.0                          0.0   \n",
       "105                            0.0                          0.0   \n",
       "\n",
       "             Los_Angeles_Young_Adults  ...  Gender_Male  City_Chicago  \\\n",
       "Customer ID                            ...                              \n",
       "101                               0.0  ...          0.0           0.0   \n",
       "102                               0.0  ...          1.0           0.0   \n",
       "103                               0.0  ...          0.0           1.0   \n",
       "104                               0.0  ...          1.0           0.0   \n",
       "105                               0.0  ...          1.0           0.0   \n",
       "\n",
       "             City_Houston  City_Los Angeles  City_Miami  City_New York  \\\n",
       "Customer ID                                                              \n",
       "101                   0.0               0.0         0.0            1.0   \n",
       "102                   0.0               1.0         0.0            0.0   \n",
       "103                   0.0               0.0         0.0            0.0   \n",
       "104                   0.0               0.0         0.0            0.0   \n",
       "105                   0.0               0.0         1.0            0.0   \n",
       "\n",
       "             City_San Francisco  Membership Type_Bronze  Membership Type_Gold  \\\n",
       "Customer ID                                                                     \n",
       "101                         0.0                     0.0                   1.0   \n",
       "102                         0.0                     0.0                   0.0   \n",
       "103                         0.0                     1.0                   0.0   \n",
       "104                         1.0                     0.0                   1.0   \n",
       "105                         0.0                     0.0                   0.0   \n",
       "\n",
       "             Membership Type_Silver  \n",
       "Customer ID                          \n",
       "101                             0.0  \n",
       "102                             1.0  \n",
       "103                             0.0  \n",
       "104                             0.0  \n",
       "105                             1.0  \n",
       "\n",
       "[5 rows x 30 columns]"
      ]
     },
     "execution_count": 17,
     "metadata": {},
     "output_type": "execute_result"
    }
   ],
   "source": [
    "df.head()"
   ]
  },
  {
   "cell_type": "code",
   "execution_count": 18,
   "metadata": {
    "ExecuteTime": {
     "end_time": "2025-01-15T18:42:31.748938Z",
     "start_time": "2025-01-15T18:42:31.735935Z"
    }
   },
   "outputs": [],
   "source": [
    "# Remove columns that might not be useful for clustering (e.g., IDs)\n",
    "# If \"Customer ID\" is the index, it's already excluded\n",
    "X = df.values"
   ]
  },
  {
   "cell_type": "code",
   "execution_count": 22,
   "metadata": {
    "ExecuteTime": {
     "end_time": "2025-01-15T18:43:08.185248Z",
     "start_time": "2025-01-15T18:43:08.166243Z"
    }
   },
   "outputs": [],
   "source": [
    "# Standardize the data for better clustering performance\n",
    "scaler = StandardScaler()\n",
    "X_scaled = scaler.fit_transform(X)"
   ]
  },
  {
   "cell_type": "code",
   "execution_count": 25,
   "metadata": {
    "ExecuteTime": {
     "end_time": "2025-01-15T18:43:55.065844Z",
     "start_time": "2025-01-15T18:43:54.727411Z"
    }
   },
   "outputs": [
    {
     "name": "stderr",
     "output_type": "stream",
     "text": [
      "C:\\Users\\user\\anaconda3\\lib\\site-packages\\sklearn\\cluster\\_kmeans.py:1440: UserWarning: KMeans is known to have a memory leak on Windows with MKL, when there are less chunks than available threads. You can avoid it by setting the environment variable OMP_NUM_THREADS=2.\n",
      "  warnings.warn(\n",
      "C:\\Users\\user\\anaconda3\\lib\\site-packages\\sklearn\\cluster\\_kmeans.py:1440: UserWarning: KMeans is known to have a memory leak on Windows with MKL, when there are less chunks than available threads. You can avoid it by setting the environment variable OMP_NUM_THREADS=2.\n",
      "  warnings.warn(\n",
      "C:\\Users\\user\\anaconda3\\lib\\site-packages\\sklearn\\cluster\\_kmeans.py:1440: UserWarning: KMeans is known to have a memory leak on Windows with MKL, when there are less chunks than available threads. You can avoid it by setting the environment variable OMP_NUM_THREADS=2.\n",
      "  warnings.warn(\n",
      "C:\\Users\\user\\anaconda3\\lib\\site-packages\\sklearn\\cluster\\_kmeans.py:1440: UserWarning: KMeans is known to have a memory leak on Windows with MKL, when there are less chunks than available threads. You can avoid it by setting the environment variable OMP_NUM_THREADS=2.\n",
      "  warnings.warn(\n",
      "C:\\Users\\user\\anaconda3\\lib\\site-packages\\sklearn\\cluster\\_kmeans.py:1440: UserWarning: KMeans is known to have a memory leak on Windows with MKL, when there are less chunks than available threads. You can avoid it by setting the environment variable OMP_NUM_THREADS=2.\n",
      "  warnings.warn(\n",
      "C:\\Users\\user\\anaconda3\\lib\\site-packages\\sklearn\\cluster\\_kmeans.py:1440: UserWarning: KMeans is known to have a memory leak on Windows with MKL, when there are less chunks than available threads. You can avoid it by setting the environment variable OMP_NUM_THREADS=2.\n",
      "  warnings.warn(\n",
      "C:\\Users\\user\\anaconda3\\lib\\site-packages\\sklearn\\cluster\\_kmeans.py:1440: UserWarning: KMeans is known to have a memory leak on Windows with MKL, when there are less chunks than available threads. You can avoid it by setting the environment variable OMP_NUM_THREADS=2.\n",
      "  warnings.warn(\n",
      "C:\\Users\\user\\anaconda3\\lib\\site-packages\\sklearn\\cluster\\_kmeans.py:1440: UserWarning: KMeans is known to have a memory leak on Windows with MKL, when there are less chunks than available threads. You can avoid it by setting the environment variable OMP_NUM_THREADS=2.\n",
      "  warnings.warn(\n",
      "C:\\Users\\user\\anaconda3\\lib\\site-packages\\sklearn\\cluster\\_kmeans.py:1440: UserWarning: KMeans is known to have a memory leak on Windows with MKL, when there are less chunks than available threads. You can avoid it by setting the environment variable OMP_NUM_THREADS=2.\n",
      "  warnings.warn(\n",
      "C:\\Users\\user\\anaconda3\\lib\\site-packages\\sklearn\\cluster\\_kmeans.py:1440: UserWarning: KMeans is known to have a memory leak on Windows with MKL, when there are less chunks than available threads. You can avoid it by setting the environment variable OMP_NUM_THREADS=2.\n",
      "  warnings.warn(\n"
     ]
    },
    {
     "data": {
      "image/png": "[encoded data removed]",
      "text/plain": [
       "<Figure size 576x360 with 1 Axes>"
      ]
     },
     "metadata": {
      "needs_background": "light"
     },
     "output_type": "display_data"
    }
   ],
   "source": [
    "wcss = []  # Within-cluster sum of squares\n",
    "\n",
    "for k in range(1, 11):  # Testing for k = 1 to 10\n",
    "    kmeans = KMeans(n_clusters=k, random_state=42, n_init=10, max_iter=300)\n",
    "    kmeans.fit(X_scaled)\n",
    "    wcss.append(kmeans.inertia_)  # Append WCSS for each k\n",
    "\n",
    "# Plot the elbow graph\n",
    "plt.figure(figsize=(8, 5))\n",
    "plt.plot(range(1, 11), wcss, marker='o', linestyle='--')\n",
    "plt.title('The Elbow Method')\n",
    "plt.xlabel('Number of Clusters (k)')\n",
    "plt.ylabel('WCSS')\n",
    "plt.xticks(range(1, 11))\n",
    "plt.grid()\n",
    "plt.show()"
   ]
  },
  {
   "cell_type": "code",
   "execution_count": 62,
   "metadata": {
    "ExecuteTime": {
     "end_time": "2025-01-15T18:59:57.657896Z",
     "start_time": "2025-01-15T18:59:57.613449Z"
    }
   },
   "outputs": [
    {
     "name": "stderr",
     "output_type": "stream",
     "text": [
      "C:\\Users\\user\\anaconda3\\lib\\site-packages\\sklearn\\cluster\\_kmeans.py:1440: UserWarning: KMeans is known to have a memory leak on Windows with MKL, when there are less chunks than available threads. You can avoid it by setting the environment variable OMP_NUM_THREADS=2.\n",
      "  warnings.warn(\n"
     ]
    },
    {
     "data": {
      "text/html": [
       "<style>#sk-container-id-5 {color: black;}#sk-container-id-5 pre{padding: 0;}#sk-container-id-5 div.sk-toggleable {background-color: white;}#sk-container-id-5 label.sk-toggleable__label {cursor: pointer;display: block;width: 100%;margin-bottom: 0;padding: 0.3em;box-sizing: border-box;text-align: center;}#sk-container-id-5 label.sk-toggleable__label-arrow:before {content: \"▸\";float: left;margin-right: 0.25em;color: #696969;}#sk-container-id-5 label.sk-toggleable__label-arrow:hover:before {color: black;}#sk-container-id-5 div.sk-estimator:hover label.sk-toggleable__label-arrow:before {color: black;}#sk-container-id-5 div.sk-toggleable__content {max-height: 0;max-width: 0;overflow: hidden;text-align: left;background-color: #f0f8ff;}#sk-container-id-5 div.sk-toggleable__content pre {margin: 0.2em;color: black;border-radius: 0.25em;background-color: #f0f8ff;}#sk-container-id-5 input.sk-toggleable__control:checked~div.sk-toggleable__content {max-height: 200px;max-width: 100%;overflow: auto;}#sk-container-id-5 input.sk-toggleable__control:checked~label.sk-toggleable__label-arrow:before {content: \"▾\";}#sk-container-id-5 div.sk-estimator input.sk-toggleable__control:checked~label.sk-toggleable__label {background-color: #d4ebff;}#sk-container-id-5 div.sk-label input.sk-toggleable__control:checked~label.sk-toggleable__label {background-color: #d4ebff;}#sk-container-id-5 input.sk-hidden--visually {border: 0;clip: rect(1px 1px 1px 1px);clip: rect(1px, 1px, 1px, 1px);height: 1px;margin: -1px;overflow: hidden;padding: 0;position: absolute;width: 1px;}#sk-container-id-5 div.sk-estimator {font-family: monospace;background-color: #f0f8ff;border: 1px dotted black;border-radius: 0.25em;box-sizing: border-box;margin-bottom: 0.5em;}#sk-container-id-5 div.sk-estimator:hover {background-color: #d4ebff;}#sk-container-id-5 div.sk-parallel-item::after {content: \"\";width: 100%;border-bottom: 1px solid gray;flex-grow: 1;}#sk-container-id-5 div.sk-label:hover label.sk-toggleable__label {background-color: #d4ebff;}#sk-container-id-5 div.sk-serial::before {content: \"\";position: absolute;border-left: 1px solid gray;box-sizing: border-box;top: 0;bottom: 0;left: 50%;z-index: 0;}#sk-container-id-5 div.sk-serial {display: flex;flex-direction: column;align-items: center;background-color: white;padding-right: 0.2em;padding-left: 0.2em;position: relative;}#sk-container-id-5 div.sk-item {position: relative;z-index: 1;}#sk-container-id-5 div.sk-parallel {display: flex;align-items: stretch;justify-content: center;background-color: white;position: relative;}#sk-container-id-5 div.sk-item::before, #sk-container-id-5 div.sk-parallel-item::before {content: \"\";position: absolute;border-left: 1px solid gray;box-sizing: border-box;top: 0;bottom: 0;left: 50%;z-index: -1;}#sk-container-id-5 div.sk-parallel-item {display: flex;flex-direction: column;z-index: 1;position: relative;background-color: white;}#sk-container-id-5 div.sk-parallel-item:first-child::after {align-self: flex-end;width: 50%;}#sk-container-id-5 div.sk-parallel-item:last-child::after {align-self: flex-start;width: 50%;}#sk-container-id-5 div.sk-parallel-item:only-child::after {width: 0;}#sk-container-id-5 div.sk-dashed-wrapped {border: 1px dashed gray;margin: 0 0.4em 0.5em 0.4em;box-sizing: border-box;padding-bottom: 0.4em;background-color: white;}#sk-container-id-5 div.sk-label label {font-family: monospace;font-weight: bold;display: inline-block;line-height: 1.2em;}#sk-container-id-5 div.sk-label-container {text-align: center;}#sk-container-id-5 div.sk-container {/* jupyter's `normalize.less` sets `[hidden] { display: none; }` but bootstrap.min.css set `[hidden] { display: none !important; }` so we also need the `!important` here to be able to override the default hidden behavior on the sphinx rendered scikit-learn.org. See: https://github.com/scikit-learn/scikit-learn/issues/21755 */display: inline-block !important;position: relative;}#sk-container-id-5 div.sk-text-repr-fallback {display: none;}</style><div id=\"sk-container-id-5\" class=\"sk-top-container\"><div class=\"sk-text-repr-fallback\"><pre>KMeans(n_clusters=5, n_init=10, random_state=42)</pre><b>In a Jupyter environment, please rerun this cell to show the HTML representation or trust the notebook. <br />On GitHub, the HTML representation is unable to render, please try loading this page with nbviewer.org.</b></div><div class=\"sk-container\" hidden><div class=\"sk-item\"><div class=\"sk-estimator sk-toggleable\"><input class=\"sk-toggleable__control sk-hidden--visually\" id=\"sk-estimator-id-5\" type=\"checkbox\" checked><label for=\"sk-estimator-id-5\" class=\"sk-toggleable__label sk-toggleable__label-arrow\">KMeans</label><div class=\"sk-toggleable__content\"><pre>KMeans(n_clusters=5, n_init=10, random_state=42)</pre></div></div></div></div></div>"
      ],
      "text/plain": [
       "KMeans(n_clusters=5, n_init=10, random_state=42)"
      ]
     },
     "execution_count": 62,
     "metadata": {},
     "output_type": "execute_result"
    }
   ],
   "source": [
    "# Step 1: Apply K-Means with k=6\n",
    "kmeans = KMeans(n_clusters=5, random_state=42, n_init=10, max_iter=300)\n",
    "kmeans.fit(X_scaled)"
   ]
  },
  {
   "cell_type": "code",
   "execution_count": 63,
   "metadata": {
    "ExecuteTime": {
     "end_time": "2025-01-15T18:59:57.981598Z",
     "start_time": "2025-01-15T18:59:57.974322Z"
    }
   },
   "outputs": [],
   "source": [
    "# Step 2: Add cluster labels to the original data\n",
    "df['Cluster'] = kmeans.labels_"
   ]
  },
  {
   "cell_type": "code",
   "execution_count": 64,
   "metadata": {
    "ExecuteTime": {
     "end_time": "2025-01-15T18:59:58.308261Z",
     "start_time": "2025-01-15T18:59:58.300226Z"
    }
   },
   "outputs": [
    {
     "name": "stdout",
     "output_type": "stream",
     "text": [
      "Cluster Sizes:\n",
      "Cluster\n",
      "0    116\n",
      "4     59\n",
      "3     59\n",
      "1     58\n",
      "2     58\n",
      "Name: count, dtype: int64\n"
     ]
    }
   ],
   "source": [
    "# Step 3: Analyze Clusters\n",
    "# View cluster sizes\n",
    "print(\"Cluster Sizes:\")\n",
    "print(df['Cluster'].value_counts())"
   ]
  },
  {
   "cell_type": "code",
   "execution_count": 65,
   "metadata": {
    "ExecuteTime": {
     "end_time": "2025-01-15T18:59:58.696444Z",
     "start_time": "2025-01-15T18:59:58.678025Z"
    }
   },
   "outputs": [
    {
     "name": "stdout",
     "output_type": "stream",
     "text": [
      "\n",
      "Cluster Means:\n",
      "              Age  Total Spend  Items Purchased  Average Rating  \\\n",
      "Cluster                                                           \n",
      "0        0.786004     0.056422         0.106527        0.171053   \n",
      "1        0.183570     0.945617         0.928571        0.951906   \n",
      "2        0.173428     0.252042         0.331281        0.488203   \n",
      "3        0.477567     0.355802         0.334140        0.617306   \n",
      "4        0.277168     0.679920         0.590799        0.812667   \n",
      "\n",
      "         Discount Applied  Days Since Last Purchase  Satisfaction Level  \\\n",
      "Cluster                                                                   \n",
      "0                     0.5                  0.418742            0.350575   \n",
      "1                     0.0                  0.040230            0.333333   \n",
      "2                     1.0                  0.675926            0.666667   \n",
      "3                     0.0                  0.116133            0.045198   \n",
      "4                     1.0                  0.288763            0.333333   \n",
      "\n",
      "         New_York_Young_Adults  New_York_Middle-aged_Adults  \\\n",
      "Cluster                                                       \n",
      "0                     0.000000                     0.000000   \n",
      "1                     0.000000                     0.000000   \n",
      "2                     0.000000                     0.000000   \n",
      "3                     0.000000                     0.000000   \n",
      "4                     0.423729                     0.576271   \n",
      "\n",
      "         Los_Angeles_Young_Adults  ...  Gender_Male  City_Chicago  \\\n",
      "Cluster                            ...                              \n",
      "0                        0.000000  ...     0.000000           0.5   \n",
      "1                        0.000000  ...     1.000000           0.0   \n",
      "2                        0.000000  ...     0.982759           0.0   \n",
      "3                        0.016949  ...     1.000000           0.0   \n",
      "4                        0.000000  ...     0.016949           0.0   \n",
      "\n",
      "         City_Houston  City_Los Angeles  City_Miami  City_New York  \\\n",
      "Cluster                                                              \n",
      "0                 0.5               0.0         0.0            0.0   \n",
      "1                 0.0               0.0         0.0            0.0   \n",
      "2                 0.0               0.0         1.0            0.0   \n",
      "3                 0.0               1.0         0.0            0.0   \n",
      "4                 0.0               0.0         0.0            1.0   \n",
      "\n",
      "         City_San Francisco  Membership Type_Bronze  Membership Type_Gold  \\\n",
      "Cluster                                                                     \n",
      "0                       0.0                     1.0                   0.0   \n",
      "1                       1.0                     0.0                   1.0   \n",
      "2                       0.0                     0.0                   0.0   \n",
      "3                       0.0                     0.0                   0.0   \n",
      "4                       0.0                     0.0                   1.0   \n",
      "\n",
      "         Membership Type_Silver  \n",
      "Cluster                          \n",
      "0                           0.0  \n",
      "1                           0.0  \n",
      "2                           1.0  \n",
      "3                           1.0  \n",
      "4                           0.0  \n",
      "\n",
      "[5 rows x 30 columns]\n"
     ]
    }
   ],
   "source": [
    "# View cluster centroids\n",
    "print(\"\\nCluster Means:\")\n",
    "print(df.groupby('Cluster').mean())"
   ]
  },
  {
   "cell_type": "code",
   "execution_count": 66,
   "metadata": {
    "ExecuteTime": {
     "end_time": "2025-01-15T18:59:59.054933Z",
     "start_time": "2025-01-15T18:59:59.044778Z"
    }
   },
   "outputs": [],
   "source": [
    "# Step 4: Optional Visualization\n",
    "# Reduce dimensions for plotting (2D visualization using PCA)\n",
    "pca = PCA(n_components=2)\n",
    "X_pca = pca.fit_transform(X_scaled)"
   ]
  },
  {
   "cell_type": "code",
   "execution_count": 67,
   "metadata": {
    "ExecuteTime": {
     "end_time": "2025-01-15T18:59:59.743323Z",
     "start_time": "2025-01-15T18:59:59.418345Z"
    }
   },
   "outputs": [
    {
     "data": {
      "image/png": "[encoded data removed]",
      "text/plain": [
       "<Figure size 576x432 with 1 Axes>"
      ]
     },
     "metadata": {
      "needs_background": "light"
     },
     "output_type": "display_data"
    }
   ],
   "source": [
    "# Plot the clusters\n",
    "plt.figure(figsize=(8, 6))\n",
    "for cluster in range(6):\n",
    "    plt.scatter(X_pca[df['Cluster'] == cluster, 0], \n",
    "                X_pca[df['Cluster'] == cluster, 1], \n",
    "                label=f'Cluster {cluster}')\n",
    "\n",
    "plt.scatter(kmeans.cluster_centers_[:, 0], kmeans.cluster_centers_[:, 1], \n",
    "            s=200, c='red', marker='X', label='Centroids')\n",
    "\n",
    "plt.title('Clusters Visualization (PCA Reduced to 2D)')\n",
    "plt.xlabel('PCA Component 1')\n",
    "plt.ylabel('PCA Component 2')\n",
    "plt.legend()\n",
    "plt.grid()\n",
    "plt.show()"
   ]
  },
  {
   "cell_type": "code",
   "execution_count": null,
   "metadata": {},
   "outputs": [],
   "source": []
  }
 ],
 "metadata": {
  "kernelspec": {
   "display_name": "Python 3",
   "language": "python",
   "name": "python3"
  },
  "language_info": {
   "codemirror_mode": {
    "name": "ipython",
    "version": 3
   },
   "file_extension": ".py",
   "mimetype": "text/x-python",
   "name": "python",
   "nbconvert_exporter": "python",
   "pygments_lexer": "ipython3",
   "version": "3.8.5"
  },
  "toc": {
   "base_numbering": 1,
   "nav_menu": {},
   "number_sections": true,
   "sideBar": true,
   "skip_h1_title": false,
   "title_cell": "Table of Contents",
   "title_sidebar": "Contents",
   "toc_cell": false,
   "toc_position": {},
   "toc_section_display": true,
   "toc_window_display": false
  }
 },
 "nbformat": 4,
 "nbformat_minor": 4
}
