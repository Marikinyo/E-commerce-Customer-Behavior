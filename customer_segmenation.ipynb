{
 "cells": [
  {
   "cell_type": "code",
   "execution_count": 1,
   "metadata": {
    "ExecuteTime": {
     "end_time": "2025-01-16T11:17:37.821248Z",
     "start_time": "2025-01-16T11:17:36.749401Z"
    }
   },
   "outputs": [
    {
     "name": "stderr",
     "output_type": "stream",
     "text": [
      "C:\\Users\\user\\anaconda3\\lib\\site-packages\\pandas\\core\\computation\\expressions.py:20: UserWarning: Pandas requires version '2.7.3' or newer of 'numexpr' (version '2.7.1' currently installed).\n",
      "  from pandas.core.computation.check import NUMEXPR_INSTALLED\n"
     ]
    }
   ],
   "source": [
    "import os\n",
    "import pandas as pd\n",
    "import matplotlib.pyplot as plt\n",
    "from sklearn.cluster import KMeans\n",
    "from sklearn.preprocessing import StandardScaler\n",
    "from sklearn.decomposition import PCA\n",
    "import numpy as np\n",
    "import pandas as pd\n",
    "from sklearn.cluster import KMeans\n",
    "import matplotlib.pyplot as plt\n",
    "from sklearn.metrics import silhouette_score\n"
   ]
  },
  {
   "cell_type": "code",
   "execution_count": 2,
   "metadata": {
    "ExecuteTime": {
     "end_time": "2025-01-16T11:17:37.826178Z",
     "start_time": "2025-01-16T11:17:37.823095Z"
    }
   },
   "outputs": [],
   "source": [
    "# # Walk through \"data\" folder, printing directories and files \n",
    "# # to use their names for file paths\n",
    "\n",
    "# for root, dirs, files in os.walk(\"data\"):\n",
    "#     print(\"Current Directory:\", root)\n",
    "#     print()\n",
    "#     print(\"Subdirectories:\", dirs)\n",
    "#     print()\n",
    "#     print(\"Files:\", files)"
   ]
  },
  {
   "cell_type": "code",
   "execution_count": 3,
   "metadata": {
    "ExecuteTime": {
     "end_time": "2025-01-16T11:17:37.843922Z",
     "start_time": "2025-01-16T11:17:37.829113Z"
    }
   },
   "outputs": [],
   "source": [
    "main_dir = 'data/processed'\n",
    "file_name = 'customer_segmentation.csv'\n",
    "file_path = os.path.join(main_dir, file_name)"
   ]
  },
  {
   "cell_type": "code",
   "execution_count": 4,
   "metadata": {
    "ExecuteTime": {
     "end_time": "2025-01-16T11:17:37.862613Z",
     "start_time": "2025-01-16T11:17:37.845922Z"
    }
   },
   "outputs": [],
   "source": [
    "df = pd.read_csv(file_path, index_col='Customer ID')"
   ]
  },
  {
   "cell_type": "code",
   "execution_count": 5,
   "metadata": {
    "ExecuteTime": {
     "end_time": "2025-01-16T11:17:37.895849Z",
     "start_time": "2025-01-16T11:17:37.863486Z"
    },
    "scrolled": true
   },
   "outputs": [
    {
     "data": {
      "text/html": [
       "<div>\n",
       "<style scoped>\n",
       "    .dataframe tbody tr th:only-of-type {\n",
       "        vertical-align: middle;\n",
       "    }\n",
       "\n",
       "    .dataframe tbody tr th {\n",
       "        vertical-align: top;\n",
       "    }\n",
       "\n",
       "    .dataframe thead th {\n",
       "        text-align: right;\n",
       "    }\n",
       "</style>\n",
       "<table border=\"1\" class=\"dataframe\">\n",
       "  <thead>\n",
       "    <tr style=\"text-align: right;\">\n",
       "      <th></th>\n",
       "      <th>Age</th>\n",
       "      <th>Total Spend</th>\n",
       "      <th>Items Purchased</th>\n",
       "      <th>Average Rating</th>\n",
       "      <th>Discount Applied</th>\n",
       "      <th>Days Since Last Purchase</th>\n",
       "      <th>Satisfaction Level</th>\n",
       "      <th>New_York_Young_Adults</th>\n",
       "      <th>New_York_Middle-aged_Adults</th>\n",
       "      <th>Los_Angeles_Young_Adults</th>\n",
       "      <th>...</th>\n",
       "      <th>Gender_Male</th>\n",
       "      <th>City_Chicago</th>\n",
       "      <th>City_Houston</th>\n",
       "      <th>City_Los Angeles</th>\n",
       "      <th>City_Miami</th>\n",
       "      <th>City_New York</th>\n",
       "      <th>City_San Francisco</th>\n",
       "      <th>Membership Type_Bronze</th>\n",
       "      <th>Membership Type_Gold</th>\n",
       "      <th>Membership Type_Silver</th>\n",
       "    </tr>\n",
       "    <tr>\n",
       "      <th>Customer ID</th>\n",
       "      <th></th>\n",
       "      <th></th>\n",
       "      <th></th>\n",
       "      <th></th>\n",
       "      <th></th>\n",
       "      <th></th>\n",
       "      <th></th>\n",
       "      <th></th>\n",
       "      <th></th>\n",
       "      <th></th>\n",
       "      <th></th>\n",
       "      <th></th>\n",
       "      <th></th>\n",
       "      <th></th>\n",
       "      <th></th>\n",
       "      <th></th>\n",
       "      <th></th>\n",
       "      <th></th>\n",
       "      <th></th>\n",
       "      <th></th>\n",
       "      <th></th>\n",
       "    </tr>\n",
       "  </thead>\n",
       "  <tbody>\n",
       "    <tr>\n",
       "      <th>101</th>\n",
       "      <td>0.176471</td>\n",
       "      <td>0.639502</td>\n",
       "      <td>0.500000</td>\n",
       "      <td>0.842105</td>\n",
       "      <td>1.0</td>\n",
       "      <td>0.296296</td>\n",
       "      <td>0.333333</td>\n",
       "      <td>1.0</td>\n",
       "      <td>0.0</td>\n",
       "      <td>0.0</td>\n",
       "      <td>...</td>\n",
       "      <td>0.0</td>\n",
       "      <td>0.0</td>\n",
       "      <td>0.0</td>\n",
       "      <td>0.0</td>\n",
       "      <td>0.0</td>\n",
       "      <td>1.0</td>\n",
       "      <td>0.0</td>\n",
       "      <td>0.0</td>\n",
       "      <td>1.0</td>\n",
       "      <td>0.0</td>\n",
       "    </tr>\n",
       "    <tr>\n",
       "      <th>102</th>\n",
       "      <td>0.470588</td>\n",
       "      <td>0.333273</td>\n",
       "      <td>0.285714</td>\n",
       "      <td>0.578947</td>\n",
       "      <td>0.0</td>\n",
       "      <td>0.166667</td>\n",
       "      <td>0.000000</td>\n",
       "      <td>0.0</td>\n",
       "      <td>0.0</td>\n",
       "      <td>0.0</td>\n",
       "      <td>...</td>\n",
       "      <td>1.0</td>\n",
       "      <td>0.0</td>\n",
       "      <td>0.0</td>\n",
       "      <td>1.0</td>\n",
       "      <td>0.0</td>\n",
       "      <td>0.0</td>\n",
       "      <td>0.0</td>\n",
       "      <td>0.0</td>\n",
       "      <td>0.0</td>\n",
       "      <td>1.0</td>\n",
       "    </tr>\n",
       "    <tr>\n",
       "      <th>103</th>\n",
       "      <td>1.000000</td>\n",
       "      <td>0.090102</td>\n",
       "      <td>0.142857</td>\n",
       "      <td>0.210526</td>\n",
       "      <td>1.0</td>\n",
       "      <td>0.611111</td>\n",
       "      <td>0.666667</td>\n",
       "      <td>0.0</td>\n",
       "      <td>0.0</td>\n",
       "      <td>0.0</td>\n",
       "      <td>...</td>\n",
       "      <td>0.0</td>\n",
       "      <td>1.0</td>\n",
       "      <td>0.0</td>\n",
       "      <td>0.0</td>\n",
       "      <td>0.0</td>\n",
       "      <td>0.0</td>\n",
       "      <td>0.0</td>\n",
       "      <td>1.0</td>\n",
       "      <td>0.0</td>\n",
       "      <td>0.0</td>\n",
       "    </tr>\n",
       "    <tr>\n",
       "      <th>104</th>\n",
       "      <td>0.235294</td>\n",
       "      <td>0.964122</td>\n",
       "      <td>0.857143</td>\n",
       "      <td>0.894737</td>\n",
       "      <td>0.0</td>\n",
       "      <td>0.055556</td>\n",
       "      <td>0.333333</td>\n",
       "      <td>0.0</td>\n",
       "      <td>0.0</td>\n",
       "      <td>0.0</td>\n",
       "      <td>...</td>\n",
       "      <td>1.0</td>\n",
       "      <td>0.0</td>\n",
       "      <td>0.0</td>\n",
       "      <td>0.0</td>\n",
       "      <td>0.0</td>\n",
       "      <td>0.0</td>\n",
       "      <td>1.0</td>\n",
       "      <td>0.0</td>\n",
       "      <td>1.0</td>\n",
       "      <td>0.0</td>\n",
       "    </tr>\n",
       "    <tr>\n",
       "      <th>105</th>\n",
       "      <td>0.058824</td>\n",
       "      <td>0.279095</td>\n",
       "      <td>0.428571</td>\n",
       "      <td>0.526316</td>\n",
       "      <td>1.0</td>\n",
       "      <td>0.851852</td>\n",
       "      <td>0.666667</td>\n",
       "      <td>0.0</td>\n",
       "      <td>0.0</td>\n",
       "      <td>0.0</td>\n",
       "      <td>...</td>\n",
       "      <td>1.0</td>\n",
       "      <td>0.0</td>\n",
       "      <td>0.0</td>\n",
       "      <td>0.0</td>\n",
       "      <td>1.0</td>\n",
       "      <td>0.0</td>\n",
       "      <td>0.0</td>\n",
       "      <td>0.0</td>\n",
       "      <td>0.0</td>\n",
       "      <td>1.0</td>\n",
       "    </tr>\n",
       "  </tbody>\n",
       "</table>\n",
       "<p>5 rows × 30 columns</p>\n",
       "</div>"
      ],
      "text/plain": [
       "                  Age  Total Spend  Items Purchased  Average Rating  \\\n",
       "Customer ID                                                           \n",
       "101          0.176471     0.639502         0.500000        0.842105   \n",
       "102          0.470588     0.333273         0.285714        0.578947   \n",
       "103          1.000000     0.090102         0.142857        0.210526   \n",
       "104          0.235294     0.964122         0.857143        0.894737   \n",
       "105          0.058824     0.279095         0.428571        0.526316   \n",
       "\n",
       "             Discount Applied  Days Since Last Purchase  Satisfaction Level  \\\n",
       "Customer ID                                                                   \n",
       "101                       1.0                  0.296296            0.333333   \n",
       "102                       0.0                  0.166667            0.000000   \n",
       "103                       1.0                  0.611111            0.666667   \n",
       "104                       0.0                  0.055556            0.333333   \n",
       "105                       1.0                  0.851852            0.666667   \n",
       "\n",
       "             New_York_Young_Adults  New_York_Middle-aged_Adults  \\\n",
       "Customer ID                                                       \n",
       "101                            1.0                          0.0   \n",
       "102                            0.0                          0.0   \n",
       "103                            0.0                          0.0   \n",
       "104                            0.0                          0.0   \n",
       "105                            0.0                          0.0   \n",
       "\n",
       "             Los_Angeles_Young_Adults  ...  Gender_Male  City_Chicago  \\\n",
       "Customer ID                            ...                              \n",
       "101                               0.0  ...          0.0           0.0   \n",
       "102                               0.0  ...          1.0           0.0   \n",
       "103                               0.0  ...          0.0           1.0   \n",
       "104                               0.0  ...          1.0           0.0   \n",
       "105                               0.0  ...          1.0           0.0   \n",
       "\n",
       "             City_Houston  City_Los Angeles  City_Miami  City_New York  \\\n",
       "Customer ID                                                              \n",
       "101                   0.0               0.0         0.0            1.0   \n",
       "102                   0.0               1.0         0.0            0.0   \n",
       "103                   0.0               0.0         0.0            0.0   \n",
       "104                   0.0               0.0         0.0            0.0   \n",
       "105                   0.0               0.0         1.0            0.0   \n",
       "\n",
       "             City_San Francisco  Membership Type_Bronze  Membership Type_Gold  \\\n",
       "Customer ID                                                                     \n",
       "101                         0.0                     0.0                   1.0   \n",
       "102                         0.0                     0.0                   0.0   \n",
       "103                         0.0                     1.0                   0.0   \n",
       "104                         1.0                     0.0                   1.0   \n",
       "105                         0.0                     0.0                   0.0   \n",
       "\n",
       "             Membership Type_Silver  \n",
       "Customer ID                          \n",
       "101                             0.0  \n",
       "102                             1.0  \n",
       "103                             0.0  \n",
       "104                             0.0  \n",
       "105                             1.0  \n",
       "\n",
       "[5 rows x 30 columns]"
      ]
     },
     "execution_count": 5,
     "metadata": {},
     "output_type": "execute_result"
    }
   ],
   "source": [
    "df.head()"
   ]
  },
  {
   "cell_type": "markdown",
   "metadata": {},
   "source": [
    "# use Elbow Method and Silhouette "
   ]
  },
  {
   "cell_type": "code",
   "execution_count": 6,
   "metadata": {
    "ExecuteTime": {
     "end_time": "2025-01-16T11:17:38.576077Z",
     "start_time": "2025-01-16T11:17:37.897802Z"
    }
   },
   "outputs": [
    {
     "name": "stderr",
     "output_type": "stream",
     "text": [
      "C:\\Users\\user\\anaconda3\\lib\\site-packages\\sklearn\\cluster\\_kmeans.py:1440: UserWarning: KMeans is known to have a memory leak on Windows with MKL, when there are less chunks than available threads. You can avoid it by setting the environment variable OMP_NUM_THREADS=2.\n",
      "  warnings.warn(\n",
      "C:\\Users\\user\\anaconda3\\lib\\site-packages\\sklearn\\cluster\\_kmeans.py:1440: UserWarning: KMeans is known to have a memory leak on Windows with MKL, when there are less chunks than available threads. You can avoid it by setting the environment variable OMP_NUM_THREADS=2.\n",
      "  warnings.warn(\n",
      "C:\\Users\\user\\anaconda3\\lib\\site-packages\\sklearn\\cluster\\_kmeans.py:1440: UserWarning: KMeans is known to have a memory leak on Windows with MKL, when there are less chunks than available threads. You can avoid it by setting the environment variable OMP_NUM_THREADS=2.\n",
      "  warnings.warn(\n",
      "C:\\Users\\user\\anaconda3\\lib\\site-packages\\sklearn\\cluster\\_kmeans.py:1440: UserWarning: KMeans is known to have a memory leak on Windows with MKL, when there are less chunks than available threads. You can avoid it by setting the environment variable OMP_NUM_THREADS=2.\n",
      "  warnings.warn(\n",
      "C:\\Users\\user\\anaconda3\\lib\\site-packages\\sklearn\\cluster\\_kmeans.py:1440: UserWarning: KMeans is known to have a memory leak on Windows with MKL, when there are less chunks than available threads. You can avoid it by setting the environment variable OMP_NUM_THREADS=2.\n",
      "  warnings.warn(\n",
      "C:\\Users\\user\\anaconda3\\lib\\site-packages\\sklearn\\cluster\\_kmeans.py:1440: UserWarning: KMeans is known to have a memory leak on Windows with MKL, when there are less chunks than available threads. You can avoid it by setting the environment variable OMP_NUM_THREADS=2.\n",
      "  warnings.warn(\n",
      "C:\\Users\\user\\anaconda3\\lib\\site-packages\\sklearn\\cluster\\_kmeans.py:1440: UserWarning: KMeans is known to have a memory leak on Windows with MKL, when there are less chunks than available threads. You can avoid it by setting the environment variable OMP_NUM_THREADS=2.\n",
      "  warnings.warn(\n",
      "C:\\Users\\user\\anaconda3\\lib\\site-packages\\sklearn\\cluster\\_kmeans.py:1440: UserWarning: KMeans is known to have a memory leak on Windows with MKL, when there are less chunks than available threads. You can avoid it by setting the environment variable OMP_NUM_THREADS=2.\n",
      "  warnings.warn(\n",
      "C:\\Users\\user\\anaconda3\\lib\\site-packages\\sklearn\\cluster\\_kmeans.py:1440: UserWarning: KMeans is known to have a memory leak on Windows with MKL, when there are less chunks than available threads. You can avoid it by setting the environment variable OMP_NUM_THREADS=2.\n",
      "  warnings.warn(\n"
     ]
    },
    {
     "data": {
      "image/png": "[encoded data removed]",
      "text/plain": [
       "<Figure size 720x360 with 1 Axes>"
      ]
     },
     "metadata": {
      "needs_background": "light"
     },
     "output_type": "display_data"
    },
    {
     "data": {
      "image/png": "[encoded data removed]",
      "text/plain": [
       "<Figure size 720x360 with 1 Axes>"
      ]
     },
     "metadata": {
      "needs_background": "light"
     },
     "output_type": "display_data"
    }
   ],
   "source": [
    "# Store the inertia (sum of squared distances) and silhouette scores\n",
    "inertia = []\n",
    "silhouette_scores = []\n",
    "\n",
    "# Iterate over different values of k\n",
    "for k in range(2, 11):\n",
    "    kmeans = KMeans(n_clusters=k, random_state=42, n_init=10)\n",
    "    kmeans.fit(df)  # Assuming 'data' contains your normalized dataset\n",
    "\n",
    "    # Append inertia and silhouette scores\n",
    "    inertia.append(kmeans.inertia_)\n",
    "    silhouette_scores.append(silhouette_score(df, kmeans.labels_))\n",
    "\n",
    "# Plot the Elbow Curve\n",
    "plt.figure(figsize=(10, 5))\n",
    "plt.plot(range(2, 11), inertia, marker='o')\n",
    "plt.title(\"Elbow Method for Optimal k\")\n",
    "plt.xlabel(\"Number of Clusters (k)\")\n",
    "plt.ylabel(\"Inertia (Sum of Squared Distances)\")\n",
    "plt.show()\n",
    "\n",
    "# Plot the Silhouette Scores\n",
    "plt.figure(figsize=(10, 5))\n",
    "plt.plot(range(2, 11), silhouette_scores, marker='o', color='orange')\n",
    "plt.title(\"Silhouette Scores for Different k\")\n",
    "plt.xlabel(\"Number of Clusters (k)\")\n",
    "plt.ylabel(\"Silhouette Score\")\n",
    "plt.show()\n"
   ]
  },
  {
   "cell_type": "markdown",
   "metadata": {},
   "source": [
    "# Run k-means"
   ]
  },
  {
   "cell_type": "code",
   "execution_count": 7,
   "metadata": {
    "ExecuteTime": {
     "end_time": "2025-01-16T11:17:38.628342Z",
     "start_time": "2025-01-16T11:17:38.578968Z"
    }
   },
   "outputs": [
    {
     "name": "stdout",
     "output_type": "stream",
     "text": [
      "Centroids:\n",
      " [[ 6.29817444e-01  3.25383824e-02  4.06403941e-02  1.01633394e-01\n",
      "   0.00000000e+00  2.54789272e-01  3.44827586e-02 -2.77555756e-17\n",
      "   4.16333634e-17 -2.16840434e-18  1.38777878e-16  0.00000000e+00\n",
      "   1.38777878e-16  2.77555756e-17 -2.16840434e-18  4.16333634e-17\n",
      "   2.77555756e-17  0.00000000e+00  1.00000000e+00  1.00000000e+00\n",
      "   0.00000000e+00  1.38777878e-16  1.00000000e+00  1.38777878e-16\n",
      "   1.38777878e-16  1.38777878e-16  1.38777878e-16  1.00000000e+00\n",
      "  -1.66533454e-16 -1.66533454e-16]\n",
      " [ 1.83569980e-01  9.45616527e-01  9.28571429e-01  9.51905626e-01\n",
      "   0.00000000e+00  4.02298851e-02  3.33333333e-01 -2.77555756e-17\n",
      "   4.16333634e-17 -2.60208521e-18  1.38777878e-16  0.00000000e+00\n",
      "   1.38777878e-16  9.82758621e-01  1.72413793e-02  4.16333634e-17\n",
      "   2.77555756e-17  0.00000000e+00  1.38777878e-16  0.00000000e+00\n",
      "   1.00000000e+00  1.38777878e-16  1.38777878e-16  1.38777878e-16\n",
      "   1.38777878e-16  1.38777878e-16  1.00000000e+00  2.77555756e-16\n",
      "   1.00000000e+00 -1.66533454e-16]\n",
      " [ 4.77567298e-01  3.55802331e-01  3.34140436e-01  6.17305977e-01\n",
      "   0.00000000e+00  1.16133082e-01  4.51977401e-02 -4.16333634e-17\n",
      "   2.77555756e-17  1.69491525e-02  9.83050847e-01  0.00000000e+00\n",
      "   1.38777878e-16  2.77555756e-17 -2.16840434e-18  2.77555756e-17\n",
      "   2.77555756e-17  0.00000000e+00  1.38777878e-16  0.00000000e+00\n",
      "   1.00000000e+00  1.38777878e-16  1.38777878e-16  1.00000000e+00\n",
      "   1.38777878e-16  1.38777878e-16  1.38777878e-16  2.77555756e-16\n",
      "  -1.11022302e-16  1.00000000e+00]\n",
      " [ 2.77168495e-01  6.79920304e-01  5.90799031e-01  8.12667261e-01\n",
      "   1.00000000e+00  2.88763340e-01  3.33333333e-01  4.23728814e-01\n",
      "   5.76271186e-01 -2.16840434e-18  1.38777878e-16  0.00000000e+00\n",
      "   1.38777878e-16  2.77555756e-17 -2.16840434e-18  2.77555756e-17\n",
      "   2.77555756e-17  0.00000000e+00  1.38777878e-16  9.83050847e-01\n",
      "   1.69491525e-02  1.38777878e-16  1.38777878e-16  1.38777878e-16\n",
      "   1.38777878e-16  1.00000000e+00  1.38777878e-16  2.77555756e-16\n",
      "   1.00000000e+00 -1.11022302e-16]\n",
      " [ 9.42190669e-01  8.03053805e-02  1.72413793e-01  2.40471869e-01\n",
      "   1.00000000e+00  5.82694764e-01  6.66666667e-01 -2.77555756e-17\n",
      "   4.16333634e-17 -2.16840434e-18  1.38777878e-16  0.00000000e+00\n",
      "   1.00000000e+00  2.77555756e-17 -2.16840434e-18  4.16333634e-17\n",
      "   2.77555756e-17  0.00000000e+00  1.38777878e-16  1.00000000e+00\n",
      "   0.00000000e+00  1.00000000e+00  1.38777878e-16  1.38777878e-16\n",
      "   1.38777878e-16  1.38777878e-16  1.38777878e-16  1.00000000e+00\n",
      "  -1.66533454e-16 -1.66533454e-16]\n",
      " [ 1.73427992e-01  2.52041517e-01  3.31280788e-01  4.88203267e-01\n",
      "   1.00000000e+00  6.75925926e-01  6.66666667e-01 -2.77555756e-17\n",
      "   4.16333634e-17 -2.60208521e-18  1.38777878e-16  0.00000000e+00\n",
      "   1.38777878e-16  2.77555756e-17 -2.60208521e-18  5.86206897e-01\n",
      "   4.13793103e-01  0.00000000e+00  1.38777878e-16  1.72413793e-02\n",
      "   9.82758621e-01  1.38777878e-16  1.38777878e-16  1.38777878e-16\n",
      "   1.00000000e+00  1.38777878e-16  1.38777878e-16  2.77555756e-16\n",
      "  -1.66533454e-16  1.00000000e+00]]\n"
     ]
    },
    {
     "name": "stderr",
     "output_type": "stream",
     "text": [
      "C:\\Users\\user\\anaconda3\\lib\\site-packages\\sklearn\\cluster\\_kmeans.py:1440: UserWarning: KMeans is known to have a memory leak on Windows with MKL, when there are less chunks than available threads. You can avoid it by setting the environment variable OMP_NUM_THREADS=2.\n",
      "  warnings.warn(\n"
     ]
    }
   ],
   "source": [
    "k = 6  # Replace with the chosen number of clusters\n",
    "kmeans = KMeans(n_clusters=k, random_state=42, n_init=10)\n",
    "df['Cluster'] = kmeans.fit_predict(df)\n",
    "\n",
    "# Cluster centroids\n",
    "centroids = kmeans.cluster_centers_\n",
    "print(\"Centroids:\\n\", centroids)"
   ]
  },
  {
   "cell_type": "markdown",
   "metadata": {},
   "source": [
    "## visualize clusters"
   ]
  },
  {
   "cell_type": "code",
   "execution_count": 8,
   "metadata": {
    "ExecuteTime": {
     "end_time": "2025-01-16T11:17:38.942770Z",
     "start_time": "2025-01-16T11:17:38.629341Z"
    }
   },
   "outputs": [
    {
     "name": "stderr",
     "output_type": "stream",
     "text": [
      "C:\\Users\\user\\anaconda3\\lib\\site-packages\\sklearn\\base.py:465: UserWarning: X does not have valid feature names, but PCA was fitted with feature names\n",
      "  warnings.warn(\n"
     ]
    },
    {
     "data": {
      "image/png": "[encoded data removed]",
      "text/plain": [
       "<Figure size 720x576 with 1 Axes>"
      ]
     },
     "metadata": {
      "needs_background": "light"
     },
     "output_type": "display_data"
    }
   ],
   "source": [
    "# Ensure only the original feature columns are used for PCA\n",
    "original_features = df.drop(columns=['Cluster', 'PCA1', 'PCA2'], errors='ignore')\n",
    "\n",
    "# Refit PCA with the correct number of features\n",
    "pca = PCA(n_components=2)\n",
    "data_pca = pca.fit_transform(original_features)\n",
    "\n",
    "# Add PCA components to the dataset\n",
    "df['PCA1'] = data_pca[:, 0]\n",
    "df['PCA2'] = data_pca[:, 1]\n",
    "\n",
    "# Plot the clusters\n",
    "plt.figure(figsize=(10, 8))\n",
    "for cluster in range(k):\n",
    "    plt.scatter(df[df['Cluster'] == cluster]['PCA1'],\n",
    "                df[df['Cluster'] == cluster]['PCA2'],\n",
    "                label=f'Cluster {cluster}')\n",
    "# Transform the centroids for PCA visualization\n",
    "centroids_pca = pca.transform(kmeans.cluster_centers_)\n",
    "plt.scatter(centroids_pca[:, 0], centroids_pca[:, 1], \n",
    "            color='red', marker='X', s=200, label='Centroids')\n",
    "plt.title(\"K-Means Clusters (PCA Projection)\")\n",
    "plt.xlabel(\"PCA1\")\n",
    "plt.ylabel(\"PCA2\")\n",
    "plt.legend()\n",
    "plt.show()\n"
   ]
  },
  {
   "cell_type": "markdown",
   "metadata": {},
   "source": [
    "## cluster sizes"
   ]
  },
  {
   "cell_type": "code",
   "execution_count": 9,
   "metadata": {
    "ExecuteTime": {
     "end_time": "2025-01-16T11:17:38.960430Z",
     "start_time": "2025-01-16T11:17:38.944039Z"
    }
   },
   "outputs": [
    {
     "name": "stdout",
     "output_type": "stream",
     "text": [
      "Cluster Sizes:\n",
      " Cluster\n",
      "3    59\n",
      "2    59\n",
      "4    58\n",
      "1    58\n",
      "5    58\n",
      "0    58\n",
      "Name: count, dtype: int64\n"
     ]
    }
   ],
   "source": [
    "cluster_sizes = df['Cluster'].value_counts()\n",
    "print(\"Cluster Sizes:\\n\", cluster_sizes)"
   ]
  },
  {
   "cell_type": "markdown",
   "metadata": {},
   "source": [
    "## analyze clusters"
   ]
  },
  {
   "cell_type": "code",
   "execution_count": 10,
   "metadata": {
    "ExecuteTime": {
     "end_time": "2025-01-16T11:17:38.980009Z",
     "start_time": "2025-01-16T11:17:38.962418Z"
    }
   },
   "outputs": [
    {
     "name": "stdout",
     "output_type": "stream",
     "text": [
      "Cluster Profiles:\n",
      "               Age  Total Spend  Items Purchased  Average Rating  \\\n",
      "Cluster                                                           \n",
      "0        0.629817     0.032538         0.040640        0.101633   \n",
      "1        0.183570     0.945617         0.928571        0.951906   \n",
      "2        0.477567     0.355802         0.334140        0.617306   \n",
      "3        0.277168     0.679920         0.590799        0.812667   \n",
      "4        0.942191     0.080305         0.172414        0.240472   \n",
      "5        0.173428     0.252042         0.331281        0.488203   \n",
      "\n",
      "         Discount Applied  Days Since Last Purchase  Satisfaction Level  \\\n",
      "Cluster                                                                   \n",
      "0                     0.0                  0.254789            0.034483   \n",
      "1                     0.0                  0.040230            0.333333   \n",
      "2                     0.0                  0.116133            0.045198   \n",
      "3                     1.0                  0.288763            0.333333   \n",
      "4                     1.0                  0.582695            0.666667   \n",
      "5                     1.0                  0.675926            0.666667   \n",
      "\n",
      "         New_York_Young_Adults  New_York_Middle-aged_Adults  \\\n",
      "Cluster                                                       \n",
      "0                     0.000000                     0.000000   \n",
      "1                     0.000000                     0.000000   \n",
      "2                     0.000000                     0.000000   \n",
      "3                     0.423729                     0.576271   \n",
      "4                     0.000000                     0.000000   \n",
      "5                     0.000000                     0.000000   \n",
      "\n",
      "         Los_Angeles_Young_Adults  ...  City_Houston  City_Los Angeles  \\\n",
      "Cluster                            ...                                   \n",
      "0                        0.000000  ...           1.0               0.0   \n",
      "1                        0.000000  ...           0.0               0.0   \n",
      "2                        0.016949  ...           0.0               1.0   \n",
      "3                        0.000000  ...           0.0               0.0   \n",
      "4                        0.000000  ...           0.0               0.0   \n",
      "5                        0.000000  ...           0.0               0.0   \n",
      "\n",
      "         City_Miami  City_New York  City_San Francisco  \\\n",
      "Cluster                                                  \n",
      "0               0.0            0.0                 0.0   \n",
      "1               0.0            0.0                 1.0   \n",
      "2               0.0            0.0                 0.0   \n",
      "3               0.0            1.0                 0.0   \n",
      "4               0.0            0.0                 0.0   \n",
      "5               1.0            0.0                 0.0   \n",
      "\n",
      "         Membership Type_Bronze  Membership Type_Gold  Membership Type_Silver  \\\n",
      "Cluster                                                                         \n",
      "0                           1.0                   0.0                     0.0   \n",
      "1                           0.0                   1.0                     0.0   \n",
      "2                           0.0                   0.0                     1.0   \n",
      "3                           0.0                   1.0                     0.0   \n",
      "4                           1.0                   0.0                     0.0   \n",
      "5                           0.0                   0.0                     1.0   \n",
      "\n",
      "             PCA1      PCA2  \n",
      "Cluster                      \n",
      "0        1.320030 -0.206737  \n",
      "1       -1.403489  1.010640  \n",
      "2       -0.959288 -1.099572  \n",
      "3        0.103669  1.296176  \n",
      "4        1.571524 -0.065938  \n",
      "5       -0.617694 -0.937959  \n",
      "\n",
      "[6 rows x 32 columns]\n"
     ]
    }
   ],
   "source": [
    "cluster_profiles = df.groupby('Cluster').mean()\n",
    "print(\"Cluster Profiles:\\n\", cluster_profiles)"
   ]
  },
  {
   "cell_type": "markdown",
   "metadata": {},
   "source": [
    "## evaluate clusters"
   ]
  },
  {
   "cell_type": "code",
   "execution_count": 11,
   "metadata": {
    "ExecuteTime": {
     "end_time": "2025-01-16T11:17:38.998844Z",
     "start_time": "2025-01-16T11:17:38.982321Z"
    }
   },
   "outputs": [
    {
     "name": "stdout",
     "output_type": "stream",
     "text": [
      "Silhouette Score for k=6: 0.84119667706446\n"
     ]
    }
   ],
   "source": [
    "silhouette_avg = silhouette_score(df.drop(columns=['Cluster', 'PCA1', 'PCA2']), df['Cluster'])\n",
    "print(f\"Silhouette Score for k={k}: {silhouette_avg}\")"
   ]
  },
  {
   "cell_type": "code",
   "execution_count": null,
   "metadata": {},
   "outputs": [],
   "source": []
  }
 ],
 "metadata": {
  "kernelspec": {
   "display_name": "Python 3",
   "language": "python",
   "name": "python3"
  },
  "language_info": {
   "codemirror_mode": {
    "name": "ipython",
    "version": 3
   },
   "file_extension": ".py",
   "mimetype": "text/x-python",
   "name": "python",
   "nbconvert_exporter": "python",
   "pygments_lexer": "ipython3",
   "version": "3.8.5"
  },
  "toc": {
   "base_numbering": 1,
   "nav_menu": {},
   "number_sections": true,
   "sideBar": true,
   "skip_h1_title": false,
   "title_cell": "Table of Contents",
   "title_sidebar": "Contents",
   "toc_cell": false,
   "toc_position": {},
   "toc_section_display": true,
   "toc_window_display": false
  }
 },
 "nbformat": 4,
 "nbformat_minor": 4
}
