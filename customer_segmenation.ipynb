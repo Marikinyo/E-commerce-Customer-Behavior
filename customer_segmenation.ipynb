{
 "cells": [
  {
   "cell_type": "code",
   "execution_count": 7,
   "metadata": {
    "ExecuteTime": {
     "end_time": "2025-01-13T18:48:51.553168Z",
     "start_time": "2025-01-13T18:48:50.741469Z"
    }
   },
   "outputs": [],
   "source": [
    "import os\n",
    "import pandas as pd\n",
    "from sklearn.cluster import KMeans\n",
    "import matplotlib.pyplot as plt"
   ]
  },
  {
   "cell_type": "code",
   "execution_count": 2,
   "metadata": {
    "ExecuteTime": {
     "end_time": "2025-01-13T18:48:17.458825Z",
     "start_time": "2025-01-13T18:48:17.456781Z"
    }
   },
   "outputs": [],
   "source": [
    "# # Walk through \"data\" folder, printing directories and files \n",
    "# # to use their names for file paths\n",
    "\n",
    "# for root, dirs, files in os.walk(\"data\"):\n",
    "#     print(\"Current Directory:\", root)\n",
    "#     print()\n",
    "#     print(\"Subdirectories:\", dirs)\n",
    "#     print()\n",
    "#     print(\"Files:\", files)"
   ]
  },
  {
   "cell_type": "code",
   "execution_count": 3,
   "metadata": {
    "ExecuteTime": {
     "end_time": "2025-01-13T18:48:17.474608Z",
     "start_time": "2025-01-13T18:48:17.459521Z"
    }
   },
   "outputs": [],
   "source": [
    "main_dir = 'data/processed/customer_segmentation'\n",
    "file_name = 'customer_segmentation.csv'\n",
    "file_path = os.path.join(main_dir, file_name)"
   ]
  },
  {
   "cell_type": "code",
   "execution_count": 4,
   "metadata": {
    "ExecuteTime": {
     "end_time": "2025-01-13T18:48:17.506669Z",
     "start_time": "2025-01-13T18:48:17.475952Z"
    }
   },
   "outputs": [],
   "source": [
    "df = pd.read_csv(file_path, index_col='Customer ID')"
   ]
  },
  {
   "cell_type": "code",
   "execution_count": 6,
   "metadata": {
    "ExecuteTime": {
     "end_time": "2025-01-13T18:48:22.919311Z",
     "start_time": "2025-01-13T18:48:22.890415Z"
    }
   },
   "outputs": [
    {
     "data": {
      "text/html": [
       "<div>\n",
       "<style scoped>\n",
       "    .dataframe tbody tr th:only-of-type {\n",
       "        vertical-align: middle;\n",
       "    }\n",
       "\n",
       "    .dataframe tbody tr th {\n",
       "        vertical-align: top;\n",
       "    }\n",
       "\n",
       "    .dataframe thead th {\n",
       "        text-align: right;\n",
       "    }\n",
       "</style>\n",
       "<table border=\"1\" class=\"dataframe\">\n",
       "  <thead>\n",
       "    <tr style=\"text-align: right;\">\n",
       "      <th></th>\n",
       "      <th>Age</th>\n",
       "      <th>Total Spend</th>\n",
       "      <th>Items Purchased</th>\n",
       "      <th>Average Rating</th>\n",
       "      <th>Discount Applied</th>\n",
       "      <th>Days Since Last Purchase</th>\n",
       "      <th>Satisfaction Level</th>\n",
       "      <th>Gender_Female</th>\n",
       "      <th>Gender_Male</th>\n",
       "      <th>City_Chicago</th>\n",
       "      <th>City_Houston</th>\n",
       "      <th>City_Los Angeles</th>\n",
       "      <th>City_Miami</th>\n",
       "      <th>City_New York</th>\n",
       "      <th>City_San Francisco</th>\n",
       "      <th>Membership Type_Bronze</th>\n",
       "      <th>Membership Type_Gold</th>\n",
       "      <th>Membership Type_Silver</th>\n",
       "    </tr>\n",
       "    <tr>\n",
       "      <th>Customer ID</th>\n",
       "      <th></th>\n",
       "      <th></th>\n",
       "      <th></th>\n",
       "      <th></th>\n",
       "      <th></th>\n",
       "      <th></th>\n",
       "      <th></th>\n",
       "      <th></th>\n",
       "      <th></th>\n",
       "      <th></th>\n",
       "      <th></th>\n",
       "      <th></th>\n",
       "      <th></th>\n",
       "      <th></th>\n",
       "      <th></th>\n",
       "      <th></th>\n",
       "      <th></th>\n",
       "      <th></th>\n",
       "    </tr>\n",
       "  </thead>\n",
       "  <tbody>\n",
       "    <tr>\n",
       "      <th>101</th>\n",
       "      <td>0.176471</td>\n",
       "      <td>0.639502</td>\n",
       "      <td>0.500000</td>\n",
       "      <td>0.842105</td>\n",
       "      <td>1.0</td>\n",
       "      <td>0.296296</td>\n",
       "      <td>0.333333</td>\n",
       "      <td>1.0</td>\n",
       "      <td>0.0</td>\n",
       "      <td>0.0</td>\n",
       "      <td>0.0</td>\n",
       "      <td>0.0</td>\n",
       "      <td>0.0</td>\n",
       "      <td>1.0</td>\n",
       "      <td>0.0</td>\n",
       "      <td>0.0</td>\n",
       "      <td>1.0</td>\n",
       "      <td>0.0</td>\n",
       "    </tr>\n",
       "    <tr>\n",
       "      <th>102</th>\n",
       "      <td>0.470588</td>\n",
       "      <td>0.333273</td>\n",
       "      <td>0.285714</td>\n",
       "      <td>0.578947</td>\n",
       "      <td>0.0</td>\n",
       "      <td>0.166667</td>\n",
       "      <td>0.000000</td>\n",
       "      <td>0.0</td>\n",
       "      <td>1.0</td>\n",
       "      <td>0.0</td>\n",
       "      <td>0.0</td>\n",
       "      <td>1.0</td>\n",
       "      <td>0.0</td>\n",
       "      <td>0.0</td>\n",
       "      <td>0.0</td>\n",
       "      <td>0.0</td>\n",
       "      <td>0.0</td>\n",
       "      <td>1.0</td>\n",
       "    </tr>\n",
       "    <tr>\n",
       "      <th>103</th>\n",
       "      <td>1.000000</td>\n",
       "      <td>0.090102</td>\n",
       "      <td>0.142857</td>\n",
       "      <td>0.210526</td>\n",
       "      <td>1.0</td>\n",
       "      <td>0.611111</td>\n",
       "      <td>0.666667</td>\n",
       "      <td>1.0</td>\n",
       "      <td>0.0</td>\n",
       "      <td>1.0</td>\n",
       "      <td>0.0</td>\n",
       "      <td>0.0</td>\n",
       "      <td>0.0</td>\n",
       "      <td>0.0</td>\n",
       "      <td>0.0</td>\n",
       "      <td>1.0</td>\n",
       "      <td>0.0</td>\n",
       "      <td>0.0</td>\n",
       "    </tr>\n",
       "    <tr>\n",
       "      <th>104</th>\n",
       "      <td>0.235294</td>\n",
       "      <td>0.964122</td>\n",
       "      <td>0.857143</td>\n",
       "      <td>0.894737</td>\n",
       "      <td>0.0</td>\n",
       "      <td>0.055556</td>\n",
       "      <td>0.333333</td>\n",
       "      <td>0.0</td>\n",
       "      <td>1.0</td>\n",
       "      <td>0.0</td>\n",
       "      <td>0.0</td>\n",
       "      <td>0.0</td>\n",
       "      <td>0.0</td>\n",
       "      <td>0.0</td>\n",
       "      <td>1.0</td>\n",
       "      <td>0.0</td>\n",
       "      <td>1.0</td>\n",
       "      <td>0.0</td>\n",
       "    </tr>\n",
       "    <tr>\n",
       "      <th>105</th>\n",
       "      <td>0.058824</td>\n",
       "      <td>0.279095</td>\n",
       "      <td>0.428571</td>\n",
       "      <td>0.526316</td>\n",
       "      <td>1.0</td>\n",
       "      <td>0.851852</td>\n",
       "      <td>0.666667</td>\n",
       "      <td>0.0</td>\n",
       "      <td>1.0</td>\n",
       "      <td>0.0</td>\n",
       "      <td>0.0</td>\n",
       "      <td>0.0</td>\n",
       "      <td>1.0</td>\n",
       "      <td>0.0</td>\n",
       "      <td>0.0</td>\n",
       "      <td>0.0</td>\n",
       "      <td>0.0</td>\n",
       "      <td>1.0</td>\n",
       "    </tr>\n",
       "  </tbody>\n",
       "</table>\n",
       "</div>"
      ],
      "text/plain": [
       "                  Age  Total Spend  Items Purchased  Average Rating  \\\n",
       "Customer ID                                                           \n",
       "101          0.176471     0.639502         0.500000        0.842105   \n",
       "102          0.470588     0.333273         0.285714        0.578947   \n",
       "103          1.000000     0.090102         0.142857        0.210526   \n",
       "104          0.235294     0.964122         0.857143        0.894737   \n",
       "105          0.058824     0.279095         0.428571        0.526316   \n",
       "\n",
       "             Discount Applied  Days Since Last Purchase  Satisfaction Level  \\\n",
       "Customer ID                                                                   \n",
       "101                       1.0                  0.296296            0.333333   \n",
       "102                       0.0                  0.166667            0.000000   \n",
       "103                       1.0                  0.611111            0.666667   \n",
       "104                       0.0                  0.055556            0.333333   \n",
       "105                       1.0                  0.851852            0.666667   \n",
       "\n",
       "             Gender_Female  Gender_Male  City_Chicago  City_Houston  \\\n",
       "Customer ID                                                           \n",
       "101                    1.0          0.0           0.0           0.0   \n",
       "102                    0.0          1.0           0.0           0.0   \n",
       "103                    1.0          0.0           1.0           0.0   \n",
       "104                    0.0          1.0           0.0           0.0   \n",
       "105                    0.0          1.0           0.0           0.0   \n",
       "\n",
       "             City_Los Angeles  City_Miami  City_New York  City_San Francisco  \\\n",
       "Customer ID                                                                    \n",
       "101                       0.0         0.0            1.0                 0.0   \n",
       "102                       1.0         0.0            0.0                 0.0   \n",
       "103                       0.0         0.0            0.0                 0.0   \n",
       "104                       0.0         0.0            0.0                 1.0   \n",
       "105                       0.0         1.0            0.0                 0.0   \n",
       "\n",
       "             Membership Type_Bronze  Membership Type_Gold  \\\n",
       "Customer ID                                                 \n",
       "101                             0.0                   1.0   \n",
       "102                             0.0                   0.0   \n",
       "103                             1.0                   0.0   \n",
       "104                             0.0                   1.0   \n",
       "105                             0.0                   0.0   \n",
       "\n",
       "             Membership Type_Silver  \n",
       "Customer ID                          \n",
       "101                             0.0  \n",
       "102                             1.0  \n",
       "103                             0.0  \n",
       "104                             0.0  \n",
       "105                             1.0  "
      ]
     },
     "execution_count": 6,
     "metadata": {},
     "output_type": "execute_result"
    }
   ],
   "source": [
    "df.head()"
   ]
  },
  {
   "cell_type": "code",
   "execution_count": null,
   "metadata": {},
   "outputs": [],
   "source": []
  },
  {
   "cell_type": "markdown",
   "metadata": {},
   "source": [
    "# k-means"
   ]
  },
  {
   "cell_type": "code",
   "execution_count": 21,
   "metadata": {
    "ExecuteTime": {
     "end_time": "2025-01-13T18:54:47.958442Z",
     "start_time": "2025-01-13T18:54:47.951644Z"
    }
   },
   "outputs": [],
   "source": [
    "# Apply K-Means\n",
    "kmeans = KMeans(n_clusters=4, random_state=42, n_init=10)"
   ]
  },
  {
   "cell_type": "code",
   "execution_count": 26,
   "metadata": {
    "ExecuteTime": {
     "end_time": "2025-01-13T18:55:18.951333Z",
     "start_time": "2025-01-13T18:55:18.942075Z"
    }
   },
   "outputs": [],
   "source": [
    "df['Cluster'] = kmeans.fit_predict(df)"
   ]
  },
  {
   "cell_type": "code",
   "execution_count": 19,
   "metadata": {
    "ExecuteTime": {
     "end_time": "2025-01-13T18:54:11.433672Z",
     "start_time": "2025-01-13T18:54:11.426787Z"
    }
   },
   "outputs": [],
   "source": [
    "# Check the cluster assignments\n",
    "print(df['Cluster'].value_counts())\n",
    "\n",
    "# Visualize the Elbow Method to choose k\n",
    "inertia = []\n",
    "k_range = range(1, 11)\n",
    "for k in k_range:\n",
    "    kmeans = KMeans(n_clusters=k, random_state=42)\n",
    "    kmeans.fit(df)\n",
    "    inertia.append(kmeans.inertia_)\n",
    "\n",
    "plt.plot(k_range, inertia, marker='o')\n",
    "plt.xlabel('Number of Clusters')\n",
    "plt.ylabel('Inertia')\n",
    "plt.title('Elbow Method for Optimal k')\n",
    "plt.show()"
   ]
  },
  {
   "cell_type": "code",
   "execution_count": null,
   "metadata": {},
   "outputs": [],
   "source": []
  }
 ],
 "metadata": {
  "kernelspec": {
   "display_name": "Python 3",
   "language": "python",
   "name": "python3"
  },
  "language_info": {
   "codemirror_mode": {
    "name": "ipython",
    "version": 3
   },
   "file_extension": ".py",
   "mimetype": "text/x-python",
   "name": "python",
   "nbconvert_exporter": "python",
   "pygments_lexer": "ipython3",
   "version": "3.8.5"
  },
  "toc": {
   "base_numbering": 1,
   "nav_menu": {},
   "number_sections": true,
   "sideBar": true,
   "skip_h1_title": false,
   "title_cell": "Table of Contents",
   "title_sidebar": "Contents",
   "toc_cell": false,
   "toc_position": {},
   "toc_section_display": true,
   "toc_window_display": false
  }
 },
 "nbformat": 4,
 "nbformat_minor": 4
}
