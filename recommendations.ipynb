{
 "cells": [
  {
   "cell_type": "code",
   "execution_count": 1,
   "metadata": {
    "ExecuteTime": {
     "end_time": "2025-01-27T18:37:19.587250Z",
     "start_time": "2025-01-27T18:37:18.826167Z"
    }
   },
   "outputs": [
    {
     "name": "stderr",
     "output_type": "stream",
     "text": [
      "C:\\Users\\user\\anaconda3\\lib\\site-packages\\pandas\\core\\computation\\expressions.py:20: UserWarning: Pandas requires version '2.7.3' or newer of 'numexpr' (version '2.7.1' currently installed).\n",
      "  from pandas.core.computation.check import NUMEXPR_INSTALLED\n"
     ]
    }
   ],
   "source": [
    "import os\n",
    "import glob\n",
    "import pandas as pd\n",
    "from sklearn.metrics.pairwise import cosine_similarity"
   ]
  },
  {
   "cell_type": "code",
   "execution_count": 2,
   "metadata": {
    "ExecuteTime": {
     "end_time": "2025-01-27T18:37:19.592853Z",
     "start_time": "2025-01-27T18:37:19.587250Z"
    }
   },
   "outputs": [],
   "source": [
    "main_dir = 'data/processed/'\n",
    "file_name = 'cluster_*.csv'\n",
    "file_path = os.path.join(main_dir, file_name)"
   ]
  },
  {
   "cell_type": "code",
   "execution_count": 3,
   "metadata": {
    "ExecuteTime": {
     "end_time": "2025-01-27T18:37:19.609795Z",
     "start_time": "2025-01-27T18:37:19.597587Z"
    }
   },
   "outputs": [],
   "source": [
    "csv_files = glob.glob(file_path)"
   ]
  },
  {
   "cell_type": "code",
   "execution_count": 4,
   "metadata": {
    "ExecuteTime": {
     "end_time": "2025-01-27T18:37:19.642182Z",
     "start_time": "2025-01-27T18:37:19.609795Z"
    }
   },
   "outputs": [],
   "source": [
    "dataframes = [pd.read_csv(file, index_col='Customer ID') for file in csv_files]"
   ]
  },
  {
   "cell_type": "markdown",
   "metadata": {},
   "source": [
    "# Recommendations"
   ]
  },
  {
   "cell_type": "code",
   "execution_count": 5,
   "metadata": {
    "ExecuteTime": {
     "end_time": "2025-01-27T18:37:19.658704Z",
     "start_time": "2025-01-27T18:37:19.643072Z"
    }
   },
   "outputs": [],
   "source": [
    "# store the cosine similarity DataFrames for each DataFrame in the list\n",
    "cosine_sim_dfs = {}"
   ]
  },
  {
   "cell_type": "code",
   "execution_count": 6,
   "metadata": {
    "ExecuteTime": {
     "end_time": "2025-01-27T18:37:19.674402Z",
     "start_time": "2025-01-27T18:37:19.660375Z"
    }
   },
   "outputs": [],
   "source": [
    "df_features = ['Age', 'Total Spend', 'Items Purchased', 'Average Rating',\n",
    "       'Discount Applied', 'Days Since Last Purchase', 'Satisfaction Level']"
   ]
  },
  {
   "cell_type": "code",
   "execution_count": 7,
   "metadata": {
    "ExecuteTime": {
     "end_time": "2025-01-27T18:37:19.691088Z",
     "start_time": "2025-01-27T18:37:19.677074Z"
    }
   },
   "outputs": [],
   "source": [
    "# List of custom dataframe names\n",
    "dataframe_names = ['houston_df', 'san_francisco_df', 'los_angeles_df', 'new_york_df', 'chicago_df', 'miami_df']"
   ]
  },
  {
   "cell_type": "code",
   "execution_count": 8,
   "metadata": {
    "ExecuteTime": {
     "end_time": "2025-01-27T18:37:19.711439Z",
     "start_time": "2025-01-27T18:37:19.692753Z"
    }
   },
   "outputs": [],
   "source": [
    "for i, (df, name) in enumerate(zip(dataframes, dataframe_names)):    \n",
    "    # relevant features\n",
    "    df_selected = df[df_features]\n",
    "    \n",
    "    # cosine similarity\n",
    "    cosine_sim = cosine_similarity(df_selected)\n",
    "    \n",
    "    # Convert similarity matrix to a DataFrame\n",
    "    cosine_sim_df = pd.DataFrame(cosine_sim, index=df.index, columns=df.index)\n",
    "    \n",
    "    # Store the cosine similarity DataFrame with the custom name\n",
    "    cosine_sim_dfs[name] = cosine_sim_df"
   ]
  },
  {
   "cell_type": "code",
   "execution_count": 9,
   "metadata": {
    "ExecuteTime": {
     "end_time": "2025-01-27T18:37:19.744762Z",
     "start_time": "2025-01-27T18:37:19.713151Z"
    }
   },
   "outputs": [
    {
     "data": {
      "text/html": [
       "<div>\n",
       "<style scoped>\n",
       "    .dataframe tbody tr th:only-of-type {\n",
       "        vertical-align: middle;\n",
       "    }\n",
       "\n",
       "    .dataframe tbody tr th {\n",
       "        vertical-align: top;\n",
       "    }\n",
       "\n",
       "    .dataframe thead th {\n",
       "        text-align: right;\n",
       "    }\n",
       "</style>\n",
       "<table border=\"1\" class=\"dataframe\">\n",
       "  <thead>\n",
       "    <tr style=\"text-align: right;\">\n",
       "      <th>Customer ID</th>\n",
       "      <th>106</th>\n",
       "      <th>112</th>\n",
       "      <th>118</th>\n",
       "      <th>124</th>\n",
       "      <th>130</th>\n",
       "      <th>136</th>\n",
       "      <th>142</th>\n",
       "      <th>148</th>\n",
       "      <th>154</th>\n",
       "      <th>160</th>\n",
       "      <th>...</th>\n",
       "      <th>393</th>\n",
       "      <th>399</th>\n",
       "      <th>405</th>\n",
       "      <th>411</th>\n",
       "      <th>417</th>\n",
       "      <th>423</th>\n",
       "      <th>429</th>\n",
       "      <th>435</th>\n",
       "      <th>441</th>\n",
       "      <th>447</th>\n",
       "    </tr>\n",
       "    <tr>\n",
       "      <th>Customer ID</th>\n",
       "      <th></th>\n",
       "      <th></th>\n",
       "      <th></th>\n",
       "      <th></th>\n",
       "      <th></th>\n",
       "      <th></th>\n",
       "      <th></th>\n",
       "      <th></th>\n",
       "      <th></th>\n",
       "      <th></th>\n",
       "      <th></th>\n",
       "      <th></th>\n",
       "      <th></th>\n",
       "      <th></th>\n",
       "      <th></th>\n",
       "      <th></th>\n",
       "      <th></th>\n",
       "      <th></th>\n",
       "      <th></th>\n",
       "      <th></th>\n",
       "      <th></th>\n",
       "    </tr>\n",
       "  </thead>\n",
       "  <tbody>\n",
       "    <tr>\n",
       "      <th>106</th>\n",
       "      <td>1.000000</td>\n",
       "      <td>0.989287</td>\n",
       "      <td>0.996221</td>\n",
       "      <td>0.970983</td>\n",
       "      <td>0.998062</td>\n",
       "      <td>0.997887</td>\n",
       "      <td>0.994077</td>\n",
       "      <td>0.992750</td>\n",
       "      <td>0.970983</td>\n",
       "      <td>0.998062</td>\n",
       "      <td>...</td>\n",
       "      <td>0.964883</td>\n",
       "      <td>0.995582</td>\n",
       "      <td>0.962225</td>\n",
       "      <td>0.996426</td>\n",
       "      <td>0.959450</td>\n",
       "      <td>0.987328</td>\n",
       "      <td>0.956079</td>\n",
       "      <td>0.983623</td>\n",
       "      <td>0.952690</td>\n",
       "      <td>0.983889</td>\n",
       "    </tr>\n",
       "    <tr>\n",
       "      <th>112</th>\n",
       "      <td>0.989287</td>\n",
       "      <td>1.000000</td>\n",
       "      <td>0.979097</td>\n",
       "      <td>0.989243</td>\n",
       "      <td>0.989621</td>\n",
       "      <td>0.993188</td>\n",
       "      <td>0.993315</td>\n",
       "      <td>0.977898</td>\n",
       "      <td>0.989243</td>\n",
       "      <td>0.989621</td>\n",
       "      <td>...</td>\n",
       "      <td>0.980399</td>\n",
       "      <td>0.978502</td>\n",
       "      <td>0.975931</td>\n",
       "      <td>0.983740</td>\n",
       "      <td>0.973478</td>\n",
       "      <td>0.968388</td>\n",
       "      <td>0.968342</td>\n",
       "      <td>0.968988</td>\n",
       "      <td>0.965275</td>\n",
       "      <td>0.964541</td>\n",
       "    </tr>\n",
       "    <tr>\n",
       "      <th>118</th>\n",
       "      <td>0.996221</td>\n",
       "      <td>0.979097</td>\n",
       "      <td>1.000000</td>\n",
       "      <td>0.952845</td>\n",
       "      <td>0.991694</td>\n",
       "      <td>0.990290</td>\n",
       "      <td>0.989980</td>\n",
       "      <td>0.991688</td>\n",
       "      <td>0.952845</td>\n",
       "      <td>0.991694</td>\n",
       "      <td>...</td>\n",
       "      <td>0.952597</td>\n",
       "      <td>0.999100</td>\n",
       "      <td>0.950818</td>\n",
       "      <td>0.995693</td>\n",
       "      <td>0.949299</td>\n",
       "      <td>0.995011</td>\n",
       "      <td>0.946773</td>\n",
       "      <td>0.987140</td>\n",
       "      <td>0.944592</td>\n",
       "      <td>0.992542</td>\n",
       "    </tr>\n",
       "    <tr>\n",
       "      <th>124</th>\n",
       "      <td>0.970983</td>\n",
       "      <td>0.989243</td>\n",
       "      <td>0.952845</td>\n",
       "      <td>1.000000</td>\n",
       "      <td>0.968201</td>\n",
       "      <td>0.983619</td>\n",
       "      <td>0.975385</td>\n",
       "      <td>0.943864</td>\n",
       "      <td>1.000000</td>\n",
       "      <td>0.968201</td>\n",
       "      <td>...</td>\n",
       "      <td>0.993361</td>\n",
       "      <td>0.949714</td>\n",
       "      <td>0.990982</td>\n",
       "      <td>0.969882</td>\n",
       "      <td>0.987774</td>\n",
       "      <td>0.944730</td>\n",
       "      <td>0.984653</td>\n",
       "      <td>0.959513</td>\n",
       "      <td>0.980821</td>\n",
       "      <td>0.942125</td>\n",
       "    </tr>\n",
       "    <tr>\n",
       "      <th>130</th>\n",
       "      <td>0.998062</td>\n",
       "      <td>0.989621</td>\n",
       "      <td>0.991694</td>\n",
       "      <td>0.968201</td>\n",
       "      <td>1.000000</td>\n",
       "      <td>0.995346</td>\n",
       "      <td>0.991342</td>\n",
       "      <td>0.995921</td>\n",
       "      <td>0.968201</td>\n",
       "      <td>1.000000</td>\n",
       "      <td>...</td>\n",
       "      <td>0.957082</td>\n",
       "      <td>0.992964</td>\n",
       "      <td>0.952565</td>\n",
       "      <td>0.990442</td>\n",
       "      <td>0.949505</td>\n",
       "      <td>0.979424</td>\n",
       "      <td>0.944349</td>\n",
       "      <td>0.972675</td>\n",
       "      <td>0.940715</td>\n",
       "      <td>0.974754</td>\n",
       "    </tr>\n",
       "  </tbody>\n",
       "</table>\n",
       "<p>5 rows × 58 columns</p>\n",
       "</div>"
      ],
      "text/plain": [
       "Customer ID       106       112       118       124       130       136  \\\n",
       "Customer ID                                                               \n",
       "106          1.000000  0.989287  0.996221  0.970983  0.998062  0.997887   \n",
       "112          0.989287  1.000000  0.979097  0.989243  0.989621  0.993188   \n",
       "118          0.996221  0.979097  1.000000  0.952845  0.991694  0.990290   \n",
       "124          0.970983  0.989243  0.952845  1.000000  0.968201  0.983619   \n",
       "130          0.998062  0.989621  0.991694  0.968201  1.000000  0.995346   \n",
       "\n",
       "Customer ID       142       148       154       160  ...       393       399  \\\n",
       "Customer ID                                          ...                       \n",
       "106          0.994077  0.992750  0.970983  0.998062  ...  0.964883  0.995582   \n",
       "112          0.993315  0.977898  0.989243  0.989621  ...  0.980399  0.978502   \n",
       "118          0.989980  0.991688  0.952845  0.991694  ...  0.952597  0.999100   \n",
       "124          0.975385  0.943864  1.000000  0.968201  ...  0.993361  0.949714   \n",
       "130          0.991342  0.995921  0.968201  1.000000  ...  0.957082  0.992964   \n",
       "\n",
       "Customer ID       405       411       417       423       429       435  \\\n",
       "Customer ID                                                               \n",
       "106          0.962225  0.996426  0.959450  0.987328  0.956079  0.983623   \n",
       "112          0.975931  0.983740  0.973478  0.968388  0.968342  0.968988   \n",
       "118          0.950818  0.995693  0.949299  0.995011  0.946773  0.987140   \n",
       "124          0.990982  0.969882  0.987774  0.944730  0.984653  0.959513   \n",
       "130          0.952565  0.990442  0.949505  0.979424  0.944349  0.972675   \n",
       "\n",
       "Customer ID       441       447  \n",
       "Customer ID                      \n",
       "106          0.952690  0.983889  \n",
       "112          0.965275  0.964541  \n",
       "118          0.944592  0.992542  \n",
       "124          0.980821  0.942125  \n",
       "130          0.940715  0.974754  \n",
       "\n",
       "[5 rows x 58 columns]"
      ]
     },
     "execution_count": 9,
     "metadata": {},
     "output_type": "execute_result"
    }
   ],
   "source": [
    "cosine_sim_dfs['houston_df'].head()"
   ]
  },
  {
   "cell_type": "code",
   "execution_count": 10,
   "metadata": {
    "ExecuteTime": {
     "end_time": "2025-01-27T18:37:19.762497Z",
     "start_time": "2025-01-27T18:37:19.745753Z"
    }
   },
   "outputs": [],
   "source": [
    "def get_recommendations(dataframe_key, user_id, top_n=3):\n",
    "    # similarity matrix\n",
    "    sim_df = cosine_sim_dfs[dataframe_key]\n",
    "    \n",
    "    # similarity scores for the given user\n",
    "    sim_scores = sim_df[user_id]\n",
    "    \n",
    "    # Sort users based on similarity score\n",
    "    similar_users = sim_scores.sort_values(ascending=False)[1:top_n+1]\n",
    "    \n",
    "    return similar_users"
   ]
  },
  {
   "cell_type": "code",
   "execution_count": 11,
   "metadata": {
    "ExecuteTime": {
     "end_time": "2025-01-27T18:37:19.778103Z",
     "start_time": "2025-01-27T18:37:19.763312Z"
    }
   },
   "outputs": [
    {
     "name": "stdout",
     "output_type": "stream",
     "text": [
      "Customer ID\n",
      "363    0.999852\n",
      "387    0.998250\n",
      "292    0.998062\n",
      "Name: 106, dtype: float64\n"
     ]
    }
   ],
   "source": [
    "print(get_recommendations('houston_df', user_id=106, top_n=3))"
   ]
  },
  {
   "cell_type": "code",
   "execution_count": null,
   "metadata": {},
   "outputs": [],
   "source": []
  }
 ],
 "metadata": {
  "kernelspec": {
   "display_name": "Python 3",
   "language": "python",
   "name": "python3"
  },
  "language_info": {
   "codemirror_mode": {
    "name": "ipython",
    "version": 3
   },
   "file_extension": ".py",
   "mimetype": "text/x-python",
   "name": "python",
   "nbconvert_exporter": "python",
   "pygments_lexer": "ipython3",
   "version": "3.8.5"
  },
  "toc": {
   "base_numbering": 1,
   "nav_menu": {},
   "number_sections": true,
   "sideBar": true,
   "skip_h1_title": false,
   "title_cell": "Table of Contents",
   "title_sidebar": "Contents",
   "toc_cell": false,
   "toc_position": {},
   "toc_section_display": true,
   "toc_window_display": false
  }
 },
 "nbformat": 4,
 "nbformat_minor": 4
}
