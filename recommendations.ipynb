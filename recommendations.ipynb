{
 "cells": [
  {
   "cell_type": "markdown",
   "metadata": {},
   "source": [
    "Age\n",
    "Total Spend\n",
    "Items Purchased\n",
    "Average Rating\n",
    "Discount Applied\n",
    "Days Since Last Purchase\n",
    "Satisfaction Level\n",
    "City\n",
    "Gender\n",
    "Membership Type"
   ]
  },
  {
   "cell_type": "code",
   "execution_count": 1,
   "metadata": {
    "ExecuteTime": {
     "end_time": "2025-01-26T14:39:26.590885Z",
     "start_time": "2025-01-26T14:39:25.276313Z"
    }
   },
   "outputs": [
    {
     "name": "stderr",
     "output_type": "stream",
     "text": [
      "C:\\Users\\user\\anaconda3\\lib\\site-packages\\pandas\\core\\computation\\expressions.py:20: UserWarning: Pandas requires version '2.7.3' or newer of 'numexpr' (version '2.7.1' currently installed).\n",
      "  from pandas.core.computation.check import NUMEXPR_INSTALLED\n"
     ]
    }
   ],
   "source": [
    "import os\n",
    "import glob\n",
    "import pandas as pd\n",
    "from sklearn.metrics.pairwise import cosine_similarity"
   ]
  },
  {
   "cell_type": "code",
   "execution_count": 2,
   "metadata": {
    "ExecuteTime": {
     "end_time": "2025-01-26T14:39:26.606988Z",
     "start_time": "2025-01-26T14:39:26.591846Z"
    }
   },
   "outputs": [],
   "source": [
    "main_dir = 'data/processed/'\n",
    "file_name = 'cluster6_Miami.csv'\n",
    "file_path = os.path.join(main_dir, file_name)"
   ]
  },
  {
   "cell_type": "code",
   "execution_count": 3,
   "metadata": {
    "ExecuteTime": {
     "end_time": "2025-01-26T14:39:26.638269Z",
     "start_time": "2025-01-26T14:39:26.611115Z"
    }
   },
   "outputs": [
    {
     "data": {
      "text/html": [
       "<div>\n",
       "<style scoped>\n",
       "    .dataframe tbody tr th:only-of-type {\n",
       "        vertical-align: middle;\n",
       "    }\n",
       "\n",
       "    .dataframe tbody tr th {\n",
       "        vertical-align: top;\n",
       "    }\n",
       "\n",
       "    .dataframe thead th {\n",
       "        text-align: right;\n",
       "    }\n",
       "</style>\n",
       "<table border=\"1\" class=\"dataframe\">\n",
       "  <thead>\n",
       "    <tr style=\"text-align: right;\">\n",
       "      <th></th>\n",
       "      <th>Age</th>\n",
       "      <th>Total Spend</th>\n",
       "      <th>Items Purchased</th>\n",
       "      <th>Average Rating</th>\n",
       "      <th>Discount Applied</th>\n",
       "      <th>Days Since Last Purchase</th>\n",
       "      <th>Satisfaction Level</th>\n",
       "      <th>Miami_Young_Adults</th>\n",
       "      <th>Miami_Middle-aged_Adults</th>\n",
       "      <th>Gender_Female</th>\n",
       "      <th>Gender_Male</th>\n",
       "      <th>City_Miami</th>\n",
       "      <th>Membership Type_Silver</th>\n",
       "    </tr>\n",
       "  </thead>\n",
       "  <tbody>\n",
       "    <tr>\n",
       "      <th>0</th>\n",
       "      <td>0.058824</td>\n",
       "      <td>0.279095</td>\n",
       "      <td>0.428571</td>\n",
       "      <td>0.526316</td>\n",
       "      <td>1.0</td>\n",
       "      <td>0.851852</td>\n",
       "      <td>0.666667</td>\n",
       "      <td>1.0</td>\n",
       "      <td>0.0</td>\n",
       "      <td>0.0</td>\n",
       "      <td>1.0</td>\n",
       "      <td>1.0</td>\n",
       "      <td>1.0</td>\n",
       "    </tr>\n",
       "    <tr>\n",
       "      <th>1</th>\n",
       "      <td>0.352941</td>\n",
       "      <td>0.251961</td>\n",
       "      <td>0.285714</td>\n",
       "      <td>0.421053</td>\n",
       "      <td>1.0</td>\n",
       "      <td>0.462963</td>\n",
       "      <td>0.666667</td>\n",
       "      <td>0.0</td>\n",
       "      <td>1.0</td>\n",
       "      <td>0.0</td>\n",
       "      <td>1.0</td>\n",
       "      <td>1.0</td>\n",
       "      <td>1.0</td>\n",
       "    </tr>\n",
       "    <tr>\n",
       "      <th>2</th>\n",
       "      <td>0.000000</td>\n",
       "      <td>0.261246</td>\n",
       "      <td>0.357143</td>\n",
       "      <td>0.368421</td>\n",
       "      <td>1.0</td>\n",
       "      <td>0.722222</td>\n",
       "      <td>0.666667</td>\n",
       "      <td>1.0</td>\n",
       "      <td>0.0</td>\n",
       "      <td>0.0</td>\n",
       "      <td>1.0</td>\n",
       "      <td>1.0</td>\n",
       "      <td>1.0</td>\n",
       "    </tr>\n",
       "    <tr>\n",
       "      <th>3</th>\n",
       "      <td>0.058824</td>\n",
       "      <td>0.270080</td>\n",
       "      <td>0.428571</td>\n",
       "      <td>0.578947</td>\n",
       "      <td>1.0</td>\n",
       "      <td>0.833333</td>\n",
       "      <td>0.666667</td>\n",
       "      <td>1.0</td>\n",
       "      <td>0.0</td>\n",
       "      <td>0.0</td>\n",
       "      <td>1.0</td>\n",
       "      <td>1.0</td>\n",
       "      <td>1.0</td>\n",
       "    </tr>\n",
       "    <tr>\n",
       "      <th>4</th>\n",
       "      <td>0.352941</td>\n",
       "      <td>0.233931</td>\n",
       "      <td>0.214286</td>\n",
       "      <td>0.421053</td>\n",
       "      <td>1.0</td>\n",
       "      <td>0.444444</td>\n",
       "      <td>0.666667</td>\n",
       "      <td>0.0</td>\n",
       "      <td>1.0</td>\n",
       "      <td>0.0</td>\n",
       "      <td>1.0</td>\n",
       "      <td>1.0</td>\n",
       "      <td>1.0</td>\n",
       "    </tr>\n",
       "  </tbody>\n",
       "</table>\n",
       "</div>"
      ],
      "text/plain": [
       "        Age  Total Spend  Items Purchased  Average Rating  Discount Applied  \\\n",
       "0  0.058824     0.279095         0.428571        0.526316               1.0   \n",
       "1  0.352941     0.251961         0.285714        0.421053               1.0   \n",
       "2  0.000000     0.261246         0.357143        0.368421               1.0   \n",
       "3  0.058824     0.270080         0.428571        0.578947               1.0   \n",
       "4  0.352941     0.233931         0.214286        0.421053               1.0   \n",
       "\n",
       "   Days Since Last Purchase  Satisfaction Level  Miami_Young_Adults  \\\n",
       "0                  0.851852            0.666667                 1.0   \n",
       "1                  0.462963            0.666667                 0.0   \n",
       "2                  0.722222            0.666667                 1.0   \n",
       "3                  0.833333            0.666667                 1.0   \n",
       "4                  0.444444            0.666667                 0.0   \n",
       "\n",
       "   Miami_Middle-aged_Adults  Gender_Female  Gender_Male  City_Miami  \\\n",
       "0                       0.0            0.0          1.0         1.0   \n",
       "1                       1.0            0.0          1.0         1.0   \n",
       "2                       0.0            0.0          1.0         1.0   \n",
       "3                       0.0            0.0          1.0         1.0   \n",
       "4                       1.0            0.0          1.0         1.0   \n",
       "\n",
       "   Membership Type_Silver  \n",
       "0                     1.0  \n",
       "1                     1.0  \n",
       "2                     1.0  \n",
       "3                     1.0  \n",
       "4                     1.0  "
      ]
     },
     "execution_count": 3,
     "metadata": {},
     "output_type": "execute_result"
    }
   ],
   "source": [
    "df = pd.read_csv(file_path)\n",
    "df.head()"
   ]
  },
  {
   "cell_type": "code",
   "execution_count": 4,
   "metadata": {
    "ExecuteTime": {
     "end_time": "2025-01-26T14:39:26.653395Z",
     "start_time": "2025-01-26T14:39:26.639264Z"
    }
   },
   "outputs": [],
   "source": [
    "# Step 1: Select the features for the recommendation system\n",
    "features = df.columns"
   ]
  },
  {
   "cell_type": "code",
   "execution_count": 5,
   "metadata": {
    "ExecuteTime": {
     "end_time": "2025-01-26T14:39:26.668290Z",
     "start_time": "2025-01-26T14:39:26.654348Z"
    }
   },
   "outputs": [],
   "source": [
    "# Step 2: Extract the relevant features from the DataFrame\n",
    "df_features = df[features]"
   ]
  },
  {
   "cell_type": "code",
   "execution_count": 6,
   "metadata": {
    "ExecuteTime": {
     "end_time": "2025-01-26T14:39:26.683596Z",
     "start_time": "2025-01-26T14:39:26.670287Z"
    }
   },
   "outputs": [],
   "source": [
    "# Step 3: Compute cosine similarity\n",
    "cosine_sim = cosine_similarity(df_features)"
   ]
  },
  {
   "cell_type": "code",
   "execution_count": 7,
   "metadata": {
    "ExecuteTime": {
     "end_time": "2025-01-26T14:39:26.699592Z",
     "start_time": "2025-01-26T14:39:26.689594Z"
    }
   },
   "outputs": [],
   "source": [
    "# Step 4: Convert the similarity matrix into a DataFrame for easier analysis\n",
    "cosine_sim_df = pd.DataFrame(cosine_sim, index=df.index, columns=df.index)"
   ]
  },
  {
   "cell_type": "code",
   "execution_count": 8,
   "metadata": {
    "ExecuteTime": {
     "end_time": "2025-01-26T14:39:26.732689Z",
     "start_time": "2025-01-26T14:39:26.701594Z"
    }
   },
   "outputs": [
    {
     "data": {
      "text/html": [
       "<div>\n",
       "<style scoped>\n",
       "    .dataframe tbody tr th:only-of-type {\n",
       "        vertical-align: middle;\n",
       "    }\n",
       "\n",
       "    .dataframe tbody tr th {\n",
       "        vertical-align: top;\n",
       "    }\n",
       "\n",
       "    .dataframe thead th {\n",
       "        text-align: right;\n",
       "    }\n",
       "</style>\n",
       "<table border=\"1\" class=\"dataframe\">\n",
       "  <thead>\n",
       "    <tr style=\"text-align: right;\">\n",
       "      <th></th>\n",
       "      <th>0</th>\n",
       "      <th>1</th>\n",
       "      <th>2</th>\n",
       "      <th>3</th>\n",
       "      <th>4</th>\n",
       "      <th>5</th>\n",
       "      <th>6</th>\n",
       "      <th>7</th>\n",
       "      <th>8</th>\n",
       "      <th>9</th>\n",
       "      <th>...</th>\n",
       "      <th>48</th>\n",
       "      <th>49</th>\n",
       "      <th>50</th>\n",
       "      <th>51</th>\n",
       "      <th>52</th>\n",
       "      <th>53</th>\n",
       "      <th>54</th>\n",
       "      <th>55</th>\n",
       "      <th>56</th>\n",
       "      <th>57</th>\n",
       "    </tr>\n",
       "  </thead>\n",
       "  <tbody>\n",
       "    <tr>\n",
       "      <th>0</th>\n",
       "      <td>1.000000</td>\n",
       "      <td>0.823829</td>\n",
       "      <td>0.996615</td>\n",
       "      <td>0.999764</td>\n",
       "      <td>0.819922</td>\n",
       "      <td>0.997770</td>\n",
       "      <td>0.999887</td>\n",
       "      <td>0.818641</td>\n",
       "      <td>0.999764</td>\n",
       "      <td>0.819922</td>\n",
       "      <td>...</td>\n",
       "      <td>0.999480</td>\n",
       "      <td>0.826004</td>\n",
       "      <td>0.999292</td>\n",
       "      <td>0.827099</td>\n",
       "      <td>0.999062</td>\n",
       "      <td>0.828148</td>\n",
       "      <td>0.998792</td>\n",
       "      <td>0.829149</td>\n",
       "      <td>0.998480</td>\n",
       "      <td>0.830103</td>\n",
       "    </tr>\n",
       "    <tr>\n",
       "      <th>1</th>\n",
       "      <td>0.823829</td>\n",
       "      <td>1.000000</td>\n",
       "      <td>0.822748</td>\n",
       "      <td>0.824246</td>\n",
       "      <td>0.999538</td>\n",
       "      <td>0.824384</td>\n",
       "      <td>0.824844</td>\n",
       "      <td>0.999478</td>\n",
       "      <td>0.824246</td>\n",
       "      <td>0.999538</td>\n",
       "      <td>...</td>\n",
       "      <td>0.821060</td>\n",
       "      <td>0.999077</td>\n",
       "      <td>0.820324</td>\n",
       "      <td>0.998832</td>\n",
       "      <td>0.819556</td>\n",
       "      <td>0.998534</td>\n",
       "      <td>0.818758</td>\n",
       "      <td>0.998185</td>\n",
       "      <td>0.817929</td>\n",
       "      <td>0.997786</td>\n",
       "    </tr>\n",
       "    <tr>\n",
       "      <th>2</th>\n",
       "      <td>0.996615</td>\n",
       "      <td>0.822748</td>\n",
       "      <td>1.000000</td>\n",
       "      <td>0.995547</td>\n",
       "      <td>0.819842</td>\n",
       "      <td>0.999101</td>\n",
       "      <td>0.997099</td>\n",
       "      <td>0.818857</td>\n",
       "      <td>0.995547</td>\n",
       "      <td>0.819842</td>\n",
       "      <td>...</td>\n",
       "      <td>0.993867</td>\n",
       "      <td>0.824404</td>\n",
       "      <td>0.993406</td>\n",
       "      <td>0.825196</td>\n",
       "      <td>0.992903</td>\n",
       "      <td>0.825942</td>\n",
       "      <td>0.992361</td>\n",
       "      <td>0.826642</td>\n",
       "      <td>0.991780</td>\n",
       "      <td>0.827296</td>\n",
       "    </tr>\n",
       "    <tr>\n",
       "      <th>3</th>\n",
       "      <td>0.999764</td>\n",
       "      <td>0.824246</td>\n",
       "      <td>0.995547</td>\n",
       "      <td>1.000000</td>\n",
       "      <td>0.820433</td>\n",
       "      <td>0.997609</td>\n",
       "      <td>0.999786</td>\n",
       "      <td>0.819197</td>\n",
       "      <td>1.000000</td>\n",
       "      <td>0.820433</td>\n",
       "      <td>...</td>\n",
       "      <td>0.999442</td>\n",
       "      <td>0.826238</td>\n",
       "      <td>0.999201</td>\n",
       "      <td>0.827276</td>\n",
       "      <td>0.998918</td>\n",
       "      <td>0.828267</td>\n",
       "      <td>0.998594</td>\n",
       "      <td>0.829210</td>\n",
       "      <td>0.998229</td>\n",
       "      <td>0.830107</td>\n",
       "    </tr>\n",
       "    <tr>\n",
       "      <th>4</th>\n",
       "      <td>0.819922</td>\n",
       "      <td>0.999538</td>\n",
       "      <td>0.819842</td>\n",
       "      <td>0.820433</td>\n",
       "      <td>1.000000</td>\n",
       "      <td>0.821600</td>\n",
       "      <td>0.821058</td>\n",
       "      <td>0.999965</td>\n",
       "      <td>0.820433</td>\n",
       "      <td>1.000000</td>\n",
       "      <td>...</td>\n",
       "      <td>0.817060</td>\n",
       "      <td>0.999315</td>\n",
       "      <td>0.816288</td>\n",
       "      <td>0.999019</td>\n",
       "      <td>0.815484</td>\n",
       "      <td>0.998673</td>\n",
       "      <td>0.814650</td>\n",
       "      <td>0.998274</td>\n",
       "      <td>0.813786</td>\n",
       "      <td>0.997826</td>\n",
       "    </tr>\n",
       "  </tbody>\n",
       "</table>\n",
       "<p>5 rows × 58 columns</p>\n",
       "</div>"
      ],
      "text/plain": [
       "         0         1         2         3         4         5         6   \\\n",
       "0  1.000000  0.823829  0.996615  0.999764  0.819922  0.997770  0.999887   \n",
       "1  0.823829  1.000000  0.822748  0.824246  0.999538  0.824384  0.824844   \n",
       "2  0.996615  0.822748  1.000000  0.995547  0.819842  0.999101  0.997099   \n",
       "3  0.999764  0.824246  0.995547  1.000000  0.820433  0.997609  0.999786   \n",
       "4  0.819922  0.999538  0.819842  0.820433  1.000000  0.821600  0.821058   \n",
       "\n",
       "         7         8         9   ...        48        49        50        51  \\\n",
       "0  0.818641  0.999764  0.819922  ...  0.999480  0.826004  0.999292  0.827099   \n",
       "1  0.999478  0.824246  0.999538  ...  0.821060  0.999077  0.820324  0.998832   \n",
       "2  0.818857  0.995547  0.819842  ...  0.993867  0.824404  0.993406  0.825196   \n",
       "3  0.819197  1.000000  0.820433  ...  0.999442  0.826238  0.999201  0.827276   \n",
       "4  0.999965  0.820433  1.000000  ...  0.817060  0.999315  0.816288  0.999019   \n",
       "\n",
       "         52        53        54        55        56        57  \n",
       "0  0.999062  0.828148  0.998792  0.829149  0.998480  0.830103  \n",
       "1  0.819556  0.998534  0.818758  0.998185  0.817929  0.997786  \n",
       "2  0.992903  0.825942  0.992361  0.826642  0.991780  0.827296  \n",
       "3  0.998918  0.828267  0.998594  0.829210  0.998229  0.830107  \n",
       "4  0.815484  0.998673  0.814650  0.998274  0.813786  0.997826  \n",
       "\n",
       "[5 rows x 58 columns]"
      ]
     },
     "execution_count": 8,
     "metadata": {},
     "output_type": "execute_result"
    }
   ],
   "source": [
    "# Show the similarity matrix\n",
    "cosine_sim_df.head()"
   ]
  },
  {
   "cell_type": "code",
   "execution_count": 9,
   "metadata": {
    "ExecuteTime": {
     "end_time": "2025-01-26T14:39:26.748526Z",
     "start_time": "2025-01-26T14:39:26.733702Z"
    }
   },
   "outputs": [],
   "source": [
    "def get_recommendations(user_id, top_n=3):\n",
    "    # Get the similarity scores for the given user\n",
    "    sim_scores = cosine_sim_df[user_id]\n",
    "    \n",
    "    # Sort users based on the similarity score (highest to lowest)\n",
    "    similar_users = sim_scores.sort_values(ascending=False)[1:top_n+1]  # Skip the user themselves\n",
    "    \n",
    "    return similar_users"
   ]
  },
  {
   "cell_type": "code",
   "execution_count": 10,
   "metadata": {
    "ExecuteTime": {
     "end_time": "2025-01-26T14:39:26.764001Z",
     "start_time": "2025-01-26T14:39:26.749805Z"
    }
   },
   "outputs": [
    {
     "name": "stdout",
     "output_type": "stream",
     "text": [
      "41    0.999585\n",
      "26    0.999538\n",
      "4     0.999538\n",
      "Name: 1, dtype: float64\n"
     ]
    }
   ],
   "source": [
    "# Example: Recommend for user with ID 0\n",
    "recommendations = get_recommendations(1)\n",
    "print(recommendations)"
   ]
  },
  {
   "cell_type": "code",
   "execution_count": null,
   "metadata": {},
   "outputs": [],
   "source": []
  }
 ],
 "metadata": {
  "kernelspec": {
   "display_name": "Python 3",
   "language": "python",
   "name": "python3"
  },
  "language_info": {
   "codemirror_mode": {
    "name": "ipython",
    "version": 3
   },
   "file_extension": ".py",
   "mimetype": "text/x-python",
   "name": "python",
   "nbconvert_exporter": "python",
   "pygments_lexer": "ipython3",
   "version": "3.8.5"
  },
  "toc": {
   "base_numbering": 1,
   "nav_menu": {},
   "number_sections": true,
   "sideBar": true,
   "skip_h1_title": false,
   "title_cell": "Table of Contents",
   "title_sidebar": "Contents",
   "toc_cell": false,
   "toc_position": {},
   "toc_section_display": true,
   "toc_window_display": false
  }
 },
 "nbformat": 4,
 "nbformat_minor": 4
}
