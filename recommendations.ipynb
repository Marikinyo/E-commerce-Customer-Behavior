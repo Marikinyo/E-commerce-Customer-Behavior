{
 "cells": [
  {
   "cell_type": "code",
   "execution_count": 1,
   "metadata": {
    "ExecuteTime": {
     "end_time": "2025-01-27T18:37:19.587250Z",
     "start_time": "2025-01-27T18:37:18.826167Z"
    }
   },
   "outputs": [
    {
     "name": "stderr",
     "output_type": "stream",
     "text": [
      "C:\\Users\\user\\anaconda3\\lib\\site-packages\\pandas\\core\\computation\\expressions.py:20: UserWarning: Pandas requires version '2.7.3' or newer of 'numexpr' (version '2.7.1' currently installed).\n",
      "  from pandas.core.computation.check import NUMEXPR_INSTALLED\n"
     ]
    }
   ],
   "source": [
    "import os\n",
    "import glob\n",
    "import pandas as pd\n",
    "from sklearn.metrics.pairwise import cosine_similarity"
   ]
  },
  {
   "cell_type": "code",
   "execution_count": 2,
   "metadata": {
    "ExecuteTime": {
     "end_time": "2025-01-27T18:37:19.592853Z",
     "start_time": "2025-01-27T18:37:19.587250Z"
    }
   },
   "outputs": [],
   "source": [
    "main_dir = 'data/processed/'\n",
    "file_name = 'cluster_*.csv'\n",
    "file_path = os.path.join(main_dir, file_name)"
   ]
  },
  {
   "cell_type": "code",
   "execution_count": 3,
   "metadata": {
    "ExecuteTime": {
     "end_time": "2025-01-27T18:37:19.609795Z",
     "start_time": "2025-01-27T18:37:19.597587Z"
    }
   },
   "outputs": [],
   "source": [
    "csv_files = glob.glob(file_path)"
   ]
  },
  {
   "cell_type": "code",
   "execution_count": 4,
   "metadata": {
    "ExecuteTime": {
     "end_time": "2025-01-27T18:37:19.642182Z",
     "start_time": "2025-01-27T18:37:19.609795Z"
    }
   },
   "outputs": [],
   "source": [
    "dataframes = [pd.read_csv(file, index_col='Customer ID') for file in csv_files]"
   ]
  },
  {
   "cell_type": "markdown",
   "metadata": {},
   "source": [
    "# Recommendations"
   ]
  },
  {
   "cell_type": "code",
   "execution_count": 5,
   "metadata": {
    "ExecuteTime": {
     "end_time": "2025-01-27T18:37:19.658704Z",
     "start_time": "2025-01-27T18:37:19.643072Z"
    }
   },
   "outputs": [],
   "source": [
    "# store the cosine similarity DataFrames for each DataFrame in the list\n",
    "cosine_sim_dfs = {}"
   ]
  },
  {
   "cell_type": "code",
   "execution_count": 6,
   "metadata": {
    "ExecuteTime": {
     "end_time": "2025-01-27T18:37:19.674402Z",
     "start_time": "2025-01-27T18:37:19.660375Z"
    }
   },
   "outputs": [],
   "source": [
    "df_features = ['Age', 'Total Spend', 'Items Purchased', 'Average Rating',\n",
    "       'Discount Applied', 'Days Since Last Purchase', 'Satisfaction Level']"
   ]
  },
  {
   "cell_type": "code",
   "execution_count": 7,
   "metadata": {
    "ExecuteTime": {
     "end_time": "2025-01-27T18:37:19.691088Z",
     "start_time": "2025-01-27T18:37:19.677074Z"
    }
   },
   "outputs": [],
   "source": [
    "# List of custom dataframe names\n",
    "dataframe_names = ['houston_df', 'san_francisco_df', 'los_angeles_df', 'new_york_df', 'chicago_df', 'miami_df']"
   ]
  },
  {
   "cell_type": "code",
   "execution_count": 8,
   "metadata": {
    "ExecuteTime": {
     "end_time": "2025-01-27T18:37:19.711439Z",
     "start_time": "2025-01-27T18:37:19.692753Z"
    }
   },
   "outputs": [],
   "source": [
    "for i, (df, name) in enumerate(zip(dataframes, dataframe_names)):    \n",
    "    # relevant features\n",
    "    df_selected = df[df_features]\n",
    "    \n",
    "    # cosine similarity\n",
    "    cosine_sim = cosine_similarity(df_selected)\n",
    "    \n",
    "    # Convert similarity matrix to a DataFrame\n",
    "    cosine_sim_df = pd.DataFrame(cosine_sim, index=df.index, columns=df.index)\n",
    "    \n",
    "    # Store the cosine similarity DataFrame with the custom name\n",
    "    cosine_sim_dfs[name] = cosine_sim_df"
   ]
  },
  {
   "cell_type": "code",
   "execution_count": 13,
   "metadata": {
    "ExecuteTime": {
     "end_time": "2025-01-27T18:40:08.328800Z",
     "start_time": "2025-01-27T18:40:08.297291Z"
    }
   },
   "outputs": [
    {
     "data": {
      "text/html": [
       "<div>\n",
       "<style scoped>\n",
       "    .dataframe tbody tr th:only-of-type {\n",
       "        vertical-align: middle;\n",
       "    }\n",
       "\n",
       "    .dataframe tbody tr th {\n",
       "        vertical-align: top;\n",
       "    }\n",
       "\n",
       "    .dataframe thead th {\n",
       "        text-align: right;\n",
       "    }\n",
       "</style>\n",
       "<table border=\"1\" class=\"dataframe\">\n",
       "  <thead>\n",
       "    <tr style=\"text-align: right;\">\n",
       "      <th>Customer ID</th>\n",
       "      <th>102</th>\n",
       "      <th>108</th>\n",
       "      <th>114</th>\n",
       "      <th>120</th>\n",
       "      <th>126</th>\n",
       "      <th>132</th>\n",
       "      <th>138</th>\n",
       "      <th>144</th>\n",
       "      <th>150</th>\n",
       "      <th>156</th>\n",
       "      <th>...</th>\n",
       "      <th>395</th>\n",
       "      <th>401</th>\n",
       "      <th>407</th>\n",
       "      <th>413</th>\n",
       "      <th>419</th>\n",
       "      <th>425</th>\n",
       "      <th>431</th>\n",
       "      <th>437</th>\n",
       "      <th>443</th>\n",
       "      <th>449</th>\n",
       "    </tr>\n",
       "    <tr>\n",
       "      <th>Customer ID</th>\n",
       "      <th></th>\n",
       "      <th></th>\n",
       "      <th></th>\n",
       "      <th></th>\n",
       "      <th></th>\n",
       "      <th></th>\n",
       "      <th></th>\n",
       "      <th></th>\n",
       "      <th></th>\n",
       "      <th></th>\n",
       "      <th></th>\n",
       "      <th></th>\n",
       "      <th></th>\n",
       "      <th></th>\n",
       "      <th></th>\n",
       "      <th></th>\n",
       "      <th></th>\n",
       "      <th></th>\n",
       "      <th></th>\n",
       "      <th></th>\n",
       "      <th></th>\n",
       "    </tr>\n",
       "  </thead>\n",
       "  <tbody>\n",
       "    <tr>\n",
       "      <th>102</th>\n",
       "      <td>1.000000</td>\n",
       "      <td>0.994434</td>\n",
       "      <td>0.933122</td>\n",
       "      <td>0.998069</td>\n",
       "      <td>0.992366</td>\n",
       "      <td>0.927146</td>\n",
       "      <td>0.999586</td>\n",
       "      <td>0.990228</td>\n",
       "      <td>0.997043</td>\n",
       "      <td>0.992366</td>\n",
       "      <td>...</td>\n",
       "      <td>0.996687</td>\n",
       "      <td>0.997851</td>\n",
       "      <td>0.997411</td>\n",
       "      <td>0.999786</td>\n",
       "      <td>0.997212</td>\n",
       "      <td>0.999058</td>\n",
       "      <td>0.999301</td>\n",
       "      <td>0.999788</td>\n",
       "      <td>0.996924</td>\n",
       "      <td>0.997774</td>\n",
       "    </tr>\n",
       "    <tr>\n",
       "      <th>108</th>\n",
       "      <td>0.994434</td>\n",
       "      <td>1.000000</td>\n",
       "      <td>0.937373</td>\n",
       "      <td>0.996513</td>\n",
       "      <td>0.999054</td>\n",
       "      <td>0.933784</td>\n",
       "      <td>0.995696</td>\n",
       "      <td>0.998485</td>\n",
       "      <td>0.997539</td>\n",
       "      <td>0.999054</td>\n",
       "      <td>...</td>\n",
       "      <td>0.997174</td>\n",
       "      <td>0.990966</td>\n",
       "      <td>0.998787</td>\n",
       "      <td>0.996175</td>\n",
       "      <td>0.994047</td>\n",
       "      <td>0.993427</td>\n",
       "      <td>0.993914</td>\n",
       "      <td>0.992294</td>\n",
       "      <td>0.991954</td>\n",
       "      <td>0.986619</td>\n",
       "    </tr>\n",
       "    <tr>\n",
       "      <th>114</th>\n",
       "      <td>0.933122</td>\n",
       "      <td>0.937373</td>\n",
       "      <td>1.000000</td>\n",
       "      <td>0.929917</td>\n",
       "      <td>0.940153</td>\n",
       "      <td>0.996808</td>\n",
       "      <td>0.934083</td>\n",
       "      <td>0.939390</td>\n",
       "      <td>0.930563</td>\n",
       "      <td>0.940153</td>\n",
       "      <td>...</td>\n",
       "      <td>0.931387</td>\n",
       "      <td>0.938819</td>\n",
       "      <td>0.940655</td>\n",
       "      <td>0.934467</td>\n",
       "      <td>0.929015</td>\n",
       "      <td>0.936405</td>\n",
       "      <td>0.937028</td>\n",
       "      <td>0.931399</td>\n",
       "      <td>0.927333</td>\n",
       "      <td>0.930781</td>\n",
       "    </tr>\n",
       "    <tr>\n",
       "      <th>120</th>\n",
       "      <td>0.998069</td>\n",
       "      <td>0.996513</td>\n",
       "      <td>0.929917</td>\n",
       "      <td>1.000000</td>\n",
       "      <td>0.993495</td>\n",
       "      <td>0.928153</td>\n",
       "      <td>0.998945</td>\n",
       "      <td>0.992248</td>\n",
       "      <td>0.999764</td>\n",
       "      <td>0.993495</td>\n",
       "      <td>...</td>\n",
       "      <td>0.998611</td>\n",
       "      <td>0.994836</td>\n",
       "      <td>0.996816</td>\n",
       "      <td>0.998591</td>\n",
       "      <td>0.997733</td>\n",
       "      <td>0.995252</td>\n",
       "      <td>0.996142</td>\n",
       "      <td>0.997111</td>\n",
       "      <td>0.996750</td>\n",
       "      <td>0.991884</td>\n",
       "    </tr>\n",
       "    <tr>\n",
       "      <th>126</th>\n",
       "      <td>0.992366</td>\n",
       "      <td>0.999054</td>\n",
       "      <td>0.940153</td>\n",
       "      <td>0.993495</td>\n",
       "      <td>1.000000</td>\n",
       "      <td>0.934136</td>\n",
       "      <td>0.994007</td>\n",
       "      <td>0.999793</td>\n",
       "      <td>0.994992</td>\n",
       "      <td>1.000000</td>\n",
       "      <td>...</td>\n",
       "      <td>0.993319</td>\n",
       "      <td>0.990121</td>\n",
       "      <td>0.998486</td>\n",
       "      <td>0.994562</td>\n",
       "      <td>0.989364</td>\n",
       "      <td>0.993076</td>\n",
       "      <td>0.992037</td>\n",
       "      <td>0.989776</td>\n",
       "      <td>0.986864</td>\n",
       "      <td>0.984962</td>\n",
       "    </tr>\n",
       "  </tbody>\n",
       "</table>\n",
       "<p>5 rows × 59 columns</p>\n",
       "</div>"
      ],
      "text/plain": [
       "Customer ID       102       108       114       120       126       132  \\\n",
       "Customer ID                                                               \n",
       "102          1.000000  0.994434  0.933122  0.998069  0.992366  0.927146   \n",
       "108          0.994434  1.000000  0.937373  0.996513  0.999054  0.933784   \n",
       "114          0.933122  0.937373  1.000000  0.929917  0.940153  0.996808   \n",
       "120          0.998069  0.996513  0.929917  1.000000  0.993495  0.928153   \n",
       "126          0.992366  0.999054  0.940153  0.993495  1.000000  0.934136   \n",
       "\n",
       "Customer ID       138       144       150       156  ...       395       401  \\\n",
       "Customer ID                                          ...                       \n",
       "102          0.999586  0.990228  0.997043  0.992366  ...  0.996687  0.997851   \n",
       "108          0.995696  0.998485  0.997539  0.999054  ...  0.997174  0.990966   \n",
       "114          0.934083  0.939390  0.930563  0.940153  ...  0.931387  0.938819   \n",
       "120          0.998945  0.992248  0.999764  0.993495  ...  0.998611  0.994836   \n",
       "126          0.994007  0.999793  0.994992  1.000000  ...  0.993319  0.990121   \n",
       "\n",
       "Customer ID       407       413       419       425       431       437  \\\n",
       "Customer ID                                                               \n",
       "102          0.997411  0.999786  0.997212  0.999058  0.999301  0.999788   \n",
       "108          0.998787  0.996175  0.994047  0.993427  0.993914  0.992294   \n",
       "114          0.940655  0.934467  0.929015  0.936405  0.937028  0.931399   \n",
       "120          0.996816  0.998591  0.997733  0.995252  0.996142  0.997111   \n",
       "126          0.998486  0.994562  0.989364  0.993076  0.992037  0.989776   \n",
       "\n",
       "Customer ID       443       449  \n",
       "Customer ID                      \n",
       "102          0.996924  0.997774  \n",
       "108          0.991954  0.986619  \n",
       "114          0.927333  0.930781  \n",
       "120          0.996750  0.991884  \n",
       "126          0.986864  0.984962  \n",
       "\n",
       "[5 rows x 59 columns]"
      ]
     },
     "execution_count": 13,
     "metadata": {},
     "output_type": "execute_result"
    }
   ],
   "source": [
    "cosine_sim_dfs['houston_df'].head()"
   ]
  },
  {
   "cell_type": "code",
   "execution_count": 10,
   "metadata": {
    "ExecuteTime": {
     "end_time": "2025-01-27T18:37:19.762497Z",
     "start_time": "2025-01-27T18:37:19.745753Z"
    }
   },
   "outputs": [],
   "source": [
    "def get_recommendations(dataframe_key, user_id, top_n=3):\n",
    "    # similarity matrix\n",
    "    sim_df = cosine_sim_dfs[dataframe_key]\n",
    "    \n",
    "    # similarity scores for the given user\n",
    "    sim_scores = sim_df[user_id]\n",
    "    \n",
    "    # Sort users based on similarity score\n",
    "    similar_users = sim_scores.sort_values(ascending=False)[1:top_n+1]\n",
    "    \n",
    "    return similar_users"
   ]
  },
  {
   "cell_type": "code",
   "execution_count": 11,
   "metadata": {
    "ExecuteTime": {
     "end_time": "2025-01-27T18:37:19.778103Z",
     "start_time": "2025-01-27T18:37:19.763312Z"
    }
   },
   "outputs": [
    {
     "name": "stdout",
     "output_type": "stream",
     "text": [
      "Customer ID\n",
      "363    0.999852\n",
      "387    0.998250\n",
      "292    0.998062\n",
      "Name: 106, dtype: float64\n"
     ]
    }
   ],
   "source": [
    "print(get_recommendations('houston_df', user_id=106, top_n=3))"
   ]
  },
  {
   "cell_type": "markdown",
   "metadata": {},
   "source": [
    "# Save recommendation matrices"
   ]
  },
  {
   "cell_type": "code",
   "execution_count": 14,
   "metadata": {
    "ExecuteTime": {
     "end_time": "2025-01-27T18:44:34.352965Z",
     "start_time": "2025-01-27T18:44:34.345970Z"
    }
   },
   "outputs": [],
   "source": [
    "# Directory path where files will be saved\n",
    "save_dir = 'data/processed/'"
   ]
  },
  {
   "cell_type": "code",
   "execution_count": 15,
   "metadata": {
    "ExecuteTime": {
     "end_time": "2025-01-27T18:44:34.906982Z",
     "start_time": "2025-01-27T18:44:34.852191Z"
    }
   },
   "outputs": [
    {
     "name": "stdout",
     "output_type": "stream",
     "text": [
      "File saved successfully at data/processed/houston_df_cosine_similarity.csv.\n",
      "File saved successfully at data/processed/san_francisco_df_cosine_similarity.csv.\n",
      "File saved successfully at data/processed/los_angeles_df_cosine_similarity.csv.\n",
      "File saved successfully at data/processed/new_york_df_cosine_similarity.csv.\n",
      "File saved successfully at data/processed/chicago_df_cosine_similarity.csv.\n",
      "File saved successfully at data/processed/miami_df_cosine_similarity.csv.\n"
     ]
    }
   ],
   "source": [
    "for name, cosine_sim_df in cosine_sim_dfs.items():\n",
    "    file_path = os.path.join(save_dir, f'cosine_similarity_{name}.csv')\n",
    "    cosine_sim_df.to_csv(file_path)\n",
    "    print(f\"File saved successfully at {file_path}.\")"
   ]
  },
  {
   "cell_type": "code",
   "execution_count": null,
   "metadata": {},
   "outputs": [],
   "source": []
  }
 ],
 "metadata": {
  "kernelspec": {
   "display_name": "Python 3",
   "language": "python",
   "name": "python3"
  },
  "language_info": {
   "codemirror_mode": {
    "name": "ipython",
    "version": 3
   },
   "file_extension": ".py",
   "mimetype": "text/x-python",
   "name": "python",
   "nbconvert_exporter": "python",
   "pygments_lexer": "ipython3",
   "version": "3.8.5"
  },
  "toc": {
   "base_numbering": 1,
   "nav_menu": {},
   "number_sections": true,
   "sideBar": true,
   "skip_h1_title": false,
   "title_cell": "Table of Contents",
   "title_sidebar": "Contents",
   "toc_cell": false,
   "toc_position": {},
   "toc_section_display": true,
   "toc_window_display": false
  }
 },
 "nbformat": 4,
 "nbformat_minor": 4
}
