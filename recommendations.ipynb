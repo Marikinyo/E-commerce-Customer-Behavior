{
 "cells": [
  {
   "cell_type": "markdown",
   "metadata": {},
   "source": [
    "Age\n",
    "Total Spend\n",
    "Items Purchased\n",
    "Average Rating\n",
    "Discount Applied\n",
    "Days Since Last Purchase\n",
    "Satisfaction Level\n",
    "City\n",
    "Gender\n",
    "Membership Type"
   ]
  },
  {
   "cell_type": "code",
   "execution_count": 16,
   "metadata": {
    "ExecuteTime": {
     "end_time": "2025-01-27T16:59:10.357729Z",
     "start_time": "2025-01-27T16:59:10.351594Z"
    }
   },
   "outputs": [],
   "source": [
    "import os\n",
    "import glob\n",
    "import pandas as pd\n",
    "from sklearn.metrics.pairwise import cosine_similarity"
   ]
  },
  {
   "cell_type": "code",
   "execution_count": 25,
   "metadata": {
    "ExecuteTime": {
     "end_time": "2025-01-27T17:00:33.897429Z",
     "start_time": "2025-01-27T17:00:33.893431Z"
    }
   },
   "outputs": [],
   "source": [
    "main_dir = 'data/processed/'\n",
    "file_name = 'cluster_*.csv'\n",
    "file_path = os.path.join(main_dir, file_name)"
   ]
  },
  {
   "cell_type": "code",
   "execution_count": 26,
   "metadata": {
    "ExecuteTime": {
     "end_time": "2025-01-27T17:00:34.175787Z",
     "start_time": "2025-01-27T17:00:34.160111Z"
    }
   },
   "outputs": [],
   "source": [
    "# Use glob to find files starting with 'cluster' and ending with '.csv'\n",
    "csv_files = glob.glob(file_path)"
   ]
  },
  {
   "cell_type": "code",
   "execution_count": 27,
   "metadata": {
    "ExecuteTime": {
     "end_time": "2025-01-27T17:00:34.443604Z",
     "start_time": "2025-01-27T17:00:34.410939Z"
    }
   },
   "outputs": [],
   "source": [
    "# Read each CSV into a DataFrame and store them in a list\n",
    "dataframes = [pd.read_csv(file) for file in csv_files]"
   ]
  },
  {
   "cell_type": "markdown",
   "metadata": {},
   "source": [
    "# Recommendations"
   ]
  },
  {
   "cell_type": "code",
   "execution_count": 31,
   "metadata": {
    "ExecuteTime": {
     "end_time": "2025-01-27T17:03:39.003010Z",
     "start_time": "2025-01-27T17:03:38.992927Z"
    }
   },
   "outputs": [],
   "source": [
    "# Dictionary to store the cosine similarity DataFrames for each DataFrame in the list\n",
    "cosine_sim_dfs = {}"
   ]
  },
  {
   "cell_type": "code",
   "execution_count": 32,
   "metadata": {
    "ExecuteTime": {
     "end_time": "2025-01-27T17:04:53.295232Z",
     "start_time": "2025-01-27T17:04:53.263078Z"
    }
   },
   "outputs": [],
   "source": [
    "for i, df in enumerate(dataframes):\n",
    "    # Extract features\n",
    "    df_features = df[df.columns]\n",
    "    \n",
    "    # cosine similarity\n",
    "    cosine_sim = cosine_similarity(df_features)\n",
    "    \n",
    "    # Convert similarity matrix into a DataFrame\n",
    "    cosine_sim_df = pd.DataFrame(cosine_sim, index=df.index, columns=df.index)\n",
    "    \n",
    "    # Store the similarity DataFrame with a key like 'df_1', 'df_2', etc.\n",
    "    cosine_sim_dfs[f'df_{i+1}'] = cosine_sim_df"
   ]
  },
  {
   "cell_type": "code",
   "execution_count": 40,
   "metadata": {
    "ExecuteTime": {
     "end_time": "2025-01-27T17:05:25.667583Z",
     "start_time": "2025-01-27T17:05:25.639138Z"
    }
   },
   "outputs": [
    {
     "data": {
      "text/html": [
       "<div>\n",
       "<style scoped>\n",
       "    .dataframe tbody tr th:only-of-type {\n",
       "        vertical-align: middle;\n",
       "    }\n",
       "\n",
       "    .dataframe tbody tr th {\n",
       "        vertical-align: top;\n",
       "    }\n",
       "\n",
       "    .dataframe thead th {\n",
       "        text-align: right;\n",
       "    }\n",
       "</style>\n",
       "<table border=\"1\" class=\"dataframe\">\n",
       "  <thead>\n",
       "    <tr style=\"text-align: right;\">\n",
       "      <th></th>\n",
       "      <th>0</th>\n",
       "      <th>1</th>\n",
       "      <th>2</th>\n",
       "      <th>3</th>\n",
       "      <th>4</th>\n",
       "      <th>5</th>\n",
       "      <th>6</th>\n",
       "      <th>7</th>\n",
       "      <th>8</th>\n",
       "      <th>9</th>\n",
       "      <th>...</th>\n",
       "      <th>48</th>\n",
       "      <th>49</th>\n",
       "      <th>50</th>\n",
       "      <th>51</th>\n",
       "      <th>52</th>\n",
       "      <th>53</th>\n",
       "      <th>54</th>\n",
       "      <th>55</th>\n",
       "      <th>56</th>\n",
       "      <th>57</th>\n",
       "    </tr>\n",
       "  </thead>\n",
       "  <tbody>\n",
       "    <tr>\n",
       "      <th>0</th>\n",
       "      <td>1.000000</td>\n",
       "      <td>0.998534</td>\n",
       "      <td>0.999034</td>\n",
       "      <td>0.996634</td>\n",
       "      <td>0.999284</td>\n",
       "      <td>0.999232</td>\n",
       "      <td>0.999357</td>\n",
       "      <td>0.998666</td>\n",
       "      <td>0.996634</td>\n",
       "      <td>0.999284</td>\n",
       "      <td>...</td>\n",
       "      <td>0.995384</td>\n",
       "      <td>0.999253</td>\n",
       "      <td>0.994916</td>\n",
       "      <td>0.999476</td>\n",
       "      <td>0.994381</td>\n",
       "      <td>0.998615</td>\n",
       "      <td>0.993773</td>\n",
       "      <td>0.998237</td>\n",
       "      <td>0.993100</td>\n",
       "      <td>0.998268</td>\n",
       "    </tr>\n",
       "    <tr>\n",
       "      <th>1</th>\n",
       "      <td>0.998534</td>\n",
       "      <td>1.000000</td>\n",
       "      <td>0.995898</td>\n",
       "      <td>0.997987</td>\n",
       "      <td>0.999057</td>\n",
       "      <td>0.997429</td>\n",
       "      <td>0.999063</td>\n",
       "      <td>0.998004</td>\n",
       "      <td>0.997987</td>\n",
       "      <td>0.999057</td>\n",
       "      <td>...</td>\n",
       "      <td>0.996121</td>\n",
       "      <td>0.998009</td>\n",
       "      <td>0.995400</td>\n",
       "      <td>0.998411</td>\n",
       "      <td>0.994830</td>\n",
       "      <td>0.996795</td>\n",
       "      <td>0.993970</td>\n",
       "      <td>0.996597</td>\n",
       "      <td>0.993262</td>\n",
       "      <td>0.996305</td>\n",
       "    </tr>\n",
       "    <tr>\n",
       "      <th>2</th>\n",
       "      <td>0.999034</td>\n",
       "      <td>0.995898</td>\n",
       "      <td>1.000000</td>\n",
       "      <td>0.994040</td>\n",
       "      <td>0.997021</td>\n",
       "      <td>0.998747</td>\n",
       "      <td>0.998153</td>\n",
       "      <td>0.996825</td>\n",
       "      <td>0.994040</td>\n",
       "      <td>0.997021</td>\n",
       "      <td>...</td>\n",
       "      <td>0.993904</td>\n",
       "      <td>0.998286</td>\n",
       "      <td>0.993615</td>\n",
       "      <td>0.998270</td>\n",
       "      <td>0.993329</td>\n",
       "      <td>0.998516</td>\n",
       "      <td>0.992899</td>\n",
       "      <td>0.997898</td>\n",
       "      <td>0.992473</td>\n",
       "      <td>0.998385</td>\n",
       "    </tr>\n",
       "    <tr>\n",
       "      <th>3</th>\n",
       "      <td>0.996634</td>\n",
       "      <td>0.997987</td>\n",
       "      <td>0.994040</td>\n",
       "      <td>1.000000</td>\n",
       "      <td>0.995673</td>\n",
       "      <td>0.997823</td>\n",
       "      <td>0.997091</td>\n",
       "      <td>0.993099</td>\n",
       "      <td>1.000000</td>\n",
       "      <td>0.995673</td>\n",
       "      <td>...</td>\n",
       "      <td>0.999044</td>\n",
       "      <td>0.993992</td>\n",
       "      <td>0.998677</td>\n",
       "      <td>0.996277</td>\n",
       "      <td>0.998170</td>\n",
       "      <td>0.993664</td>\n",
       "      <td>0.997662</td>\n",
       "      <td>0.995339</td>\n",
       "      <td>0.997016</td>\n",
       "      <td>0.993395</td>\n",
       "    </tr>\n",
       "    <tr>\n",
       "      <th>4</th>\n",
       "      <td>0.999284</td>\n",
       "      <td>0.999057</td>\n",
       "      <td>0.997021</td>\n",
       "      <td>0.995673</td>\n",
       "      <td>1.000000</td>\n",
       "      <td>0.997414</td>\n",
       "      <td>0.998776</td>\n",
       "      <td>0.999636</td>\n",
       "      <td>0.995673</td>\n",
       "      <td>1.000000</td>\n",
       "      <td>...</td>\n",
       "      <td>0.993409</td>\n",
       "      <td>0.999328</td>\n",
       "      <td>0.992652</td>\n",
       "      <td>0.999002</td>\n",
       "      <td>0.991975</td>\n",
       "      <td>0.997803</td>\n",
       "      <td>0.991080</td>\n",
       "      <td>0.996881</td>\n",
       "      <td>0.990267</td>\n",
       "      <td>0.997235</td>\n",
       "    </tr>\n",
       "  </tbody>\n",
       "</table>\n",
       "<p>5 rows × 58 columns</p>\n",
       "</div>"
      ],
      "text/plain": [
       "         0         1         2         3         4         5         6   \\\n",
       "0  1.000000  0.998534  0.999034  0.996634  0.999284  0.999232  0.999357   \n",
       "1  0.998534  1.000000  0.995898  0.997987  0.999057  0.997429  0.999063   \n",
       "2  0.999034  0.995898  1.000000  0.994040  0.997021  0.998747  0.998153   \n",
       "3  0.996634  0.997987  0.994040  1.000000  0.995673  0.997823  0.997091   \n",
       "4  0.999284  0.999057  0.997021  0.995673  1.000000  0.997414  0.998776   \n",
       "\n",
       "         7         8         9   ...        48        49        50        51  \\\n",
       "0  0.998666  0.996634  0.999284  ...  0.995384  0.999253  0.994916  0.999476   \n",
       "1  0.998004  0.997987  0.999057  ...  0.996121  0.998009  0.995400  0.998411   \n",
       "2  0.996825  0.994040  0.997021  ...  0.993904  0.998286  0.993615  0.998270   \n",
       "3  0.993099  1.000000  0.995673  ...  0.999044  0.993992  0.998677  0.996277   \n",
       "4  0.999636  0.995673  1.000000  ...  0.993409  0.999328  0.992652  0.999002   \n",
       "\n",
       "         52        53        54        55        56        57  \n",
       "0  0.994381  0.998615  0.993773  0.998237  0.993100  0.998268  \n",
       "1  0.994830  0.996795  0.993970  0.996597  0.993262  0.996305  \n",
       "2  0.993329  0.998516  0.992899  0.997898  0.992473  0.998385  \n",
       "3  0.998170  0.993664  0.997662  0.995339  0.997016  0.993395  \n",
       "4  0.991975  0.997803  0.991080  0.996881  0.990267  0.997235  \n",
       "\n",
       "[5 rows x 58 columns]"
      ]
     },
     "execution_count": 40,
     "metadata": {},
     "output_type": "execute_result"
    }
   ],
   "source": [
    "cosine_sim_dfs['df_1'].head()"
   ]
  },
  {
   "cell_type": "code",
   "execution_count": null,
   "metadata": {},
   "outputs": [],
   "source": [
    "# Define a recommendation function to work for a specific DataFrame\n",
    "def get_recommendations(dataframe_key, user_id, top_n=3):\n",
    "    # Retrieve the appropriate similarity matrix\n",
    "    sim_df = cosine_sim_dfs[dataframe_key]\n",
    "    \n",
    "    # Get similarity scores for the given user\n",
    "    sim_scores = sim_df[user_id]\n",
    "    \n",
    "    # Sort users based on similarity score (highest to lowest), skipping the user themselves\n",
    "    similar_users = sim_scores.sort_values(ascending=False)[1:top_n+1]\n",
    "    \n",
    "    return similar_users"
   ]
  },
  {
   "cell_type": "code",
   "execution_count": null,
   "metadata": {},
   "outputs": [],
   "source": [
    "# Example: Get recommendations for user_id=0 from the first DataFrame\n",
    "print(get_recommendations('df_1', user_id=0, top_n=3))"
   ]
  }
 ],
 "metadata": {
  "kernelspec": {
   "display_name": "Python 3",
   "language": "python",
   "name": "python3"
  },
  "language_info": {
   "codemirror_mode": {
    "name": "ipython",
    "version": 3
   },
   "file_extension": ".py",
   "mimetype": "text/x-python",
   "name": "python",
   "nbconvert_exporter": "python",
   "pygments_lexer": "ipython3",
   "version": "3.8.5"
  },
  "toc": {
   "base_numbering": 1,
   "nav_menu": {},
   "number_sections": true,
   "sideBar": true,
   "skip_h1_title": false,
   "title_cell": "Table of Contents",
   "title_sidebar": "Contents",
   "toc_cell": false,
   "toc_position": {},
   "toc_section_display": true,
   "toc_window_display": false
  }
 },
 "nbformat": 4,
 "nbformat_minor": 4
}
