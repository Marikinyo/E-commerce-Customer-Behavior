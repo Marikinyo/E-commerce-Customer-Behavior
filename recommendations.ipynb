{
 "cells": [
  {
   "cell_type": "markdown",
   "metadata": {},
   "source": [
    "Age\n",
    "Total Spend\n",
    "Items Purchased\n",
    "Average Rating\n",
    "Discount Applied\n",
    "Days Since Last Purchase\n",
    "Satisfaction Level\n",
    "City\n",
    "Gender\n",
    "Membership Type"
   ]
  },
  {
   "cell_type": "code",
   "execution_count": 16,
   "metadata": {
    "ExecuteTime": {
     "end_time": "2025-01-27T16:59:10.357729Z",
     "start_time": "2025-01-27T16:59:10.351594Z"
    }
   },
   "outputs": [],
   "source": [
    "import os\n",
    "import glob\n",
    "import pandas as pd\n",
    "from sklearn.metrics.pairwise import cosine_similarity"
   ]
  },
  {
   "cell_type": "code",
   "execution_count": 25,
   "metadata": {
    "ExecuteTime": {
     "end_time": "2025-01-27T17:00:33.897429Z",
     "start_time": "2025-01-27T17:00:33.893431Z"
    }
   },
   "outputs": [],
   "source": [
    "main_dir = 'data/processed/'\n",
    "file_name = 'cluster_*.csv'\n",
    "file_path = os.path.join(main_dir, file_name)"
   ]
  },
  {
   "cell_type": "code",
   "execution_count": 26,
   "metadata": {
    "ExecuteTime": {
     "end_time": "2025-01-27T17:00:34.175787Z",
     "start_time": "2025-01-27T17:00:34.160111Z"
    }
   },
   "outputs": [],
   "source": [
    "# Use glob to find files starting with 'cluster' and ending with '.csv'\n",
    "csv_files = glob.glob(file_path)"
   ]
  },
  {
   "cell_type": "code",
   "execution_count": 27,
   "metadata": {
    "ExecuteTime": {
     "end_time": "2025-01-27T17:00:34.443604Z",
     "start_time": "2025-01-27T17:00:34.410939Z"
    }
   },
   "outputs": [],
   "source": [
    "# Read each CSV into a DataFrame and store them in a list\n",
    "dataframes = [pd.read_csv(file) for file in csv_files]"
   ]
  },
  {
   "cell_type": "markdown",
   "metadata": {},
   "source": [
    "# Recommendations"
   ]
  },
  {
   "cell_type": "code",
   "execution_count": 31,
   "metadata": {
    "ExecuteTime": {
     "end_time": "2025-01-27T17:03:39.003010Z",
     "start_time": "2025-01-27T17:03:38.992927Z"
    }
   },
   "outputs": [],
   "source": [
    "# Dictionary to store the cosine similarity DataFrames for each DataFrame in the list\n",
    "cosine_sim_dfs = {}"
   ]
  },
  {
   "cell_type": "code",
   "execution_count": 46,
   "metadata": {
    "ExecuteTime": {
     "end_time": "2025-01-27T17:18:13.180921Z",
     "start_time": "2025-01-27T17:18:13.165297Z"
    }
   },
   "outputs": [],
   "source": [
    "df_features = ['Age', 'Total Spend', 'Items Purchased', 'Average Rating',\n",
    "       'Discount Applied', 'Days Since Last Purchase', 'Satisfaction Level']"
   ]
  },
  {
   "cell_type": "code",
   "execution_count": 49,
   "metadata": {
    "ExecuteTime": {
     "end_time": "2025-01-27T17:20:20.385565Z",
     "start_time": "2025-01-27T17:20:20.370568Z"
    }
   },
   "outputs": [],
   "source": [
    "# Process each DataFrame in the list\n",
    "for i, df in enumerate(dataframes):\n",
    "    # Step 1: Check if all required features exist in the DataFrame\n",
    "    missing_features = [feature for feature in df_features if feature not in df.columns]\n",
    "    if missing_features:\n",
    "        raise ValueError(f\"DataFrame {i+1} is missing the following features: {missing_features}\")\n",
    "    \n",
    "    # Step 2: Select only the specified features\n",
    "    df_selected = df[df_features]\n",
    "    \n",
    "    # Step 3: Compute cosine similarity\n",
    "    cosine_sim = cosine_similarity(df_selected)\n",
    "    \n",
    "    # Step 4: Convert similarity matrix into a DataFrame\n",
    "    cosine_sim_df = pd.DataFrame(cosine_sim, index=df.index, columns=df.index)\n",
    "    \n",
    "    # Step 5: Store the similarity DataFrame with a unique key\n",
    "    cosine_sim_dfs[f'df_{i+1}'] = cosine_sim_df"
   ]
  },
  {
   "cell_type": "code",
   "execution_count": 50,
   "metadata": {
    "ExecuteTime": {
     "end_time": "2025-01-27T17:20:26.032704Z",
     "start_time": "2025-01-27T17:20:26.005937Z"
    }
   },
   "outputs": [
    {
     "data": {
      "text/html": [
       "<div>\n",
       "<style scoped>\n",
       "    .dataframe tbody tr th:only-of-type {\n",
       "        vertical-align: middle;\n",
       "    }\n",
       "\n",
       "    .dataframe tbody tr th {\n",
       "        vertical-align: top;\n",
       "    }\n",
       "\n",
       "    .dataframe thead th {\n",
       "        text-align: right;\n",
       "    }\n",
       "</style>\n",
       "<table border=\"1\" class=\"dataframe\">\n",
       "  <thead>\n",
       "    <tr style=\"text-align: right;\">\n",
       "      <th></th>\n",
       "      <th>0</th>\n",
       "      <th>1</th>\n",
       "      <th>2</th>\n",
       "      <th>3</th>\n",
       "      <th>4</th>\n",
       "      <th>5</th>\n",
       "      <th>6</th>\n",
       "      <th>7</th>\n",
       "      <th>8</th>\n",
       "      <th>9</th>\n",
       "      <th>...</th>\n",
       "      <th>48</th>\n",
       "      <th>49</th>\n",
       "      <th>50</th>\n",
       "      <th>51</th>\n",
       "      <th>52</th>\n",
       "      <th>53</th>\n",
       "      <th>54</th>\n",
       "      <th>55</th>\n",
       "      <th>56</th>\n",
       "      <th>57</th>\n",
       "    </tr>\n",
       "  </thead>\n",
       "  <tbody>\n",
       "    <tr>\n",
       "      <th>0</th>\n",
       "      <td>1.000000</td>\n",
       "      <td>0.989287</td>\n",
       "      <td>0.996221</td>\n",
       "      <td>0.970983</td>\n",
       "      <td>0.998062</td>\n",
       "      <td>0.997887</td>\n",
       "      <td>0.994077</td>\n",
       "      <td>0.992750</td>\n",
       "      <td>0.970983</td>\n",
       "      <td>0.998062</td>\n",
       "      <td>...</td>\n",
       "      <td>0.964883</td>\n",
       "      <td>0.995582</td>\n",
       "      <td>0.962225</td>\n",
       "      <td>0.996426</td>\n",
       "      <td>0.959450</td>\n",
       "      <td>0.987328</td>\n",
       "      <td>0.956079</td>\n",
       "      <td>0.983623</td>\n",
       "      <td>0.952690</td>\n",
       "      <td>0.983889</td>\n",
       "    </tr>\n",
       "    <tr>\n",
       "      <th>1</th>\n",
       "      <td>0.989287</td>\n",
       "      <td>1.000000</td>\n",
       "      <td>0.979097</td>\n",
       "      <td>0.989243</td>\n",
       "      <td>0.989621</td>\n",
       "      <td>0.993188</td>\n",
       "      <td>0.993315</td>\n",
       "      <td>0.977898</td>\n",
       "      <td>0.989243</td>\n",
       "      <td>0.989621</td>\n",
       "      <td>...</td>\n",
       "      <td>0.980399</td>\n",
       "      <td>0.978502</td>\n",
       "      <td>0.975931</td>\n",
       "      <td>0.983740</td>\n",
       "      <td>0.973478</td>\n",
       "      <td>0.968388</td>\n",
       "      <td>0.968342</td>\n",
       "      <td>0.968988</td>\n",
       "      <td>0.965275</td>\n",
       "      <td>0.964541</td>\n",
       "    </tr>\n",
       "    <tr>\n",
       "      <th>2</th>\n",
       "      <td>0.996221</td>\n",
       "      <td>0.979097</td>\n",
       "      <td>1.000000</td>\n",
       "      <td>0.952845</td>\n",
       "      <td>0.991694</td>\n",
       "      <td>0.990290</td>\n",
       "      <td>0.989980</td>\n",
       "      <td>0.991688</td>\n",
       "      <td>0.952845</td>\n",
       "      <td>0.991694</td>\n",
       "      <td>...</td>\n",
       "      <td>0.952597</td>\n",
       "      <td>0.999100</td>\n",
       "      <td>0.950818</td>\n",
       "      <td>0.995693</td>\n",
       "      <td>0.949299</td>\n",
       "      <td>0.995011</td>\n",
       "      <td>0.946773</td>\n",
       "      <td>0.987140</td>\n",
       "      <td>0.944592</td>\n",
       "      <td>0.992542</td>\n",
       "    </tr>\n",
       "    <tr>\n",
       "      <th>3</th>\n",
       "      <td>0.970983</td>\n",
       "      <td>0.989243</td>\n",
       "      <td>0.952845</td>\n",
       "      <td>1.000000</td>\n",
       "      <td>0.968201</td>\n",
       "      <td>0.983619</td>\n",
       "      <td>0.975385</td>\n",
       "      <td>0.943864</td>\n",
       "      <td>1.000000</td>\n",
       "      <td>0.968201</td>\n",
       "      <td>...</td>\n",
       "      <td>0.993361</td>\n",
       "      <td>0.949714</td>\n",
       "      <td>0.990982</td>\n",
       "      <td>0.969882</td>\n",
       "      <td>0.987774</td>\n",
       "      <td>0.944730</td>\n",
       "      <td>0.984653</td>\n",
       "      <td>0.959513</td>\n",
       "      <td>0.980821</td>\n",
       "      <td>0.942125</td>\n",
       "    </tr>\n",
       "    <tr>\n",
       "      <th>4</th>\n",
       "      <td>0.998062</td>\n",
       "      <td>0.989621</td>\n",
       "      <td>0.991694</td>\n",
       "      <td>0.968201</td>\n",
       "      <td>1.000000</td>\n",
       "      <td>0.995346</td>\n",
       "      <td>0.991342</td>\n",
       "      <td>0.995921</td>\n",
       "      <td>0.968201</td>\n",
       "      <td>1.000000</td>\n",
       "      <td>...</td>\n",
       "      <td>0.957082</td>\n",
       "      <td>0.992964</td>\n",
       "      <td>0.952565</td>\n",
       "      <td>0.990442</td>\n",
       "      <td>0.949505</td>\n",
       "      <td>0.979424</td>\n",
       "      <td>0.944349</td>\n",
       "      <td>0.972675</td>\n",
       "      <td>0.940715</td>\n",
       "      <td>0.974754</td>\n",
       "    </tr>\n",
       "  </tbody>\n",
       "</table>\n",
       "<p>5 rows × 58 columns</p>\n",
       "</div>"
      ],
      "text/plain": [
       "         0         1         2         3         4         5         6   \\\n",
       "0  1.000000  0.989287  0.996221  0.970983  0.998062  0.997887  0.994077   \n",
       "1  0.989287  1.000000  0.979097  0.989243  0.989621  0.993188  0.993315   \n",
       "2  0.996221  0.979097  1.000000  0.952845  0.991694  0.990290  0.989980   \n",
       "3  0.970983  0.989243  0.952845  1.000000  0.968201  0.983619  0.975385   \n",
       "4  0.998062  0.989621  0.991694  0.968201  1.000000  0.995346  0.991342   \n",
       "\n",
       "         7         8         9   ...        48        49        50        51  \\\n",
       "0  0.992750  0.970983  0.998062  ...  0.964883  0.995582  0.962225  0.996426   \n",
       "1  0.977898  0.989243  0.989621  ...  0.980399  0.978502  0.975931  0.983740   \n",
       "2  0.991688  0.952845  0.991694  ...  0.952597  0.999100  0.950818  0.995693   \n",
       "3  0.943864  1.000000  0.968201  ...  0.993361  0.949714  0.990982  0.969882   \n",
       "4  0.995921  0.968201  1.000000  ...  0.957082  0.992964  0.952565  0.990442   \n",
       "\n",
       "         52        53        54        55        56        57  \n",
       "0  0.959450  0.987328  0.956079  0.983623  0.952690  0.983889  \n",
       "1  0.973478  0.968388  0.968342  0.968988  0.965275  0.964541  \n",
       "2  0.949299  0.995011  0.946773  0.987140  0.944592  0.992542  \n",
       "3  0.987774  0.944730  0.984653  0.959513  0.980821  0.942125  \n",
       "4  0.949505  0.979424  0.944349  0.972675  0.940715  0.974754  \n",
       "\n",
       "[5 rows x 58 columns]"
      ]
     },
     "execution_count": 50,
     "metadata": {},
     "output_type": "execute_result"
    }
   ],
   "source": [
    "# Show similarity DataFrame for the first DataFrame (example)\n",
    "cosine_sim_dfs['df_1'].head()"
   ]
  },
  {
   "cell_type": "code",
   "execution_count": 51,
   "metadata": {
    "ExecuteTime": {
     "end_time": "2025-01-27T17:20:36.035857Z",
     "start_time": "2025-01-27T17:20:36.031773Z"
    }
   },
   "outputs": [],
   "source": [
    "# Define a recommendation function to work for a specific DataFrame\n",
    "def get_recommendations(dataframe_key, user_id, top_n=3):\n",
    "    # Retrieve the appropriate similarity matrix\n",
    "    sim_df = cosine_sim_dfs[dataframe_key]\n",
    "    \n",
    "    # Get similarity scores for the given user\n",
    "    sim_scores = sim_df[user_id]\n",
    "    \n",
    "    # Sort users based on similarity score (highest to lowest), skipping the user themselves\n",
    "    similar_users = sim_scores.sort_values(ascending=False)[1:top_n+1]\n",
    "    \n",
    "    return similar_users"
   ]
  },
  {
   "cell_type": "code",
   "execution_count": 57,
   "metadata": {
    "ExecuteTime": {
     "end_time": "2025-01-27T17:21:19.139638Z",
     "start_time": "2025-01-27T17:21:19.134142Z"
    }
   },
   "outputs": [
    {
     "name": "stdout",
     "output_type": "stream",
     "text": [
      "43    0.999852\n",
      "47    0.998250\n",
      "31    0.998062\n",
      "Name: 0, dtype: float64\n"
     ]
    }
   ],
   "source": [
    "print(get_recommendations('df_1', user_id=0, top_n=3))"
   ]
  },
  {
   "cell_type": "code",
   "execution_count": null,
   "metadata": {},
   "outputs": [],
   "source": []
  }
 ],
 "metadata": {
  "kernelspec": {
   "display_name": "Python 3",
   "language": "python",
   "name": "python3"
  },
  "language_info": {
   "codemirror_mode": {
    "name": "ipython",
    "version": 3
   },
   "file_extension": ".py",
   "mimetype": "text/x-python",
   "name": "python",
   "nbconvert_exporter": "python",
   "pygments_lexer": "ipython3",
   "version": "3.8.5"
  },
  "toc": {
   "base_numbering": 1,
   "nav_menu": {},
   "number_sections": true,
   "sideBar": true,
   "skip_h1_title": false,
   "title_cell": "Table of Contents",
   "title_sidebar": "Contents",
   "toc_cell": false,
   "toc_position": {},
   "toc_section_display": true,
   "toc_window_display": false
  }
 },
 "nbformat": 4,
 "nbformat_minor": 4
}
