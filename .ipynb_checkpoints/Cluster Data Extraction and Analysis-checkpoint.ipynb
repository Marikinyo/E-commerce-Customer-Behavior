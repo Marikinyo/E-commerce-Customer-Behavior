{
 "cells": [
  {
   "cell_type": "code",
   "execution_count": 1,
   "metadata": {
    "ExecuteTime": {
     "end_time": "2025-01-27T17:00:18.543031Z",
     "start_time": "2025-01-27T17:00:18.189917Z"
    }
   },
   "outputs": [
    {
     "name": "stderr",
     "output_type": "stream",
     "text": [
      "C:\\Users\\user\\anaconda3\\lib\\site-packages\\pandas\\core\\computation\\expressions.py:20: UserWarning: Pandas requires version '2.7.3' or newer of 'numexpr' (version '2.7.1' currently installed).\n",
      "  from pandas.core.computation.check import NUMEXPR_INSTALLED\n"
     ]
    }
   ],
   "source": [
    "import os\n",
    "import pandas as pd"
   ]
  },
  {
   "cell_type": "code",
   "execution_count": 2,
   "metadata": {
    "ExecuteTime": {
     "end_time": "2025-01-27T17:00:18.560581Z",
     "start_time": "2025-01-27T17:00:18.544435Z"
    }
   },
   "outputs": [],
   "source": [
    "main_dir = 'data/processed'\n",
    "file_name = 'clustered_customer_segmentation_data.csv'\n",
    "file_path = os.path.join(main_dir, file_name)"
   ]
  },
  {
   "cell_type": "code",
   "execution_count": 3,
   "metadata": {
    "ExecuteTime": {
     "end_time": "2025-01-27T17:00:18.592883Z",
     "start_time": "2025-01-27T17:00:18.560581Z"
    }
   },
   "outputs": [],
   "source": [
    "df = pd.read_csv(file_path, index_col='Customer ID') "
   ]
  },
  {
   "cell_type": "code",
   "execution_count": 4,
   "metadata": {
    "ExecuteTime": {
     "end_time": "2025-01-27T17:00:18.629241Z",
     "start_time": "2025-01-27T17:00:18.594214Z"
    }
   },
   "outputs": [
    {
     "data": {
      "text/html": [
       "<div>\n",
       "<style scoped>\n",
       "    .dataframe tbody tr th:only-of-type {\n",
       "        vertical-align: middle;\n",
       "    }\n",
       "\n",
       "    .dataframe tbody tr th {\n",
       "        vertical-align: top;\n",
       "    }\n",
       "\n",
       "    .dataframe thead th {\n",
       "        text-align: right;\n",
       "    }\n",
       "</style>\n",
       "<table border=\"1\" class=\"dataframe\">\n",
       "  <thead>\n",
       "    <tr style=\"text-align: right;\">\n",
       "      <th></th>\n",
       "      <th>Age</th>\n",
       "      <th>Total Spend</th>\n",
       "      <th>Items Purchased</th>\n",
       "      <th>Average Rating</th>\n",
       "      <th>Discount Applied</th>\n",
       "      <th>Days Since Last Purchase</th>\n",
       "      <th>Satisfaction Level</th>\n",
       "      <th>New_York_Young_Adults</th>\n",
       "      <th>New_York_Middle-aged_Adults</th>\n",
       "      <th>Los_Angeles_Young_Adults</th>\n",
       "      <th>...</th>\n",
       "      <th>City_Los Angeles</th>\n",
       "      <th>City_Miami</th>\n",
       "      <th>City_New York</th>\n",
       "      <th>City_San Francisco</th>\n",
       "      <th>Membership Type_Bronze</th>\n",
       "      <th>Membership Type_Gold</th>\n",
       "      <th>Membership Type_Silver</th>\n",
       "      <th>Cluster</th>\n",
       "      <th>PCA1</th>\n",
       "      <th>PCA2</th>\n",
       "    </tr>\n",
       "    <tr>\n",
       "      <th>Customer ID</th>\n",
       "      <th></th>\n",
       "      <th></th>\n",
       "      <th></th>\n",
       "      <th></th>\n",
       "      <th></th>\n",
       "      <th></th>\n",
       "      <th></th>\n",
       "      <th></th>\n",
       "      <th></th>\n",
       "      <th></th>\n",
       "      <th></th>\n",
       "      <th></th>\n",
       "      <th></th>\n",
       "      <th></th>\n",
       "      <th></th>\n",
       "      <th></th>\n",
       "      <th></th>\n",
       "      <th></th>\n",
       "      <th></th>\n",
       "      <th></th>\n",
       "      <th></th>\n",
       "    </tr>\n",
       "  </thead>\n",
       "  <tbody>\n",
       "    <tr>\n",
       "      <th>101</th>\n",
       "      <td>0.176471</td>\n",
       "      <td>0.639502</td>\n",
       "      <td>0.500000</td>\n",
       "      <td>0.842105</td>\n",
       "      <td>1.0</td>\n",
       "      <td>0.296296</td>\n",
       "      <td>0.333333</td>\n",
       "      <td>1.0</td>\n",
       "      <td>0.0</td>\n",
       "      <td>0.0</td>\n",
       "      <td>...</td>\n",
       "      <td>0.0</td>\n",
       "      <td>0.0</td>\n",
       "      <td>1.0</td>\n",
       "      <td>0.0</td>\n",
       "      <td>0.0</td>\n",
       "      <td>1.0</td>\n",
       "      <td>0.0</td>\n",
       "      <td>3</td>\n",
       "      <td>0.114511</td>\n",
       "      <td>1.263420</td>\n",
       "    </tr>\n",
       "    <tr>\n",
       "      <th>102</th>\n",
       "      <td>0.470588</td>\n",
       "      <td>0.333273</td>\n",
       "      <td>0.285714</td>\n",
       "      <td>0.578947</td>\n",
       "      <td>0.0</td>\n",
       "      <td>0.166667</td>\n",
       "      <td>0.000000</td>\n",
       "      <td>0.0</td>\n",
       "      <td>0.0</td>\n",
       "      <td>0.0</td>\n",
       "      <td>...</td>\n",
       "      <td>1.0</td>\n",
       "      <td>0.0</td>\n",
       "      <td>0.0</td>\n",
       "      <td>0.0</td>\n",
       "      <td>0.0</td>\n",
       "      <td>0.0</td>\n",
       "      <td>1.0</td>\n",
       "      <td>2</td>\n",
       "      <td>-0.936885</td>\n",
       "      <td>-1.130093</td>\n",
       "    </tr>\n",
       "    <tr>\n",
       "      <th>103</th>\n",
       "      <td>1.000000</td>\n",
       "      <td>0.090102</td>\n",
       "      <td>0.142857</td>\n",
       "      <td>0.210526</td>\n",
       "      <td>1.0</td>\n",
       "      <td>0.611111</td>\n",
       "      <td>0.666667</td>\n",
       "      <td>0.0</td>\n",
       "      <td>0.0</td>\n",
       "      <td>0.0</td>\n",
       "      <td>...</td>\n",
       "      <td>0.0</td>\n",
       "      <td>0.0</td>\n",
       "      <td>0.0</td>\n",
       "      <td>0.0</td>\n",
       "      <td>1.0</td>\n",
       "      <td>0.0</td>\n",
       "      <td>0.0</td>\n",
       "      <td>4</td>\n",
       "      <td>1.596030</td>\n",
       "      <td>-0.081482</td>\n",
       "    </tr>\n",
       "    <tr>\n",
       "      <th>104</th>\n",
       "      <td>0.235294</td>\n",
       "      <td>0.964122</td>\n",
       "      <td>0.857143</td>\n",
       "      <td>0.894737</td>\n",
       "      <td>0.0</td>\n",
       "      <td>0.055556</td>\n",
       "      <td>0.333333</td>\n",
       "      <td>0.0</td>\n",
       "      <td>0.0</td>\n",
       "      <td>0.0</td>\n",
       "      <td>...</td>\n",
       "      <td>0.0</td>\n",
       "      <td>0.0</td>\n",
       "      <td>0.0</td>\n",
       "      <td>1.0</td>\n",
       "      <td>0.0</td>\n",
       "      <td>1.0</td>\n",
       "      <td>0.0</td>\n",
       "      <td>1</td>\n",
       "      <td>-1.372312</td>\n",
       "      <td>0.988835</td>\n",
       "    </tr>\n",
       "    <tr>\n",
       "      <th>105</th>\n",
       "      <td>0.058824</td>\n",
       "      <td>0.279095</td>\n",
       "      <td>0.428571</td>\n",
       "      <td>0.526316</td>\n",
       "      <td>1.0</td>\n",
       "      <td>0.851852</td>\n",
       "      <td>0.666667</td>\n",
       "      <td>0.0</td>\n",
       "      <td>0.0</td>\n",
       "      <td>0.0</td>\n",
       "      <td>...</td>\n",
       "      <td>0.0</td>\n",
       "      <td>1.0</td>\n",
       "      <td>0.0</td>\n",
       "      <td>0.0</td>\n",
       "      <td>0.0</td>\n",
       "      <td>0.0</td>\n",
       "      <td>1.0</td>\n",
       "      <td>5</td>\n",
       "      <td>-0.679784</td>\n",
       "      <td>-0.930910</td>\n",
       "    </tr>\n",
       "  </tbody>\n",
       "</table>\n",
       "<p>5 rows × 33 columns</p>\n",
       "</div>"
      ],
      "text/plain": [
       "                  Age  Total Spend  Items Purchased  Average Rating  \\\n",
       "Customer ID                                                           \n",
       "101          0.176471     0.639502         0.500000        0.842105   \n",
       "102          0.470588     0.333273         0.285714        0.578947   \n",
       "103          1.000000     0.090102         0.142857        0.210526   \n",
       "104          0.235294     0.964122         0.857143        0.894737   \n",
       "105          0.058824     0.279095         0.428571        0.526316   \n",
       "\n",
       "             Discount Applied  Days Since Last Purchase  Satisfaction Level  \\\n",
       "Customer ID                                                                   \n",
       "101                       1.0                  0.296296            0.333333   \n",
       "102                       0.0                  0.166667            0.000000   \n",
       "103                       1.0                  0.611111            0.666667   \n",
       "104                       0.0                  0.055556            0.333333   \n",
       "105                       1.0                  0.851852            0.666667   \n",
       "\n",
       "             New_York_Young_Adults  New_York_Middle-aged_Adults  \\\n",
       "Customer ID                                                       \n",
       "101                            1.0                          0.0   \n",
       "102                            0.0                          0.0   \n",
       "103                            0.0                          0.0   \n",
       "104                            0.0                          0.0   \n",
       "105                            0.0                          0.0   \n",
       "\n",
       "             Los_Angeles_Young_Adults  ...  City_Los Angeles  City_Miami  \\\n",
       "Customer ID                            ...                                 \n",
       "101                               0.0  ...               0.0         0.0   \n",
       "102                               0.0  ...               1.0         0.0   \n",
       "103                               0.0  ...               0.0         0.0   \n",
       "104                               0.0  ...               0.0         0.0   \n",
       "105                               0.0  ...               0.0         1.0   \n",
       "\n",
       "             City_New York  City_San Francisco  Membership Type_Bronze  \\\n",
       "Customer ID                                                              \n",
       "101                    1.0                 0.0                     0.0   \n",
       "102                    0.0                 0.0                     0.0   \n",
       "103                    0.0                 0.0                     1.0   \n",
       "104                    0.0                 1.0                     0.0   \n",
       "105                    0.0                 0.0                     0.0   \n",
       "\n",
       "             Membership Type_Gold  Membership Type_Silver  Cluster      PCA1  \\\n",
       "Customer ID                                                                    \n",
       "101                           1.0                     0.0        3  0.114511   \n",
       "102                           0.0                     1.0        2 -0.936885   \n",
       "103                           0.0                     0.0        4  1.596030   \n",
       "104                           1.0                     0.0        1 -1.372312   \n",
       "105                           0.0                     1.0        5 -0.679784   \n",
       "\n",
       "                 PCA2  \n",
       "Customer ID            \n",
       "101          1.263420  \n",
       "102         -1.130093  \n",
       "103         -0.081482  \n",
       "104          0.988835  \n",
       "105         -0.930910  \n",
       "\n",
       "[5 rows x 33 columns]"
      ]
     },
     "execution_count": 4,
     "metadata": {},
     "output_type": "execute_result"
    }
   ],
   "source": [
    "df.head()"
   ]
  },
  {
   "cell_type": "code",
   "execution_count": 5,
   "metadata": {
    "ExecuteTime": {
     "end_time": "2025-01-27T17:00:18.648118Z",
     "start_time": "2025-01-27T17:00:18.631234Z"
    }
   },
   "outputs": [],
   "source": [
    "with open(\"Data/optimal_k.txt\", \"r\") as file:\n",
    "    k = int(file.read())"
   ]
  },
  {
   "cell_type": "code",
   "execution_count": 6,
   "metadata": {
    "ExecuteTime": {
     "end_time": "2025-01-27T17:00:18.663082Z",
     "start_time": "2025-01-27T17:00:18.648118Z"
    }
   },
   "outputs": [],
   "source": [
    "clusters = [df.loc[df['Cluster'] == i] for i in range(k)]"
   ]
  },
  {
   "cell_type": "code",
   "execution_count": 7,
   "metadata": {
    "ExecuteTime": {
     "end_time": "2025-01-27T17:00:18.678702Z",
     "start_time": "2025-01-27T17:00:18.663082Z"
    }
   },
   "outputs": [],
   "source": [
    "clusters = [cluster.drop(columns=['Cluster', 'PCA1', 'PCA2']) for cluster in clusters]"
   ]
  },
  {
   "cell_type": "code",
   "execution_count": 8,
   "metadata": {
    "ExecuteTime": {
     "end_time": "2025-01-27T17:00:18.695386Z",
     "start_time": "2025-01-27T17:00:18.679904Z"
    }
   },
   "outputs": [],
   "source": [
    "common_columns = ['Age', 'Total Spend', 'Items Purchased', 'Average Rating', \n",
    "                  'Discount Applied', 'Days Since Last Purchase', 'Satisfaction Level',\n",
    "                 'Gender_Female', 'Gender_Male']"
   ]
  },
  {
   "cell_type": "code",
   "execution_count": 9,
   "metadata": {
    "ExecuteTime": {
     "end_time": "2025-01-27T17:00:18.728622Z",
     "start_time": "2025-01-27T17:00:18.696111Z"
    }
   },
   "outputs": [],
   "source": [
    "clusters = [\n",
    "    cluster[[col for col in cluster.columns if col in common_columns or not (cluster[col] == 0).all()]]\n",
    "    for cluster in clusters\n",
    "]"
   ]
  },
  {
   "cell_type": "markdown",
   "metadata": {},
   "source": [
    "### Target Group: Middle-aged Female Adults from Houston\n",
    "- **Membership Type:** Bronze\n",
    "- **Discount:** No\n",
    "- **Satisfaction Level:** Very Dissatisfied"
   ]
  },
  {
   "cell_type": "markdown",
   "metadata": {},
   "source": [
    "### Target Group: Middle-aged Male Adults from San_Francisco\n",
    "- **Membership Type:** Gold\n",
    "- **Discount:** No\n",
    "- **Satisfaction Level:** Dissatisfied"
   ]
  },
  {
   "cell_type": "markdown",
   "metadata": {},
   "source": [
    "### Target Group: Middle-aged Male Adults from Los Angeles\n",
    "- **Membership Type:** Silver\n",
    "- **Discount:** No\n",
    "- **Satisfaction Level:** Very Dissatisfied"
   ]
  },
  {
   "cell_type": "markdown",
   "metadata": {},
   "source": [
    "### Target Group: Young and Middle-aged Female Adults from New York\n",
    "- **Membership Type:** Gold\n",
    "- **Discount:** Yes\n",
    "- **Satisfaction Level:** Dissatisfied"
   ]
  },
  {
   "cell_type": "markdown",
   "metadata": {
    "ExecuteTime": {
     "end_time": "2025-01-24T09:34:25.533394Z",
     "start_time": "2025-01-24T09:34:25.526940Z"
    }
   },
   "source": [
    "### Target Group: Middle-aged Female Adults from Chicago\n",
    "- **Membership Type:** Bronze\n",
    "- **Discount:** Yes\n",
    "- **Satisfaction Level:** Satisfied"
   ]
  },
  {
   "cell_type": "markdown",
   "metadata": {},
   "source": [
    "### Target Group: Young and Middle-aged Female Adults from Miami\n",
    "- **Membership Type:** Silver\n",
    "- **Discount:** Yes\n",
    "- **Satisfaction Level:** Satisfied"
   ]
  },
  {
   "cell_type": "markdown",
   "metadata": {},
   "source": [
    "# Save each clusters"
   ]
  },
  {
   "cell_type": "code",
   "execution_count": 10,
   "metadata": {
    "ExecuteTime": {
     "end_time": "2025-01-27T17:00:18.744382Z",
     "start_time": "2025-01-27T17:00:18.728622Z"
    }
   },
   "outputs": [],
   "source": [
    "cluster_names = ['cluster_1_Houston', 'cluster_2_San_Francisco', 'cluster_3_Los Angeles', \n",
    "                'cluster_4_New York', 'cluster_5_Chicago', 'cluster_6_Miami']"
   ]
  },
  {
   "cell_type": "code",
   "execution_count": 11,
   "metadata": {
    "ExecuteTime": {
     "end_time": "2025-01-27T17:00:18.762051Z",
     "start_time": "2025-01-27T17:00:18.745383Z"
    }
   },
   "outputs": [],
   "source": [
    "# Directory path where files will be saved\n",
    "save_dir = 'data/processed'"
   ]
  },
  {
   "cell_type": "code",
   "execution_count": 12,
   "metadata": {
    "ExecuteTime": {
     "end_time": "2025-01-27T17:00:18.795401Z",
     "start_time": "2025-01-27T17:00:18.763563Z"
    }
   },
   "outputs": [
    {
     "name": "stdout",
     "output_type": "stream",
     "text": [
      "File saved successfully at data/processed\\cluster_1_Houston.csv.\n",
      "File saved successfully at data/processed\\cluster_2_San_Francisco.csv.\n",
      "File saved successfully at data/processed\\cluster_3_Los Angeles.csv.\n",
      "File saved successfully at data/processed\\cluster_4_New York.csv.\n",
      "File saved successfully at data/processed\\cluster_5_Chicago.csv.\n",
      "File saved successfully at data/processed\\cluster_6_Miami.csv.\n"
     ]
    }
   ],
   "source": [
    "# Save each DataFrame to a CSV file\n",
    "for i, df in enumerate(clusters):\n",
    "    if df.empty:\n",
    "        print(f\"Warning: {cluster_names[i]} is empty!\")\n",
    "    else:\n",
    "        df.to_csv(os.path.join(save_dir, f'{cluster_names[i]}.csv'), index=False)\n",
    "\n",
    "    print(f\"File saved successfully at {os.path.join(save_dir, f'{cluster_names[i]}.csv')}.\")"
   ]
  },
  {
   "cell_type": "code",
   "execution_count": null,
   "metadata": {},
   "outputs": [],
   "source": []
  }
 ],
 "metadata": {
  "kernelspec": {
   "display_name": "Python 3",
   "language": "python",
   "name": "python3"
  },
  "language_info": {
   "codemirror_mode": {
    "name": "ipython",
    "version": 3
   },
   "file_extension": ".py",
   "mimetype": "text/x-python",
   "name": "python",
   "nbconvert_exporter": "python",
   "pygments_lexer": "ipython3",
   "version": "3.8.5"
  },
  "toc": {
   "base_numbering": 1,
   "nav_menu": {},
   "number_sections": true,
   "sideBar": true,
   "skip_h1_title": false,
   "title_cell": "Table of Contents",
   "title_sidebar": "Contents",
   "toc_cell": false,
   "toc_position": {},
   "toc_section_display": true,
   "toc_window_display": false
  }
 },
 "nbformat": 4,
 "nbformat_minor": 4
}
