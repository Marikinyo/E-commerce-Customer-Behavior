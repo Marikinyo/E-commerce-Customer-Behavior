{
 "cells": [
  {
   "cell_type": "code",
   "execution_count": 1,
   "metadata": {
    "ExecuteTime": {
     "end_time": "2025-01-16T15:46:23.582598Z",
     "start_time": "2025-01-16T15:46:22.551970Z"
    }
   },
   "outputs": [
    {
     "name": "stderr",
     "output_type": "stream",
     "text": [
      "C:\\Users\\user\\anaconda3\\lib\\site-packages\\pandas\\core\\computation\\expressions.py:20: UserWarning: Pandas requires version '2.7.3' or newer of 'numexpr' (version '2.7.1' currently installed).\n",
      "  from pandas.core.computation.check import NUMEXPR_INSTALLED\n"
     ]
    }
   ],
   "source": [
    "import os\n",
    "import pandas as pd\n",
    "import matplotlib.pyplot as plt\n",
    "from sklearn.cluster import KMeans\n",
    "from sklearn.decomposition import PCA\n",
    "from sklearn.metrics import silhouette_score"
   ]
  },
  {
   "cell_type": "code",
   "execution_count": 2,
   "metadata": {
    "ExecuteTime": {
     "end_time": "2025-01-16T15:46:23.595391Z",
     "start_time": "2025-01-16T15:46:23.584424Z"
    }
   },
   "outputs": [],
   "source": [
    "# # Walk through \"data\" folder, printing directories and files \n",
    "# # to use their names for file paths\n",
    "\n",
    "# for root, dirs, files in os.walk(\"data\"):\n",
    "#     print(\"Current Directory:\", root)\n",
    "#     print()\n",
    "#     print(\"Subdirectories:\", dirs)\n",
    "#     print()\n",
    "#     print(\"Files:\", files)"
   ]
  },
  {
   "cell_type": "code",
   "execution_count": 3,
   "metadata": {
    "ExecuteTime": {
     "end_time": "2025-01-16T15:46:23.615115Z",
     "start_time": "2025-01-16T15:46:23.597866Z"
    }
   },
   "outputs": [],
   "source": [
    "main_dir = 'data/processed'\n",
    "file_name = 'customer_segmentation.csv'\n",
    "file_path = os.path.join(main_dir, file_name)"
   ]
  },
  {
   "cell_type": "code",
   "execution_count": 4,
   "metadata": {
    "ExecuteTime": {
     "end_time": "2025-01-16T15:46:24.175373Z",
     "start_time": "2025-01-16T15:46:24.164184Z"
    }
   },
   "outputs": [],
   "source": [
    "df = pd.read_csv(file_path, index_col='Customer ID')"
   ]
  },
  {
   "cell_type": "code",
   "execution_count": 5,
   "metadata": {
    "ExecuteTime": {
     "end_time": "2025-01-16T15:46:25.497256Z",
     "start_time": "2025-01-16T15:46:25.456852Z"
    },
    "scrolled": true
   },
   "outputs": [
    {
     "data": {
      "text/html": [
       "<div>\n",
       "<style scoped>\n",
       "    .dataframe tbody tr th:only-of-type {\n",
       "        vertical-align: middle;\n",
       "    }\n",
       "\n",
       "    .dataframe tbody tr th {\n",
       "        vertical-align: top;\n",
       "    }\n",
       "\n",
       "    .dataframe thead th {\n",
       "        text-align: right;\n",
       "    }\n",
       "</style>\n",
       "<table border=\"1\" class=\"dataframe\">\n",
       "  <thead>\n",
       "    <tr style=\"text-align: right;\">\n",
       "      <th></th>\n",
       "      <th>Age</th>\n",
       "      <th>Total Spend</th>\n",
       "      <th>Items Purchased</th>\n",
       "      <th>Average Rating</th>\n",
       "      <th>Discount Applied</th>\n",
       "      <th>Days Since Last Purchase</th>\n",
       "      <th>Satisfaction Level</th>\n",
       "      <th>New_York_Young_Adults</th>\n",
       "      <th>New_York_Middle-aged_Adults</th>\n",
       "      <th>Los_Angeles_Young_Adults</th>\n",
       "      <th>...</th>\n",
       "      <th>Gender_Male</th>\n",
       "      <th>City_Chicago</th>\n",
       "      <th>City_Houston</th>\n",
       "      <th>City_Los Angeles</th>\n",
       "      <th>City_Miami</th>\n",
       "      <th>City_New York</th>\n",
       "      <th>City_San Francisco</th>\n",
       "      <th>Membership Type_Bronze</th>\n",
       "      <th>Membership Type_Gold</th>\n",
       "      <th>Membership Type_Silver</th>\n",
       "    </tr>\n",
       "    <tr>\n",
       "      <th>Customer ID</th>\n",
       "      <th></th>\n",
       "      <th></th>\n",
       "      <th></th>\n",
       "      <th></th>\n",
       "      <th></th>\n",
       "      <th></th>\n",
       "      <th></th>\n",
       "      <th></th>\n",
       "      <th></th>\n",
       "      <th></th>\n",
       "      <th></th>\n",
       "      <th></th>\n",
       "      <th></th>\n",
       "      <th></th>\n",
       "      <th></th>\n",
       "      <th></th>\n",
       "      <th></th>\n",
       "      <th></th>\n",
       "      <th></th>\n",
       "      <th></th>\n",
       "      <th></th>\n",
       "    </tr>\n",
       "  </thead>\n",
       "  <tbody>\n",
       "    <tr>\n",
       "      <th>101</th>\n",
       "      <td>0.176471</td>\n",
       "      <td>0.639502</td>\n",
       "      <td>0.500000</td>\n",
       "      <td>0.842105</td>\n",
       "      <td>1.0</td>\n",
       "      <td>0.296296</td>\n",
       "      <td>0.333333</td>\n",
       "      <td>1.0</td>\n",
       "      <td>0.0</td>\n",
       "      <td>0.0</td>\n",
       "      <td>...</td>\n",
       "      <td>0.0</td>\n",
       "      <td>0.0</td>\n",
       "      <td>0.0</td>\n",
       "      <td>0.0</td>\n",
       "      <td>0.0</td>\n",
       "      <td>1.0</td>\n",
       "      <td>0.0</td>\n",
       "      <td>0.0</td>\n",
       "      <td>1.0</td>\n",
       "      <td>0.0</td>\n",
       "    </tr>\n",
       "    <tr>\n",
       "      <th>102</th>\n",
       "      <td>0.470588</td>\n",
       "      <td>0.333273</td>\n",
       "      <td>0.285714</td>\n",
       "      <td>0.578947</td>\n",
       "      <td>0.0</td>\n",
       "      <td>0.166667</td>\n",
       "      <td>0.000000</td>\n",
       "      <td>0.0</td>\n",
       "      <td>0.0</td>\n",
       "      <td>0.0</td>\n",
       "      <td>...</td>\n",
       "      <td>1.0</td>\n",
       "      <td>0.0</td>\n",
       "      <td>0.0</td>\n",
       "      <td>1.0</td>\n",
       "      <td>0.0</td>\n",
       "      <td>0.0</td>\n",
       "      <td>0.0</td>\n",
       "      <td>0.0</td>\n",
       "      <td>0.0</td>\n",
       "      <td>1.0</td>\n",
       "    </tr>\n",
       "    <tr>\n",
       "      <th>103</th>\n",
       "      <td>1.000000</td>\n",
       "      <td>0.090102</td>\n",
       "      <td>0.142857</td>\n",
       "      <td>0.210526</td>\n",
       "      <td>1.0</td>\n",
       "      <td>0.611111</td>\n",
       "      <td>0.666667</td>\n",
       "      <td>0.0</td>\n",
       "      <td>0.0</td>\n",
       "      <td>0.0</td>\n",
       "      <td>...</td>\n",
       "      <td>0.0</td>\n",
       "      <td>1.0</td>\n",
       "      <td>0.0</td>\n",
       "      <td>0.0</td>\n",
       "      <td>0.0</td>\n",
       "      <td>0.0</td>\n",
       "      <td>0.0</td>\n",
       "      <td>1.0</td>\n",
       "      <td>0.0</td>\n",
       "      <td>0.0</td>\n",
       "    </tr>\n",
       "    <tr>\n",
       "      <th>104</th>\n",
       "      <td>0.235294</td>\n",
       "      <td>0.964122</td>\n",
       "      <td>0.857143</td>\n",
       "      <td>0.894737</td>\n",
       "      <td>0.0</td>\n",
       "      <td>0.055556</td>\n",
       "      <td>0.333333</td>\n",
       "      <td>0.0</td>\n",
       "      <td>0.0</td>\n",
       "      <td>0.0</td>\n",
       "      <td>...</td>\n",
       "      <td>1.0</td>\n",
       "      <td>0.0</td>\n",
       "      <td>0.0</td>\n",
       "      <td>0.0</td>\n",
       "      <td>0.0</td>\n",
       "      <td>0.0</td>\n",
       "      <td>1.0</td>\n",
       "      <td>0.0</td>\n",
       "      <td>1.0</td>\n",
       "      <td>0.0</td>\n",
       "    </tr>\n",
       "    <tr>\n",
       "      <th>105</th>\n",
       "      <td>0.058824</td>\n",
       "      <td>0.279095</td>\n",
       "      <td>0.428571</td>\n",
       "      <td>0.526316</td>\n",
       "      <td>1.0</td>\n",
       "      <td>0.851852</td>\n",
       "      <td>0.666667</td>\n",
       "      <td>0.0</td>\n",
       "      <td>0.0</td>\n",
       "      <td>0.0</td>\n",
       "      <td>...</td>\n",
       "      <td>1.0</td>\n",
       "      <td>0.0</td>\n",
       "      <td>0.0</td>\n",
       "      <td>0.0</td>\n",
       "      <td>1.0</td>\n",
       "      <td>0.0</td>\n",
       "      <td>0.0</td>\n",
       "      <td>0.0</td>\n",
       "      <td>0.0</td>\n",
       "      <td>1.0</td>\n",
       "    </tr>\n",
       "  </tbody>\n",
       "</table>\n",
       "<p>5 rows × 30 columns</p>\n",
       "</div>"
      ],
      "text/plain": [
       "                  Age  Total Spend  Items Purchased  Average Rating  \\\n",
       "Customer ID                                                           \n",
       "101          0.176471     0.639502         0.500000        0.842105   \n",
       "102          0.470588     0.333273         0.285714        0.578947   \n",
       "103          1.000000     0.090102         0.142857        0.210526   \n",
       "104          0.235294     0.964122         0.857143        0.894737   \n",
       "105          0.058824     0.279095         0.428571        0.526316   \n",
       "\n",
       "             Discount Applied  Days Since Last Purchase  Satisfaction Level  \\\n",
       "Customer ID                                                                   \n",
       "101                       1.0                  0.296296            0.333333   \n",
       "102                       0.0                  0.166667            0.000000   \n",
       "103                       1.0                  0.611111            0.666667   \n",
       "104                       0.0                  0.055556            0.333333   \n",
       "105                       1.0                  0.851852            0.666667   \n",
       "\n",
       "             New_York_Young_Adults  New_York_Middle-aged_Adults  \\\n",
       "Customer ID                                                       \n",
       "101                            1.0                          0.0   \n",
       "102                            0.0                          0.0   \n",
       "103                            0.0                          0.0   \n",
       "104                            0.0                          0.0   \n",
       "105                            0.0                          0.0   \n",
       "\n",
       "             Los_Angeles_Young_Adults  ...  Gender_Male  City_Chicago  \\\n",
       "Customer ID                            ...                              \n",
       "101                               0.0  ...          0.0           0.0   \n",
       "102                               0.0  ...          1.0           0.0   \n",
       "103                               0.0  ...          0.0           1.0   \n",
       "104                               0.0  ...          1.0           0.0   \n",
       "105                               0.0  ...          1.0           0.0   \n",
       "\n",
       "             City_Houston  City_Los Angeles  City_Miami  City_New York  \\\n",
       "Customer ID                                                              \n",
       "101                   0.0               0.0         0.0            1.0   \n",
       "102                   0.0               1.0         0.0            0.0   \n",
       "103                   0.0               0.0         0.0            0.0   \n",
       "104                   0.0               0.0         0.0            0.0   \n",
       "105                   0.0               0.0         1.0            0.0   \n",
       "\n",
       "             City_San Francisco  Membership Type_Bronze  Membership Type_Gold  \\\n",
       "Customer ID                                                                     \n",
       "101                         0.0                     0.0                   1.0   \n",
       "102                         0.0                     0.0                   0.0   \n",
       "103                         0.0                     1.0                   0.0   \n",
       "104                         1.0                     0.0                   1.0   \n",
       "105                         0.0                     0.0                   0.0   \n",
       "\n",
       "             Membership Type_Silver  \n",
       "Customer ID                          \n",
       "101                             0.0  \n",
       "102                             1.0  \n",
       "103                             0.0  \n",
       "104                             0.0  \n",
       "105                             1.0  \n",
       "\n",
       "[5 rows x 30 columns]"
      ]
     },
     "execution_count": 5,
     "metadata": {},
     "output_type": "execute_result"
    }
   ],
   "source": [
    "df.head()"
   ]
  },
  {
   "cell_type": "markdown",
   "metadata": {},
   "source": [
    "# Apply K-Means Clustering"
   ]
  },
  {
   "cell_type": "code",
   "execution_count": 6,
   "metadata": {
    "ExecuteTime": {
     "end_time": "2025-01-16T15:46:27.987581Z",
     "start_time": "2025-01-16T15:46:27.982580Z"
    }
   },
   "outputs": [],
   "source": [
    "# Read the optimal k from the file\n",
    "with open(\"Data/optimal_k.txt\", \"r\") as file:\n",
    "    k = int(file.read())"
   ]
  },
  {
   "cell_type": "code",
   "execution_count": 7,
   "metadata": {
    "ExecuteTime": {
     "end_time": "2025-01-16T15:46:29.305664Z",
     "start_time": "2025-01-16T15:46:29.130231Z"
    }
   },
   "outputs": [
    {
     "name": "stderr",
     "output_type": "stream",
     "text": [
      "C:\\Users\\user\\anaconda3\\lib\\site-packages\\sklearn\\cluster\\_kmeans.py:1440: UserWarning: KMeans is known to have a memory leak on Windows with MKL, when there are less chunks than available threads. You can avoid it by setting the environment variable OMP_NUM_THREADS=2.\n",
      "  warnings.warn(\n"
     ]
    }
   ],
   "source": [
    "kmeans = KMeans(n_clusters=k, random_state=42, n_init=10)\n",
    "df['Cluster'] = kmeans.fit_predict(df)\n",
    "\n",
    "# Cluster centroids\n",
    "centroids = kmeans.cluster_centers_\n",
    "# print(\"Centroids:\\n\", centroids)"
   ]
  },
  {
   "cell_type": "markdown",
   "metadata": {},
   "source": [
    "## visualize clusters"
   ]
  },
  {
   "cell_type": "code",
   "execution_count": 9,
   "metadata": {
    "ExecuteTime": {
     "end_time": "2025-01-16T15:46:54.120559Z",
     "start_time": "2025-01-16T15:46:54.107085Z"
    }
   },
   "outputs": [],
   "source": [
    "# Ensure only the original feature columns are used for PCA\n",
    "# original_features = df.drop(columns=['Cluster', 'PCA1', 'PCA2'], errors='ignore')\n",
    "original_features = df.drop(columns=['Cluster'], errors='ignore')\n",
    "\n",
    "\n",
    "# Refit PCA with the correct number of features\n",
    "pca = PCA(n_components=2)\n",
    "data_pca = pca.fit_transform(original_features)\n",
    "\n",
    "# Add PCA components to the dataset\n",
    "df['PCA1'] = data_pca[:, 0]\n",
    "df['PCA2'] = data_pca[:, 1]"
   ]
  },
  {
   "cell_type": "code",
   "execution_count": 12,
   "metadata": {
    "ExecuteTime": {
     "end_time": "2025-01-16T18:35:10.512776Z",
     "start_time": "2025-01-16T18:35:10.487307Z"
    }
   },
   "outputs": [
    {
     "data": {
      "text/html": [
       "<div>\n",
       "<style scoped>\n",
       "    .dataframe tbody tr th:only-of-type {\n",
       "        vertical-align: middle;\n",
       "    }\n",
       "\n",
       "    .dataframe tbody tr th {\n",
       "        vertical-align: top;\n",
       "    }\n",
       "\n",
       "    .dataframe thead th {\n",
       "        text-align: right;\n",
       "    }\n",
       "</style>\n",
       "<table border=\"1\" class=\"dataframe\">\n",
       "  <thead>\n",
       "    <tr style=\"text-align: right;\">\n",
       "      <th></th>\n",
       "      <th>PCA1</th>\n",
       "      <th>PCA2</th>\n",
       "    </tr>\n",
       "    <tr>\n",
       "      <th>Customer ID</th>\n",
       "      <th></th>\n",
       "      <th></th>\n",
       "    </tr>\n",
       "  </thead>\n",
       "  <tbody>\n",
       "    <tr>\n",
       "      <th>101</th>\n",
       "      <td>0.114511</td>\n",
       "      <td>1.263420</td>\n",
       "    </tr>\n",
       "    <tr>\n",
       "      <th>102</th>\n",
       "      <td>-0.936885</td>\n",
       "      <td>-1.130093</td>\n",
       "    </tr>\n",
       "    <tr>\n",
       "      <th>103</th>\n",
       "      <td>1.596030</td>\n",
       "      <td>-0.081482</td>\n",
       "    </tr>\n",
       "    <tr>\n",
       "      <th>104</th>\n",
       "      <td>-1.372312</td>\n",
       "      <td>0.988835</td>\n",
       "    </tr>\n",
       "    <tr>\n",
       "      <th>105</th>\n",
       "      <td>-0.679784</td>\n",
       "      <td>-0.930910</td>\n",
       "    </tr>\n",
       "    <tr>\n",
       "      <th>...</th>\n",
       "      <td>...</td>\n",
       "      <td>...</td>\n",
       "    </tr>\n",
       "    <tr>\n",
       "      <th>446</th>\n",
       "      <td>-0.546141</td>\n",
       "      <td>-0.977967</td>\n",
       "    </tr>\n",
       "    <tr>\n",
       "      <th>447</th>\n",
       "      <td>1.329731</td>\n",
       "      <td>-0.217136</td>\n",
       "    </tr>\n",
       "    <tr>\n",
       "      <th>448</th>\n",
       "      <td>0.101995</td>\n",
       "      <td>1.290629</td>\n",
       "    </tr>\n",
       "    <tr>\n",
       "      <th>449</th>\n",
       "      <td>-0.943274</td>\n",
       "      <td>-1.125882</td>\n",
       "    </tr>\n",
       "    <tr>\n",
       "      <th>450</th>\n",
       "      <td>1.604700</td>\n",
       "      <td>-0.086097</td>\n",
       "    </tr>\n",
       "  </tbody>\n",
       "</table>\n",
       "<p>350 rows × 2 columns</p>\n",
       "</div>"
      ],
      "text/plain": [
       "                 PCA1      PCA2\n",
       "Customer ID                    \n",
       "101          0.114511  1.263420\n",
       "102         -0.936885 -1.130093\n",
       "103          1.596030 -0.081482\n",
       "104         -1.372312  0.988835\n",
       "105         -0.679784 -0.930910\n",
       "...               ...       ...\n",
       "446         -0.546141 -0.977967\n",
       "447          1.329731 -0.217136\n",
       "448          0.101995  1.290629\n",
       "449         -0.943274 -1.125882\n",
       "450          1.604700 -0.086097\n",
       "\n",
       "[350 rows x 2 columns]"
      ]
     },
     "execution_count": 12,
     "metadata": {},
     "output_type": "execute_result"
    }
   ],
   "source": [
    "df[['PCA1', 'PCA2']]"
   ]
  },
  {
   "cell_type": "code",
   "execution_count": 9,
   "metadata": {
    "ExecuteTime": {
     "end_time": "2025-01-16T14:56:31.100765Z",
     "start_time": "2025-01-16T14:56:30.722066Z"
    }
   },
   "outputs": [
    {
     "name": "stderr",
     "output_type": "stream",
     "text": [
      "C:\\Users\\user\\anaconda3\\lib\\site-packages\\sklearn\\base.py:465: UserWarning: X does not have valid feature names, but PCA was fitted with feature names\n",
      "  warnings.warn(\n"
     ]
    },
    {
     "data": {
      "image/png": "[encoded data removed]",
      "text/plain": [
       "<Figure size 720x576 with 1 Axes>"
      ]
     },
     "metadata": {
      "needs_background": "light"
     },
     "output_type": "display_data"
    }
   ],
   "source": [
    "# Plot the clusters\n",
    "plt.figure(figsize=(10, 8))\n",
    "for cluster in range(k):\n",
    "    plt.scatter(df[df['Cluster'] == cluster]['PCA1'],\n",
    "                df[df['Cluster'] == cluster]['PCA2'],\n",
    "                label=f'Cluster {cluster}')\n",
    "# Transform the centroids for PCA visualization\n",
    "centroids_pca = pca.transform(kmeans.cluster_centers_)\n",
    "plt.scatter(centroids_pca[:, 0], centroids_pca[:, 1], \n",
    "            color='red', marker='X', s=200, label='Centroids')\n",
    "plt.title(\"K-Means Clusters (PCA Projection)\")\n",
    "plt.xlabel(\"PCA1\")\n",
    "plt.ylabel(\"PCA2\")\n",
    "plt.legend()\n",
    "plt.show()"
   ]
  },
  {
   "cell_type": "markdown",
   "metadata": {},
   "source": [
    "## cluster sizes"
   ]
  },
  {
   "cell_type": "code",
   "execution_count": 10,
   "metadata": {
    "ExecuteTime": {
     "end_time": "2025-01-16T14:56:31.106718Z",
     "start_time": "2025-01-16T14:56:31.101769Z"
    }
   },
   "outputs": [
    {
     "name": "stdout",
     "output_type": "stream",
     "text": [
      "Cluster Sizes:\n",
      " Cluster\n",
      "3    59\n",
      "2    59\n",
      "4    58\n",
      "1    58\n",
      "5    58\n",
      "0    58\n",
      "Name: count, dtype: int64\n"
     ]
    }
   ],
   "source": [
    "cluster_sizes = df['Cluster'].value_counts()\n",
    "print(\"Cluster Sizes:\\n\", cluster_sizes)"
   ]
  },
  {
   "cell_type": "markdown",
   "metadata": {},
   "source": [
    "## analyze clusters"
   ]
  },
  {
   "cell_type": "code",
   "execution_count": 11,
   "metadata": {
    "ExecuteTime": {
     "end_time": "2025-01-16T14:56:31.131088Z",
     "start_time": "2025-01-16T14:56:31.109615Z"
    }
   },
   "outputs": [],
   "source": [
    "cluster_profiles = df.groupby('Cluster').mean()\n",
    "# print(\"Cluster Profiles:\\n\", cluster_profiles)"
   ]
  },
  {
   "cell_type": "code",
   "execution_count": 12,
   "metadata": {
    "ExecuteTime": {
     "end_time": "2025-01-16T14:56:31.188482Z",
     "start_time": "2025-01-16T14:56:31.134087Z"
    }
   },
   "outputs": [
    {
     "data": {
      "text/html": [
       "<div>\n",
       "<style scoped>\n",
       "    .dataframe tbody tr th:only-of-type {\n",
       "        vertical-align: middle;\n",
       "    }\n",
       "\n",
       "    .dataframe tbody tr th {\n",
       "        vertical-align: top;\n",
       "    }\n",
       "\n",
       "    .dataframe thead th {\n",
       "        text-align: right;\n",
       "    }\n",
       "</style>\n",
       "<table border=\"1\" class=\"dataframe\">\n",
       "  <thead>\n",
       "    <tr style=\"text-align: right;\">\n",
       "      <th></th>\n",
       "      <th>Age</th>\n",
       "      <th>Total Spend</th>\n",
       "      <th>Items Purchased</th>\n",
       "      <th>Average Rating</th>\n",
       "      <th>Discount Applied</th>\n",
       "      <th>Days Since Last Purchase</th>\n",
       "      <th>Satisfaction Level</th>\n",
       "      <th>New_York_Young_Adults</th>\n",
       "      <th>New_York_Middle-aged_Adults</th>\n",
       "      <th>Los_Angeles_Young_Adults</th>\n",
       "      <th>...</th>\n",
       "      <th>City_Houston</th>\n",
       "      <th>City_Los Angeles</th>\n",
       "      <th>City_Miami</th>\n",
       "      <th>City_New York</th>\n",
       "      <th>City_San Francisco</th>\n",
       "      <th>Membership Type_Bronze</th>\n",
       "      <th>Membership Type_Gold</th>\n",
       "      <th>Membership Type_Silver</th>\n",
       "      <th>PCA1</th>\n",
       "      <th>PCA2</th>\n",
       "    </tr>\n",
       "    <tr>\n",
       "      <th>Cluster</th>\n",
       "      <th></th>\n",
       "      <th></th>\n",
       "      <th></th>\n",
       "      <th></th>\n",
       "      <th></th>\n",
       "      <th></th>\n",
       "      <th></th>\n",
       "      <th></th>\n",
       "      <th></th>\n",
       "      <th></th>\n",
       "      <th></th>\n",
       "      <th></th>\n",
       "      <th></th>\n",
       "      <th></th>\n",
       "      <th></th>\n",
       "      <th></th>\n",
       "      <th></th>\n",
       "      <th></th>\n",
       "      <th></th>\n",
       "      <th></th>\n",
       "      <th></th>\n",
       "    </tr>\n",
       "  </thead>\n",
       "  <tbody>\n",
       "    <tr>\n",
       "      <th>0</th>\n",
       "      <td>0.629817</td>\n",
       "      <td>0.032538</td>\n",
       "      <td>0.040640</td>\n",
       "      <td>0.101633</td>\n",
       "      <td>0.0</td>\n",
       "      <td>0.254789</td>\n",
       "      <td>0.034483</td>\n",
       "      <td>0.000000</td>\n",
       "      <td>0.000000</td>\n",
       "      <td>0.000000</td>\n",
       "      <td>...</td>\n",
       "      <td>1.0</td>\n",
       "      <td>0.0</td>\n",
       "      <td>0.0</td>\n",
       "      <td>0.0</td>\n",
       "      <td>0.0</td>\n",
       "      <td>1.0</td>\n",
       "      <td>0.0</td>\n",
       "      <td>0.0</td>\n",
       "      <td>1.320030</td>\n",
       "      <td>-0.206737</td>\n",
       "    </tr>\n",
       "    <tr>\n",
       "      <th>1</th>\n",
       "      <td>0.183570</td>\n",
       "      <td>0.945617</td>\n",
       "      <td>0.928571</td>\n",
       "      <td>0.951906</td>\n",
       "      <td>0.0</td>\n",
       "      <td>0.040230</td>\n",
       "      <td>0.333333</td>\n",
       "      <td>0.000000</td>\n",
       "      <td>0.000000</td>\n",
       "      <td>0.000000</td>\n",
       "      <td>...</td>\n",
       "      <td>0.0</td>\n",
       "      <td>0.0</td>\n",
       "      <td>0.0</td>\n",
       "      <td>0.0</td>\n",
       "      <td>1.0</td>\n",
       "      <td>0.0</td>\n",
       "      <td>1.0</td>\n",
       "      <td>0.0</td>\n",
       "      <td>-1.403489</td>\n",
       "      <td>1.010640</td>\n",
       "    </tr>\n",
       "    <tr>\n",
       "      <th>2</th>\n",
       "      <td>0.477567</td>\n",
       "      <td>0.355802</td>\n",
       "      <td>0.334140</td>\n",
       "      <td>0.617306</td>\n",
       "      <td>0.0</td>\n",
       "      <td>0.116133</td>\n",
       "      <td>0.045198</td>\n",
       "      <td>0.000000</td>\n",
       "      <td>0.000000</td>\n",
       "      <td>0.016949</td>\n",
       "      <td>...</td>\n",
       "      <td>0.0</td>\n",
       "      <td>1.0</td>\n",
       "      <td>0.0</td>\n",
       "      <td>0.0</td>\n",
       "      <td>0.0</td>\n",
       "      <td>0.0</td>\n",
       "      <td>0.0</td>\n",
       "      <td>1.0</td>\n",
       "      <td>-0.959288</td>\n",
       "      <td>-1.099572</td>\n",
       "    </tr>\n",
       "    <tr>\n",
       "      <th>3</th>\n",
       "      <td>0.277168</td>\n",
       "      <td>0.679920</td>\n",
       "      <td>0.590799</td>\n",
       "      <td>0.812667</td>\n",
       "      <td>1.0</td>\n",
       "      <td>0.288763</td>\n",
       "      <td>0.333333</td>\n",
       "      <td>0.423729</td>\n",
       "      <td>0.576271</td>\n",
       "      <td>0.000000</td>\n",
       "      <td>...</td>\n",
       "      <td>0.0</td>\n",
       "      <td>0.0</td>\n",
       "      <td>0.0</td>\n",
       "      <td>1.0</td>\n",
       "      <td>0.0</td>\n",
       "      <td>0.0</td>\n",
       "      <td>1.0</td>\n",
       "      <td>0.0</td>\n",
       "      <td>0.103669</td>\n",
       "      <td>1.296176</td>\n",
       "    </tr>\n",
       "    <tr>\n",
       "      <th>4</th>\n",
       "      <td>0.942191</td>\n",
       "      <td>0.080305</td>\n",
       "      <td>0.172414</td>\n",
       "      <td>0.240472</td>\n",
       "      <td>1.0</td>\n",
       "      <td>0.582695</td>\n",
       "      <td>0.666667</td>\n",
       "      <td>0.000000</td>\n",
       "      <td>0.000000</td>\n",
       "      <td>0.000000</td>\n",
       "      <td>...</td>\n",
       "      <td>0.0</td>\n",
       "      <td>0.0</td>\n",
       "      <td>0.0</td>\n",
       "      <td>0.0</td>\n",
       "      <td>0.0</td>\n",
       "      <td>1.0</td>\n",
       "      <td>0.0</td>\n",
       "      <td>0.0</td>\n",
       "      <td>1.571524</td>\n",
       "      <td>-0.065938</td>\n",
       "    </tr>\n",
       "  </tbody>\n",
       "</table>\n",
       "<p>5 rows × 32 columns</p>\n",
       "</div>"
      ],
      "text/plain": [
       "              Age  Total Spend  Items Purchased  Average Rating  \\\n",
       "Cluster                                                           \n",
       "0        0.629817     0.032538         0.040640        0.101633   \n",
       "1        0.183570     0.945617         0.928571        0.951906   \n",
       "2        0.477567     0.355802         0.334140        0.617306   \n",
       "3        0.277168     0.679920         0.590799        0.812667   \n",
       "4        0.942191     0.080305         0.172414        0.240472   \n",
       "\n",
       "         Discount Applied  Days Since Last Purchase  Satisfaction Level  \\\n",
       "Cluster                                                                   \n",
       "0                     0.0                  0.254789            0.034483   \n",
       "1                     0.0                  0.040230            0.333333   \n",
       "2                     0.0                  0.116133            0.045198   \n",
       "3                     1.0                  0.288763            0.333333   \n",
       "4                     1.0                  0.582695            0.666667   \n",
       "\n",
       "         New_York_Young_Adults  New_York_Middle-aged_Adults  \\\n",
       "Cluster                                                       \n",
       "0                     0.000000                     0.000000   \n",
       "1                     0.000000                     0.000000   \n",
       "2                     0.000000                     0.000000   \n",
       "3                     0.423729                     0.576271   \n",
       "4                     0.000000                     0.000000   \n",
       "\n",
       "         Los_Angeles_Young_Adults  ...  City_Houston  City_Los Angeles  \\\n",
       "Cluster                            ...                                   \n",
       "0                        0.000000  ...           1.0               0.0   \n",
       "1                        0.000000  ...           0.0               0.0   \n",
       "2                        0.016949  ...           0.0               1.0   \n",
       "3                        0.000000  ...           0.0               0.0   \n",
       "4                        0.000000  ...           0.0               0.0   \n",
       "\n",
       "         City_Miami  City_New York  City_San Francisco  \\\n",
       "Cluster                                                  \n",
       "0               0.0            0.0                 0.0   \n",
       "1               0.0            0.0                 1.0   \n",
       "2               0.0            0.0                 0.0   \n",
       "3               0.0            1.0                 0.0   \n",
       "4               0.0            0.0                 0.0   \n",
       "\n",
       "         Membership Type_Bronze  Membership Type_Gold  Membership Type_Silver  \\\n",
       "Cluster                                                                         \n",
       "0                           1.0                   0.0                     0.0   \n",
       "1                           0.0                   1.0                     0.0   \n",
       "2                           0.0                   0.0                     1.0   \n",
       "3                           0.0                   1.0                     0.0   \n",
       "4                           1.0                   0.0                     0.0   \n",
       "\n",
       "             PCA1      PCA2  \n",
       "Cluster                      \n",
       "0        1.320030 -0.206737  \n",
       "1       -1.403489  1.010640  \n",
       "2       -0.959288 -1.099572  \n",
       "3        0.103669  1.296176  \n",
       "4        1.571524 -0.065938  \n",
       "\n",
       "[5 rows x 32 columns]"
      ]
     },
     "execution_count": 12,
     "metadata": {},
     "output_type": "execute_result"
    }
   ],
   "source": [
    "cluster_profiles.head()"
   ]
  },
  {
   "cell_type": "markdown",
   "metadata": {},
   "source": [
    "## evaluate clusters"
   ]
  },
  {
   "cell_type": "code",
   "execution_count": 13,
   "metadata": {
    "ExecuteTime": {
     "end_time": "2025-01-16T14:56:31.210483Z",
     "start_time": "2025-01-16T14:56:31.191225Z"
    }
   },
   "outputs": [
    {
     "name": "stdout",
     "output_type": "stream",
     "text": [
      "Silhouette Score for k=6: 0.84119667706446\n"
     ]
    }
   ],
   "source": [
    "silhouette_avg = silhouette_score(df.drop(columns=['Cluster', 'PCA1', 'PCA2']), df['Cluster'])\n",
    "print(f\"Silhouette Score for k={k}: {silhouette_avg}\")"
   ]
  },
  {
   "cell_type": "markdown",
   "metadata": {},
   "source": [
    "# Save Processed Data"
   ]
  },
  {
   "cell_type": "code",
   "execution_count": 14,
   "metadata": {
    "ExecuteTime": {
     "end_time": "2025-01-16T14:56:31.222274Z",
     "start_time": "2025-01-16T14:56:31.216294Z"
    }
   },
   "outputs": [],
   "source": [
    "# Directory path where files will be saved\n",
    "save_dir = 'data/processed/'\n",
    "cleaned_file_name = 'clustered_customer_segmentation_data.csv'\n",
    "cleaned_file_path = os.path.join(save_dir, cleaned_file_name)"
   ]
  },
  {
   "cell_type": "code",
   "execution_count": 15,
   "metadata": {
    "ExecuteTime": {
     "end_time": "2025-01-16T14:56:31.271292Z",
     "start_time": "2025-01-16T14:56:31.227514Z"
    }
   },
   "outputs": [
    {
     "name": "stdout",
     "output_type": "stream",
     "text": [
      "File saved successfully at data/processed/clustered_customer_segmentation_data.csv.\n"
     ]
    }
   ],
   "source": [
    "# Save the cleaned data\n",
    "df.to_csv(cleaned_file_path, index=False)\n",
    "print(f\"File saved successfully at {cleaned_file_path}.\")"
   ]
  }
 ],
 "metadata": {
  "kernelspec": {
   "display_name": "Python 3",
   "language": "python",
   "name": "python3"
  },
  "language_info": {
   "codemirror_mode": {
    "name": "ipython",
    "version": 3
   },
   "file_extension": ".py",
   "mimetype": "text/x-python",
   "name": "python",
   "nbconvert_exporter": "python",
   "pygments_lexer": "ipython3",
   "version": "3.8.5"
  },
  "toc": {
   "base_numbering": 1,
   "nav_menu": {},
   "number_sections": true,
   "sideBar": true,
   "skip_h1_title": false,
   "title_cell": "Table of Contents",
   "title_sidebar": "Contents",
   "toc_cell": false,
   "toc_position": {},
   "toc_section_display": true,
   "toc_window_display": false
  }
 },
 "nbformat": 4,
 "nbformat_minor": 4
}
