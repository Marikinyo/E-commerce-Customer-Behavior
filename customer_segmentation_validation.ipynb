{
 "cells": [
  {
   "cell_type": "code",
   "execution_count": 1,
   "metadata": {
    "ExecuteTime": {
     "end_time": "2025-01-16T14:48:31.474026Z",
     "start_time": "2025-01-16T14:48:30.253947Z"
    }
   },
   "outputs": [
    {
     "name": "stderr",
     "output_type": "stream",
     "text": [
      "C:\\Users\\user\\anaconda3\\lib\\site-packages\\pandas\\core\\computation\\expressions.py:20: UserWarning: Pandas requires version '2.7.3' or newer of 'numexpr' (version '2.7.1' currently installed).\n",
      "  from pandas.core.computation.check import NUMEXPR_INSTALLED\n"
     ]
    }
   ],
   "source": [
    "import os\n",
    "import pandas as pd\n",
    "import numpy as np\n",
    "from sklearn.cluster import KMeans\n",
    "\n",
    "import matplotlib.pyplot as plt\n",
    "import seaborn as sns\n",
    "from sklearn.metrics import silhouette_samples, silhouette_score, davies_bouldin_score, calinski_harabasz_score"
   ]
  },
  {
   "cell_type": "code",
   "execution_count": 2,
   "metadata": {
    "ExecuteTime": {
     "end_time": "2025-01-16T14:48:31.489029Z",
     "start_time": "2025-01-16T14:48:31.475024Z"
    }
   },
   "outputs": [],
   "source": [
    "main_dir = 'data/processed'\n",
    "file_name = 'clustered_customer_segmentation_data.csv'\n",
    "file_path = os.path.join(main_dir, file_name)"
   ]
  },
  {
   "cell_type": "code",
   "execution_count": 3,
   "metadata": {
    "ExecuteTime": {
     "end_time": "2025-01-16T14:48:31.505640Z",
     "start_time": "2025-01-16T14:48:31.493027Z"
    }
   },
   "outputs": [],
   "source": [
    "data = pd.read_csv(file_path)  # Ensure it has 'Cluster' labels"
   ]
  },
  {
   "cell_type": "code",
   "execution_count": 4,
   "metadata": {
    "ExecuteTime": {
     "end_time": "2025-01-16T14:48:31.546743Z",
     "start_time": "2025-01-16T14:48:31.506642Z"
    }
   },
   "outputs": [
    {
     "data": {
      "text/html": [
       "<div>\n",
       "<style scoped>\n",
       "    .dataframe tbody tr th:only-of-type {\n",
       "        vertical-align: middle;\n",
       "    }\n",
       "\n",
       "    .dataframe tbody tr th {\n",
       "        vertical-align: top;\n",
       "    }\n",
       "\n",
       "    .dataframe thead th {\n",
       "        text-align: right;\n",
       "    }\n",
       "</style>\n",
       "<table border=\"1\" class=\"dataframe\">\n",
       "  <thead>\n",
       "    <tr style=\"text-align: right;\">\n",
       "      <th></th>\n",
       "      <th>Age</th>\n",
       "      <th>Total Spend</th>\n",
       "      <th>Items Purchased</th>\n",
       "      <th>Average Rating</th>\n",
       "      <th>Discount Applied</th>\n",
       "      <th>Days Since Last Purchase</th>\n",
       "      <th>Satisfaction Level</th>\n",
       "      <th>New_York_Young_Adults</th>\n",
       "      <th>New_York_Middle-aged_Adults</th>\n",
       "      <th>Los_Angeles_Young_Adults</th>\n",
       "      <th>...</th>\n",
       "      <th>City_Los Angeles</th>\n",
       "      <th>City_Miami</th>\n",
       "      <th>City_New York</th>\n",
       "      <th>City_San Francisco</th>\n",
       "      <th>Membership Type_Bronze</th>\n",
       "      <th>Membership Type_Gold</th>\n",
       "      <th>Membership Type_Silver</th>\n",
       "      <th>Cluster</th>\n",
       "      <th>PCA1</th>\n",
       "      <th>PCA2</th>\n",
       "    </tr>\n",
       "  </thead>\n",
       "  <tbody>\n",
       "    <tr>\n",
       "      <th>0</th>\n",
       "      <td>0.176471</td>\n",
       "      <td>0.639502</td>\n",
       "      <td>0.500000</td>\n",
       "      <td>0.842105</td>\n",
       "      <td>1.0</td>\n",
       "      <td>0.296296</td>\n",
       "      <td>0.333333</td>\n",
       "      <td>1.0</td>\n",
       "      <td>0.0</td>\n",
       "      <td>0.0</td>\n",
       "      <td>...</td>\n",
       "      <td>0.0</td>\n",
       "      <td>0.0</td>\n",
       "      <td>1.0</td>\n",
       "      <td>0.0</td>\n",
       "      <td>0.0</td>\n",
       "      <td>1.0</td>\n",
       "      <td>0.0</td>\n",
       "      <td>3</td>\n",
       "      <td>0.114511</td>\n",
       "      <td>1.263420</td>\n",
       "    </tr>\n",
       "    <tr>\n",
       "      <th>1</th>\n",
       "      <td>0.470588</td>\n",
       "      <td>0.333273</td>\n",
       "      <td>0.285714</td>\n",
       "      <td>0.578947</td>\n",
       "      <td>0.0</td>\n",
       "      <td>0.166667</td>\n",
       "      <td>0.000000</td>\n",
       "      <td>0.0</td>\n",
       "      <td>0.0</td>\n",
       "      <td>0.0</td>\n",
       "      <td>...</td>\n",
       "      <td>1.0</td>\n",
       "      <td>0.0</td>\n",
       "      <td>0.0</td>\n",
       "      <td>0.0</td>\n",
       "      <td>0.0</td>\n",
       "      <td>0.0</td>\n",
       "      <td>1.0</td>\n",
       "      <td>2</td>\n",
       "      <td>-0.936885</td>\n",
       "      <td>-1.130093</td>\n",
       "    </tr>\n",
       "    <tr>\n",
       "      <th>2</th>\n",
       "      <td>1.000000</td>\n",
       "      <td>0.090102</td>\n",
       "      <td>0.142857</td>\n",
       "      <td>0.210526</td>\n",
       "      <td>1.0</td>\n",
       "      <td>0.611111</td>\n",
       "      <td>0.666667</td>\n",
       "      <td>0.0</td>\n",
       "      <td>0.0</td>\n",
       "      <td>0.0</td>\n",
       "      <td>...</td>\n",
       "      <td>0.0</td>\n",
       "      <td>0.0</td>\n",
       "      <td>0.0</td>\n",
       "      <td>0.0</td>\n",
       "      <td>1.0</td>\n",
       "      <td>0.0</td>\n",
       "      <td>0.0</td>\n",
       "      <td>4</td>\n",
       "      <td>1.596030</td>\n",
       "      <td>-0.081482</td>\n",
       "    </tr>\n",
       "    <tr>\n",
       "      <th>3</th>\n",
       "      <td>0.235294</td>\n",
       "      <td>0.964122</td>\n",
       "      <td>0.857143</td>\n",
       "      <td>0.894737</td>\n",
       "      <td>0.0</td>\n",
       "      <td>0.055556</td>\n",
       "      <td>0.333333</td>\n",
       "      <td>0.0</td>\n",
       "      <td>0.0</td>\n",
       "      <td>0.0</td>\n",
       "      <td>...</td>\n",
       "      <td>0.0</td>\n",
       "      <td>0.0</td>\n",
       "      <td>0.0</td>\n",
       "      <td>1.0</td>\n",
       "      <td>0.0</td>\n",
       "      <td>1.0</td>\n",
       "      <td>0.0</td>\n",
       "      <td>1</td>\n",
       "      <td>-1.372312</td>\n",
       "      <td>0.988835</td>\n",
       "    </tr>\n",
       "    <tr>\n",
       "      <th>4</th>\n",
       "      <td>0.058824</td>\n",
       "      <td>0.279095</td>\n",
       "      <td>0.428571</td>\n",
       "      <td>0.526316</td>\n",
       "      <td>1.0</td>\n",
       "      <td>0.851852</td>\n",
       "      <td>0.666667</td>\n",
       "      <td>0.0</td>\n",
       "      <td>0.0</td>\n",
       "      <td>0.0</td>\n",
       "      <td>...</td>\n",
       "      <td>0.0</td>\n",
       "      <td>1.0</td>\n",
       "      <td>0.0</td>\n",
       "      <td>0.0</td>\n",
       "      <td>0.0</td>\n",
       "      <td>0.0</td>\n",
       "      <td>1.0</td>\n",
       "      <td>5</td>\n",
       "      <td>-0.679784</td>\n",
       "      <td>-0.930910</td>\n",
       "    </tr>\n",
       "  </tbody>\n",
       "</table>\n",
       "<p>5 rows × 33 columns</p>\n",
       "</div>"
      ],
      "text/plain": [
       "        Age  Total Spend  Items Purchased  Average Rating  Discount Applied  \\\n",
       "0  0.176471     0.639502         0.500000        0.842105               1.0   \n",
       "1  0.470588     0.333273         0.285714        0.578947               0.0   \n",
       "2  1.000000     0.090102         0.142857        0.210526               1.0   \n",
       "3  0.235294     0.964122         0.857143        0.894737               0.0   \n",
       "4  0.058824     0.279095         0.428571        0.526316               1.0   \n",
       "\n",
       "   Days Since Last Purchase  Satisfaction Level  New_York_Young_Adults  \\\n",
       "0                  0.296296            0.333333                    1.0   \n",
       "1                  0.166667            0.000000                    0.0   \n",
       "2                  0.611111            0.666667                    0.0   \n",
       "3                  0.055556            0.333333                    0.0   \n",
       "4                  0.851852            0.666667                    0.0   \n",
       "\n",
       "   New_York_Middle-aged_Adults  Los_Angeles_Young_Adults  ...  \\\n",
       "0                          0.0                       0.0  ...   \n",
       "1                          0.0                       0.0  ...   \n",
       "2                          0.0                       0.0  ...   \n",
       "3                          0.0                       0.0  ...   \n",
       "4                          0.0                       0.0  ...   \n",
       "\n",
       "   City_Los Angeles  City_Miami  City_New York  City_San Francisco  \\\n",
       "0               0.0         0.0            1.0                 0.0   \n",
       "1               1.0         0.0            0.0                 0.0   \n",
       "2               0.0         0.0            0.0                 0.0   \n",
       "3               0.0         0.0            0.0                 1.0   \n",
       "4               0.0         1.0            0.0                 0.0   \n",
       "\n",
       "   Membership Type_Bronze  Membership Type_Gold  Membership Type_Silver  \\\n",
       "0                     0.0                   1.0                     0.0   \n",
       "1                     0.0                   0.0                     1.0   \n",
       "2                     1.0                   0.0                     0.0   \n",
       "3                     0.0                   1.0                     0.0   \n",
       "4                     0.0                   0.0                     1.0   \n",
       "\n",
       "   Cluster      PCA1      PCA2  \n",
       "0        3  0.114511  1.263420  \n",
       "1        2 -0.936885 -1.130093  \n",
       "2        4  1.596030 -0.081482  \n",
       "3        1 -1.372312  0.988835  \n",
       "4        5 -0.679784 -0.930910  \n",
       "\n",
       "[5 rows x 33 columns]"
      ]
     },
     "execution_count": 4,
     "metadata": {},
     "output_type": "execute_result"
    }
   ],
   "source": [
    "data.head()"
   ]
  },
  {
   "cell_type": "code",
   "execution_count": 5,
   "metadata": {
    "ExecuteTime": {
     "end_time": "2025-01-16T14:48:31.565056Z",
     "start_time": "2025-01-16T14:48:31.547734Z"
    }
   },
   "outputs": [],
   "source": [
    "# Calculate silhouette scores for each sample\n",
    "silhouette_vals = silhouette_samples(data.drop(columns=['Cluster', 'PCA1', 'PCA2']), data['Cluster'])"
   ]
  },
  {
   "cell_type": "code",
   "execution_count": 6,
   "metadata": {
    "ExecuteTime": {
     "end_time": "2025-01-16T14:48:31.581074Z",
     "start_time": "2025-01-16T14:48:31.565056Z"
    }
   },
   "outputs": [],
   "source": [
    "# Read the optimal k from the file\n",
    "with open(\"optimal_k.txt\", \"r\") as file:\n",
    "    k = int(file.read())"
   ]
  },
  {
   "cell_type": "code",
   "execution_count": 7,
   "metadata": {
    "ExecuteTime": {
     "end_time": "2025-01-16T14:48:31.761432Z",
     "start_time": "2025-01-16T14:48:31.582162Z"
    }
   },
   "outputs": [
    {
     "data": {
      "image/png": "[encoded data removed]",
      "text/plain": [
       "<Figure size 720x432 with 1 Axes>"
      ]
     },
     "metadata": {
      "needs_background": "light"
     },
     "output_type": "display_data"
    }
   ],
   "source": [
    "plt.figure(figsize=(10, 6))\n",
    "y_lower = 10\n",
    "for i in range(k):\n",
    "    ith_cluster_silhouette_vals = silhouette_vals[data['Cluster'] == i]\n",
    "    ith_cluster_silhouette_vals.sort()\n",
    "    y_upper = y_lower + len(ith_cluster_silhouette_vals)\n",
    "    plt.fill_betweenx(np.arange(y_lower, y_upper),\n",
    "                      0, ith_cluster_silhouette_vals)\n",
    "    plt.text(-0.05, y_lower + 0.5 * len(ith_cluster_silhouette_vals), str(i))\n",
    "    y_lower = y_upper + 10  # 10 for the 0 samples gap\n",
    "\n",
    "plt.title(\"The Silhouette Plot for Clusters\")\n",
    "plt.xlabel(\"Silhouette Coefficient Values\")\n",
    "plt.ylabel(\"Cluster Label\")\n",
    "plt.axvline(x=silhouette_vals.mean(), color=\"red\", linestyle=\"--\")\n",
    "plt.show()"
   ]
  },
  {
   "cell_type": "code",
   "execution_count": 8,
   "metadata": {
    "ExecuteTime": {
     "end_time": "2025-01-16T14:48:31.782967Z",
     "start_time": "2025-01-16T14:48:31.762853Z"
    }
   },
   "outputs": [
    {
     "name": "stdout",
     "output_type": "stream",
     "text": [
      "Davies-Bouldin Index: 0.4028896840125582\n"
     ]
    }
   ],
   "source": [
    "db_index = davies_bouldin_score(data.drop(columns=['Cluster', 'PCA1', 'PCA2']), data['Cluster'])\n",
    "print(f\"Davies-Bouldin Index: {db_index}\")"
   ]
  },
  {
   "cell_type": "code",
   "execution_count": 9,
   "metadata": {
    "ExecuteTime": {
     "end_time": "2025-01-16T14:48:31.798333Z",
     "start_time": "2025-01-16T14:48:31.783749Z"
    }
   },
   "outputs": [
    {
     "name": "stdout",
     "output_type": "stream",
     "text": [
      "Calinski-Harabasz Index: 1078.2687967927773\n"
     ]
    }
   ],
   "source": [
    "ch_index = calinski_harabasz_score(data.drop(columns=['Cluster', 'PCA1', 'PCA2']), data['Cluster'])\n",
    "print(f\"Calinski-Harabasz Index: {ch_index}\")"
   ]
  },
  {
   "cell_type": "code",
   "execution_count": 10,
   "metadata": {
    "ExecuteTime": {
     "end_time": "2025-01-16T14:48:31.959923Z",
     "start_time": "2025-01-16T14:48:31.799321Z"
    }
   },
   "outputs": [
    {
     "name": "stderr",
     "output_type": "stream",
     "text": [
      "C:\\Users\\user\\anaconda3\\lib\\site-packages\\sklearn\\cluster\\_kmeans.py:1440: UserWarning: KMeans is known to have a memory leak on Windows with MKL, when there are less chunks than available threads. You can avoid it by setting the environment variable OMP_NUM_THREADS=2.\n",
      "  warnings.warn(\n"
     ]
    },
    {
     "data": {
      "text/html": [
       "<style>#sk-container-id-1 {color: black;}#sk-container-id-1 pre{padding: 0;}#sk-container-id-1 div.sk-toggleable {background-color: white;}#sk-container-id-1 label.sk-toggleable__label {cursor: pointer;display: block;width: 100%;margin-bottom: 0;padding: 0.3em;box-sizing: border-box;text-align: center;}#sk-container-id-1 label.sk-toggleable__label-arrow:before {content: \"▸\";float: left;margin-right: 0.25em;color: #696969;}#sk-container-id-1 label.sk-toggleable__label-arrow:hover:before {color: black;}#sk-container-id-1 div.sk-estimator:hover label.sk-toggleable__label-arrow:before {color: black;}#sk-container-id-1 div.sk-toggleable__content {max-height: 0;max-width: 0;overflow: hidden;text-align: left;background-color: #f0f8ff;}#sk-container-id-1 div.sk-toggleable__content pre {margin: 0.2em;color: black;border-radius: 0.25em;background-color: #f0f8ff;}#sk-container-id-1 input.sk-toggleable__control:checked~div.sk-toggleable__content {max-height: 200px;max-width: 100%;overflow: auto;}#sk-container-id-1 input.sk-toggleable__control:checked~label.sk-toggleable__label-arrow:before {content: \"▾\";}#sk-container-id-1 div.sk-estimator input.sk-toggleable__control:checked~label.sk-toggleable__label {background-color: #d4ebff;}#sk-container-id-1 div.sk-label input.sk-toggleable__control:checked~label.sk-toggleable__label {background-color: #d4ebff;}#sk-container-id-1 input.sk-hidden--visually {border: 0;clip: rect(1px 1px 1px 1px);clip: rect(1px, 1px, 1px, 1px);height: 1px;margin: -1px;overflow: hidden;padding: 0;position: absolute;width: 1px;}#sk-container-id-1 div.sk-estimator {font-family: monospace;background-color: #f0f8ff;border: 1px dotted black;border-radius: 0.25em;box-sizing: border-box;margin-bottom: 0.5em;}#sk-container-id-1 div.sk-estimator:hover {background-color: #d4ebff;}#sk-container-id-1 div.sk-parallel-item::after {content: \"\";width: 100%;border-bottom: 1px solid gray;flex-grow: 1;}#sk-container-id-1 div.sk-label:hover label.sk-toggleable__label {background-color: #d4ebff;}#sk-container-id-1 div.sk-serial::before {content: \"\";position: absolute;border-left: 1px solid gray;box-sizing: border-box;top: 0;bottom: 0;left: 50%;z-index: 0;}#sk-container-id-1 div.sk-serial {display: flex;flex-direction: column;align-items: center;background-color: white;padding-right: 0.2em;padding-left: 0.2em;position: relative;}#sk-container-id-1 div.sk-item {position: relative;z-index: 1;}#sk-container-id-1 div.sk-parallel {display: flex;align-items: stretch;justify-content: center;background-color: white;position: relative;}#sk-container-id-1 div.sk-item::before, #sk-container-id-1 div.sk-parallel-item::before {content: \"\";position: absolute;border-left: 1px solid gray;box-sizing: border-box;top: 0;bottom: 0;left: 50%;z-index: -1;}#sk-container-id-1 div.sk-parallel-item {display: flex;flex-direction: column;z-index: 1;position: relative;background-color: white;}#sk-container-id-1 div.sk-parallel-item:first-child::after {align-self: flex-end;width: 50%;}#sk-container-id-1 div.sk-parallel-item:last-child::after {align-self: flex-start;width: 50%;}#sk-container-id-1 div.sk-parallel-item:only-child::after {width: 0;}#sk-container-id-1 div.sk-dashed-wrapped {border: 1px dashed gray;margin: 0 0.4em 0.5em 0.4em;box-sizing: border-box;padding-bottom: 0.4em;background-color: white;}#sk-container-id-1 div.sk-label label {font-family: monospace;font-weight: bold;display: inline-block;line-height: 1.2em;}#sk-container-id-1 div.sk-label-container {text-align: center;}#sk-container-id-1 div.sk-container {/* jupyter's `normalize.less` sets `[hidden] { display: none; }` but bootstrap.min.css set `[hidden] { display: none !important; }` so we also need the `!important` here to be able to override the default hidden behavior on the sphinx rendered scikit-learn.org. See: https://github.com/scikit-learn/scikit-learn/issues/21755 */display: inline-block !important;position: relative;}#sk-container-id-1 div.sk-text-repr-fallback {display: none;}</style><div id=\"sk-container-id-1\" class=\"sk-top-container\"><div class=\"sk-text-repr-fallback\"><pre>KMeans(n_clusters=6, n_init=10, random_state=42)</pre><b>In a Jupyter environment, please rerun this cell to show the HTML representation or trust the notebook. <br />On GitHub, the HTML representation is unable to render, please try loading this page with nbviewer.org.</b></div><div class=\"sk-container\" hidden><div class=\"sk-item\"><div class=\"sk-estimator sk-toggleable\"><input class=\"sk-toggleable__control sk-hidden--visually\" id=\"sk-estimator-id-1\" type=\"checkbox\" checked><label for=\"sk-estimator-id-1\" class=\"sk-toggleable__label sk-toggleable__label-arrow\">KMeans</label><div class=\"sk-toggleable__content\"><pre>KMeans(n_clusters=6, n_init=10, random_state=42)</pre></div></div></div></div></div>"
      ],
      "text/plain": [
       "KMeans(n_clusters=6, n_init=10, random_state=42)"
      ]
     },
     "execution_count": 10,
     "metadata": {},
     "output_type": "execute_result"
    }
   ],
   "source": [
    "kmeans = KMeans(n_clusters=k, random_state=42, n_init=10)\n",
    "kmeans.fit(data.drop(columns=['Cluster', 'PCA1', 'PCA2']))"
   ]
  },
  {
   "cell_type": "code",
   "execution_count": 11,
   "metadata": {
    "ExecuteTime": {
     "end_time": "2025-01-16T14:48:31.968017Z",
     "start_time": "2025-01-16T14:48:31.962138Z"
    }
   },
   "outputs": [],
   "source": [
    "# Create a DataFrame for cluster centroids\n",
    "centroid_df = pd.DataFrame(kmeans.cluster_centers_, columns=data.drop(columns=['Cluster', 'PCA1', 'PCA2']).columns)\n",
    "centroid_df['Cluster'] = range(k)\n",
    "# print(centroid_df)"
   ]
  },
  {
   "cell_type": "code",
   "execution_count": 12,
   "metadata": {
    "ExecuteTime": {
     "end_time": "2025-01-16T14:48:31.998695Z",
     "start_time": "2025-01-16T14:48:31.969660Z"
    }
   },
   "outputs": [
    {
     "data": {
      "text/html": [
       "<div>\n",
       "<style scoped>\n",
       "    .dataframe tbody tr th:only-of-type {\n",
       "        vertical-align: middle;\n",
       "    }\n",
       "\n",
       "    .dataframe tbody tr th {\n",
       "        vertical-align: top;\n",
       "    }\n",
       "\n",
       "    .dataframe thead th {\n",
       "        text-align: right;\n",
       "    }\n",
       "</style>\n",
       "<table border=\"1\" class=\"dataframe\">\n",
       "  <thead>\n",
       "    <tr style=\"text-align: right;\">\n",
       "      <th></th>\n",
       "      <th>Age</th>\n",
       "      <th>Total Spend</th>\n",
       "      <th>Items Purchased</th>\n",
       "      <th>Average Rating</th>\n",
       "      <th>Discount Applied</th>\n",
       "      <th>Days Since Last Purchase</th>\n",
       "      <th>Satisfaction Level</th>\n",
       "      <th>New_York_Young_Adults</th>\n",
       "      <th>New_York_Middle-aged_Adults</th>\n",
       "      <th>Los_Angeles_Young_Adults</th>\n",
       "      <th>...</th>\n",
       "      <th>City_Chicago</th>\n",
       "      <th>City_Houston</th>\n",
       "      <th>City_Los Angeles</th>\n",
       "      <th>City_Miami</th>\n",
       "      <th>City_New York</th>\n",
       "      <th>City_San Francisco</th>\n",
       "      <th>Membership Type_Bronze</th>\n",
       "      <th>Membership Type_Gold</th>\n",
       "      <th>Membership Type_Silver</th>\n",
       "      <th>Cluster</th>\n",
       "    </tr>\n",
       "  </thead>\n",
       "  <tbody>\n",
       "    <tr>\n",
       "      <th>0</th>\n",
       "      <td>0.629817</td>\n",
       "      <td>0.032538</td>\n",
       "      <td>0.040640</td>\n",
       "      <td>0.101633</td>\n",
       "      <td>0.0</td>\n",
       "      <td>0.254789</td>\n",
       "      <td>0.034483</td>\n",
       "      <td>-2.775558e-17</td>\n",
       "      <td>4.163336e-17</td>\n",
       "      <td>-2.168404e-18</td>\n",
       "      <td>...</td>\n",
       "      <td>1.387779e-16</td>\n",
       "      <td>1.000000e+00</td>\n",
       "      <td>1.387779e-16</td>\n",
       "      <td>1.387779e-16</td>\n",
       "      <td>1.387779e-16</td>\n",
       "      <td>1.387779e-16</td>\n",
       "      <td>1.000000e+00</td>\n",
       "      <td>-1.665335e-16</td>\n",
       "      <td>-1.665335e-16</td>\n",
       "      <td>0</td>\n",
       "    </tr>\n",
       "    <tr>\n",
       "      <th>1</th>\n",
       "      <td>0.183570</td>\n",
       "      <td>0.945617</td>\n",
       "      <td>0.928571</td>\n",
       "      <td>0.951906</td>\n",
       "      <td>0.0</td>\n",
       "      <td>0.040230</td>\n",
       "      <td>0.333333</td>\n",
       "      <td>-2.775558e-17</td>\n",
       "      <td>4.163336e-17</td>\n",
       "      <td>-2.602085e-18</td>\n",
       "      <td>...</td>\n",
       "      <td>1.387779e-16</td>\n",
       "      <td>1.387779e-16</td>\n",
       "      <td>1.387779e-16</td>\n",
       "      <td>1.387779e-16</td>\n",
       "      <td>1.387779e-16</td>\n",
       "      <td>1.000000e+00</td>\n",
       "      <td>2.775558e-16</td>\n",
       "      <td>1.000000e+00</td>\n",
       "      <td>-1.665335e-16</td>\n",
       "      <td>1</td>\n",
       "    </tr>\n",
       "    <tr>\n",
       "      <th>2</th>\n",
       "      <td>0.477567</td>\n",
       "      <td>0.355802</td>\n",
       "      <td>0.334140</td>\n",
       "      <td>0.617306</td>\n",
       "      <td>0.0</td>\n",
       "      <td>0.116133</td>\n",
       "      <td>0.045198</td>\n",
       "      <td>-4.163336e-17</td>\n",
       "      <td>2.775558e-17</td>\n",
       "      <td>1.694915e-02</td>\n",
       "      <td>...</td>\n",
       "      <td>1.387779e-16</td>\n",
       "      <td>1.387779e-16</td>\n",
       "      <td>1.000000e+00</td>\n",
       "      <td>1.387779e-16</td>\n",
       "      <td>1.387779e-16</td>\n",
       "      <td>1.387779e-16</td>\n",
       "      <td>2.775558e-16</td>\n",
       "      <td>-1.110223e-16</td>\n",
       "      <td>1.000000e+00</td>\n",
       "      <td>2</td>\n",
       "    </tr>\n",
       "    <tr>\n",
       "      <th>3</th>\n",
       "      <td>0.277168</td>\n",
       "      <td>0.679920</td>\n",
       "      <td>0.590799</td>\n",
       "      <td>0.812667</td>\n",
       "      <td>1.0</td>\n",
       "      <td>0.288763</td>\n",
       "      <td>0.333333</td>\n",
       "      <td>4.237288e-01</td>\n",
       "      <td>5.762712e-01</td>\n",
       "      <td>-2.168404e-18</td>\n",
       "      <td>...</td>\n",
       "      <td>1.387779e-16</td>\n",
       "      <td>1.387779e-16</td>\n",
       "      <td>1.387779e-16</td>\n",
       "      <td>1.387779e-16</td>\n",
       "      <td>1.000000e+00</td>\n",
       "      <td>1.387779e-16</td>\n",
       "      <td>2.775558e-16</td>\n",
       "      <td>1.000000e+00</td>\n",
       "      <td>-1.110223e-16</td>\n",
       "      <td>3</td>\n",
       "    </tr>\n",
       "    <tr>\n",
       "      <th>4</th>\n",
       "      <td>0.942191</td>\n",
       "      <td>0.080305</td>\n",
       "      <td>0.172414</td>\n",
       "      <td>0.240472</td>\n",
       "      <td>1.0</td>\n",
       "      <td>0.582695</td>\n",
       "      <td>0.666667</td>\n",
       "      <td>-2.775558e-17</td>\n",
       "      <td>4.163336e-17</td>\n",
       "      <td>-2.168404e-18</td>\n",
       "      <td>...</td>\n",
       "      <td>1.000000e+00</td>\n",
       "      <td>1.387779e-16</td>\n",
       "      <td>1.387779e-16</td>\n",
       "      <td>1.387779e-16</td>\n",
       "      <td>1.387779e-16</td>\n",
       "      <td>1.387779e-16</td>\n",
       "      <td>1.000000e+00</td>\n",
       "      <td>-1.665335e-16</td>\n",
       "      <td>-1.665335e-16</td>\n",
       "      <td>4</td>\n",
       "    </tr>\n",
       "  </tbody>\n",
       "</table>\n",
       "<p>5 rows × 31 columns</p>\n",
       "</div>"
      ],
      "text/plain": [
       "        Age  Total Spend  Items Purchased  Average Rating  Discount Applied  \\\n",
       "0  0.629817     0.032538         0.040640        0.101633               0.0   \n",
       "1  0.183570     0.945617         0.928571        0.951906               0.0   \n",
       "2  0.477567     0.355802         0.334140        0.617306               0.0   \n",
       "3  0.277168     0.679920         0.590799        0.812667               1.0   \n",
       "4  0.942191     0.080305         0.172414        0.240472               1.0   \n",
       "\n",
       "   Days Since Last Purchase  Satisfaction Level  New_York_Young_Adults  \\\n",
       "0                  0.254789            0.034483          -2.775558e-17   \n",
       "1                  0.040230            0.333333          -2.775558e-17   \n",
       "2                  0.116133            0.045198          -4.163336e-17   \n",
       "3                  0.288763            0.333333           4.237288e-01   \n",
       "4                  0.582695            0.666667          -2.775558e-17   \n",
       "\n",
       "   New_York_Middle-aged_Adults  Los_Angeles_Young_Adults  ...  City_Chicago  \\\n",
       "0                 4.163336e-17             -2.168404e-18  ...  1.387779e-16   \n",
       "1                 4.163336e-17             -2.602085e-18  ...  1.387779e-16   \n",
       "2                 2.775558e-17              1.694915e-02  ...  1.387779e-16   \n",
       "3                 5.762712e-01             -2.168404e-18  ...  1.387779e-16   \n",
       "4                 4.163336e-17             -2.168404e-18  ...  1.000000e+00   \n",
       "\n",
       "   City_Houston  City_Los Angeles    City_Miami  City_New York  \\\n",
       "0  1.000000e+00      1.387779e-16  1.387779e-16   1.387779e-16   \n",
       "1  1.387779e-16      1.387779e-16  1.387779e-16   1.387779e-16   \n",
       "2  1.387779e-16      1.000000e+00  1.387779e-16   1.387779e-16   \n",
       "3  1.387779e-16      1.387779e-16  1.387779e-16   1.000000e+00   \n",
       "4  1.387779e-16      1.387779e-16  1.387779e-16   1.387779e-16   \n",
       "\n",
       "   City_San Francisco  Membership Type_Bronze  Membership Type_Gold  \\\n",
       "0        1.387779e-16            1.000000e+00         -1.665335e-16   \n",
       "1        1.000000e+00            2.775558e-16          1.000000e+00   \n",
       "2        1.387779e-16            2.775558e-16         -1.110223e-16   \n",
       "3        1.387779e-16            2.775558e-16          1.000000e+00   \n",
       "4        1.387779e-16            1.000000e+00         -1.665335e-16   \n",
       "\n",
       "   Membership Type_Silver  Cluster  \n",
       "0           -1.665335e-16        0  \n",
       "1           -1.665335e-16        1  \n",
       "2            1.000000e+00        2  \n",
       "3           -1.110223e-16        3  \n",
       "4           -1.665335e-16        4  \n",
       "\n",
       "[5 rows x 31 columns]"
      ]
     },
     "execution_count": 12,
     "metadata": {},
     "output_type": "execute_result"
    }
   ],
   "source": [
    "centroid_df.head()"
   ]
  },
  {
   "cell_type": "code",
   "execution_count": 13,
   "metadata": {
    "ExecuteTime": {
     "end_time": "2025-01-16T14:48:32.194957Z",
     "start_time": "2025-01-16T14:48:31.998695Z"
    }
   },
   "outputs": [
    {
     "data": {
      "image/png": "[encoded data removed]",
      "text/plain": [
       "<Figure size 864x432 with 1 Axes>"
      ]
     },
     "metadata": {
      "needs_background": "light"
     },
     "output_type": "display_data"
    }
   ],
   "source": [
    "# Boxplot for a feature by cluster\n",
    "import seaborn as sns\n",
    "\n",
    "plt.figure(figsize=(12, 6))\n",
    "sns.boxplot(x='Cluster', y='Total Spend', data=data)\n",
    "plt.title('Total Spend Distribution by Cluster')\n",
    "plt.show()"
   ]
  },
  {
   "cell_type": "code",
   "execution_count": null,
   "metadata": {},
   "outputs": [],
   "source": []
  }
 ],
 "metadata": {
  "kernelspec": {
   "display_name": "Python 3",
   "language": "python",
   "name": "python3"
  },
  "language_info": {
   "codemirror_mode": {
    "name": "ipython",
    "version": 3
   },
   "file_extension": ".py",
   "mimetype": "text/x-python",
   "name": "python",
   "nbconvert_exporter": "python",
   "pygments_lexer": "ipython3",
   "version": "3.8.5"
  },
  "toc": {
   "base_numbering": 1,
   "nav_menu": {},
   "number_sections": true,
   "sideBar": true,
   "skip_h1_title": false,
   "title_cell": "Table of Contents",
   "title_sidebar": "Contents",
   "toc_cell": false,
   "toc_position": {},
   "toc_section_display": true,
   "toc_window_display": false
  }
 },
 "nbformat": 4,
 "nbformat_minor": 4
}
